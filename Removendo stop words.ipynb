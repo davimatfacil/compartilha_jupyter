{
 "cells": [
  {
   "cell_type": "markdown",
   "metadata": {},
   "source": [
    "#### Removendo stopwords de uma base de frases\n",
    "\n",
    "###### prof. Davi Rocha"
   ]
  },
  {
   "cell_type": "markdown",
   "metadata": {},
   "source": [
    "Stop words são palavras que não tem significado na nossa análise de dados de texto. No wikipédia há a seguinte definição:"
   ]
  },
  {
   "cell_type": "markdown",
   "metadata": {},
   "source": [
    "\"Na computação, uma palavra vazia (ou stop word, em inglês) é uma palavra que é removida antes ou após o processamento de um texto em linguagem natural.\""
   ]
  },
  {
   "cell_type": "markdown",
   "metadata": {},
   "source": [
    "Será utilizado aqui o pacote **NLTK** do Python que tem várias ferramentas para lidarmos com texto e com processamento de linguagem natural para removermos as stopwords de uma base de dados de frases colocadas manualmente."
   ]
  },
  {
   "cell_type": "code",
   "execution_count": 43,
   "metadata": {},
   "outputs": [],
   "source": [
    "import nltk"
   ]
  },
  {
   "cell_type": "markdown",
   "metadata": {},
   "source": [
    "Vamos agora pegar algumas frases:"
   ]
  },
  {
   "cell_type": "code",
   "execution_count": 44,
   "metadata": {},
   "outputs": [],
   "source": [
    "dados = [('eu sou admirada por muitos'),\n",
    "        ('me sinto completamente amado'),\n",
    "        ('amar e maravilhoso'),\n",
    "        ('estou me sentindo muito animado novamente'),\n",
    "        ('eu estou muito bem hoje'),\n",
    "        ('que belo dia para dirigir um carro novo'),\n",
    "        ('o dia está muito bonito'),\n",
    "        ('estou contente com o resultado do teste que fiz no dia de ontem'),\n",
    "        ('o amor e lindo'),\n",
    "        ('nossa amizade e amor vai durar para sempre'),\n",
    "        ('estou amedrontado'),\n",
    "        ('ele esta me ameacando a dias'),\n",
    "        ('isso me deixa apavorada'),\n",
    "        ('este lugar e apavorante'),\n",
    "        ('se perdermos outro jogo seremos eliminados e isso me deixa com pavor'),\n",
    "        ('tome cuidado com o lobisomem'),\n",
    "        ('se eles descobrirem estamos encrencados'),\n",
    "        ('estou tremendo de medo'),\n",
    "        ('eu tenho muito medo dele'),\n",
    "        ('estou com medo do resultado dos meus testes')]"
   ]
  },
  {
   "cell_type": "code",
   "execution_count": 45,
   "metadata": {},
   "outputs": [
    {
     "name": "stdout",
     "output_type": "stream",
     "text": [
      "['eu sou admirada por muitos', 'me sinto completamente amado', 'amar e maravilhoso', 'estou me sentindo muito animado novamente', 'eu estou muito bem hoje', 'que belo dia para dirigir um carro novo', 'o dia está muito bonito', 'estou contente com o resultado do teste que fiz no dia de ontem', 'o amor e lindo', 'nossa amizade e amor vai durar para sempre', 'estou amedrontado', 'ele esta me ameacando a dias', 'isso me deixa apavorada', 'este lugar e apavorante', 'se perdermos outro jogo seremos eliminados e isso me deixa com pavor', 'tome cuidado com o lobisomem', 'se eles descobrirem estamos encrencados', 'estou tremendo de medo', 'eu tenho muito medo dele', 'estou com medo do resultado dos meus testes']\n"
     ]
    }
   ],
   "source": [
    "print(dados)"
   ]
  },
  {
   "cell_type": "markdown",
   "metadata": {},
   "source": [
    "Vamos agora acessar a base de stopwords do NLTK:"
   ]
  },
  {
   "cell_type": "code",
   "execution_count": 46,
   "metadata": {},
   "outputs": [],
   "source": [
    "stopwordsnltk = nltk.corpus.stopwords.words('portuguese')"
   ]
  },
  {
   "cell_type": "markdown",
   "metadata": {},
   "source": [
    "Vamos verificar essas stopwords:"
   ]
  },
  {
   "cell_type": "code",
   "execution_count": 47,
   "metadata": {},
   "outputs": [
    {
     "name": "stdout",
     "output_type": "stream",
     "text": [
      "['de', 'a', 'o', 'que', 'e', 'é', 'do', 'da', 'em', 'um', 'para', 'com', 'não', 'uma', 'os', 'no', 'se', 'na', 'por', 'mais', 'as', 'dos', 'como', 'mas', 'ao', 'ele', 'das', 'à', 'seu', 'sua', 'ou', 'quando', 'muito', 'nos', 'já', 'eu', 'também', 'só', 'pelo', 'pela', 'até', 'isso', 'ela', 'entre', 'depois', 'sem', 'mesmo', 'aos', 'seus', 'quem', 'nas', 'me', 'esse', 'eles', 'você', 'essa', 'num', 'nem', 'suas', 'meu', 'às', 'minha', 'numa', 'pelos', 'elas', 'qual', 'nós', 'lhe', 'deles', 'essas', 'esses', 'pelas', 'este', 'dele', 'tu', 'te', 'vocês', 'vos', 'lhes', 'meus', 'minhas', 'teu', 'tua', 'teus', 'tuas', 'nosso', 'nossa', 'nossos', 'nossas', 'dela', 'delas', 'esta', 'estes', 'estas', 'aquele', 'aquela', 'aqueles', 'aquelas', 'isto', 'aquilo', 'estou', 'está', 'estamos', 'estão', 'estive', 'esteve', 'estivemos', 'estiveram', 'estava', 'estávamos', 'estavam', 'estivera', 'estivéramos', 'esteja', 'estejamos', 'estejam', 'estivesse', 'estivéssemos', 'estivessem', 'estiver', 'estivermos', 'estiverem', 'hei', 'há', 'havemos', 'hão', 'houve', 'houvemos', 'houveram', 'houvera', 'houvéramos', 'haja', 'hajamos', 'hajam', 'houvesse', 'houvéssemos', 'houvessem', 'houver', 'houvermos', 'houverem', 'houverei', 'houverá', 'houveremos', 'houverão', 'houveria', 'houveríamos', 'houveriam', 'sou', 'somos', 'são', 'era', 'éramos', 'eram', 'fui', 'foi', 'fomos', 'foram', 'fora', 'fôramos', 'seja', 'sejamos', 'sejam', 'fosse', 'fôssemos', 'fossem', 'for', 'formos', 'forem', 'serei', 'será', 'seremos', 'serão', 'seria', 'seríamos', 'seriam', 'tenho', 'tem', 'temos', 'tém', 'tinha', 'tínhamos', 'tinham', 'tive', 'teve', 'tivemos', 'tiveram', 'tivera', 'tivéramos', 'tenha', 'tenhamos', 'tenham', 'tivesse', 'tivéssemos', 'tivessem', 'tiver', 'tivermos', 'tiverem', 'terei', 'terá', 'teremos', 'terão', 'teria', 'teríamos', 'teriam']\n"
     ]
    }
   ],
   "source": [
    "print(stopwordsnltk)"
   ]
  },
  {
   "cell_type": "markdown",
   "metadata": {},
   "source": [
    "Vamos agora remover as stopwords da nossa base de frases. Para isso vamos definir uma função que realizará esse trabalho:"
   ]
  },
  {
   "cell_type": "code",
   "execution_count": 48,
   "metadata": {},
   "outputs": [],
   "source": [
    "def remove_stop_words(texto):\n",
    "    frases=[]\n",
    "    for palavras in texto:\n",
    "        sem_stop_word=[p for p in palavras.split() if p not in stopwordsnltk]\n",
    "        frases.append(sem_stop_word)\n",
    "    return frases"
   ]
  },
  {
   "cell_type": "markdown",
   "metadata": {},
   "source": [
    "Vamos agora aplicar a funcão que remove stopwords na nossa base de dados de frases."
   ]
  },
  {
   "cell_type": "code",
   "execution_count": 49,
   "metadata": {},
   "outputs": [
    {
     "name": "stdout",
     "output_type": "stream",
     "text": [
      "[['admirada', 'muitos'], ['sinto', 'completamente', 'amado'], ['amar', 'maravilhoso'], ['sentindo', 'animado', 'novamente'], ['bem', 'hoje'], ['belo', 'dia', 'dirigir', 'carro', 'novo'], ['dia', 'bonito'], ['contente', 'resultado', 'teste', 'fiz', 'dia', 'ontem'], ['amor', 'lindo'], ['amizade', 'amor', 'vai', 'durar', 'sempre'], ['amedrontado'], ['ameacando', 'dias'], ['deixa', 'apavorada'], ['lugar', 'apavorante'], ['perdermos', 'outro', 'jogo', 'eliminados', 'deixa', 'pavor'], ['tome', 'cuidado', 'lobisomem'], ['descobrirem', 'encrencados'], ['tremendo', 'medo'], ['medo'], ['medo', 'resultado', 'testes']]\n"
     ]
    }
   ],
   "source": [
    "print(remove_stop_words(dados))"
   ]
  },
  {
   "cell_type": "markdown",
   "metadata": {},
   "source": [
    "Observe que a função funcionou muito bem e retornou as frases sem as stopwords."
   ]
  },
  {
   "cell_type": "markdown",
   "metadata": {},
   "source": [
    "Esse é geralmente o primeiro passo para uma análise de dados de texto. \n",
    "Uma observação importante é que o NLTK não tem todas as stopwords da lingua portuguesa, logo se após usar o NLTK ainda houveram stopwords você pode retirar acrescentando essas stopwords na lista \"**stopwordsnltk**\""
   ]
  },
  {
   "cell_type": "markdown",
   "metadata": {},
   "source": [
    "O próximo passo de pré-processamento seria deixar as palavras somente com os seus radicais para diminuir a sua dimensionalidade."
   ]
  },
  {
   "cell_type": "markdown",
   "metadata": {},
   "source": [
    "Era isso!\n",
    "**Keep calm and analysing data!**"
   ]
  }
 ],
 "metadata": {
  "kernelspec": {
   "display_name": "Python 3",
   "language": "python",
   "name": "python3"
  },
  "language_info": {
   "codemirror_mode": {
    "name": "ipython",
    "version": 3
   },
   "file_extension": ".py",
   "mimetype": "text/x-python",
   "name": "python",
   "nbconvert_exporter": "python",
   "pygments_lexer": "ipython3",
   "version": "3.7.4"
  }
 },
 "nbformat": 4,
 "nbformat_minor": 2
}
