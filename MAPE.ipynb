{
 "cells": [
  {
   "cell_type": "markdown",
   "id": "adcea9c7",
   "metadata": {},
   "source": [
    "##### prof. Davi Rocha"
   ]
  },
  {
   "cell_type": "markdown",
   "id": "e1a69233",
   "metadata": {},
   "source": [
    "#### Conceitos Estatísticos :\n",
    "##### Erro percentual médio absoluto (MAPE)"
   ]
  },
  {
   "cell_type": "markdown",
   "id": "853da42e",
   "metadata": {},
   "source": [
    "##### MAPE\n",
    "\n",
    "Quando fazemos um modelo para  previsão usando séries temporais precisamos medir a precisão dessa previsão.\n",
    "\n",
    "Uma forma de fazer isso é usar o MAPE.\n",
    "\n",
    "O MAPE(Mean Absolute Percentage Error), ou em tradução livre *erro percentual absoluto médio*."
   ]
  },
  {
   "cell_type": "markdown",
   "id": "ac94ab46",
   "metadata": {},
   "source": [
    "$$ MAPE = \\frac{1}{n} * Σ(\\frac{|Valor Real – Previsto|} {|Valor Real|}) * 100 $$"
   ]
  },
  {
   "cell_type": "markdown",
   "id": "b1ffdeb2",
   "metadata": {},
   "source": [
    "Onde:\n",
    "\n",
    "**- Σ - indica a “soma”**\n",
    "\n",
    "**- n - indica o tamanho da amostra**\n",
    "\n",
    "**- ValorReal - indica o valor real dos dados**\n",
    "\n",
    "**- Previsto - indica o valor dos dados previstos**"
   ]
  },
  {
   "cell_type": "markdown",
   "id": "b40db555",
   "metadata": {},
   "source": [
    "#### Por que MAPE?\n",
    "\n",
    "MAPE é um dos métodos mais fáceis de explicar para o gerente ou diretor do negócio. Suponha que o valor MAPE de um modelo específico seja 5%,isso indica que a **diferença média(em módulo)** entre o valor previsto e o valor original é 5%.\n"
   ]
  },
  {
   "cell_type": "markdown",
   "id": "4e96f28f",
   "metadata": {},
   "source": [
    "#### Como calcular\n",
    "\n",
    "Vamos criar um conjunto de dados no formato de um data frame com uma simulação de valores reais e previstos\n"
   ]
  },
  {
   "cell_type": "code",
   "execution_count": 1,
   "id": "5e5e8158",
   "metadata": {},
   "outputs": [],
   "source": [
    "### import numpy e pandas\n",
    "import numpy as np\n",
    "import pandas as pd"
   ]
  },
  {
   "cell_type": "markdown",
   "id": "941957ef",
   "metadata": {},
   "source": [
    "###### Criação do conjunto de dados"
   ]
  },
  {
   "cell_type": "code",
   "execution_count": 5,
   "id": "dd38b916",
   "metadata": {},
   "outputs": [],
   "source": [
    "dados= pd.DataFrame({'ValorReal':np.array([44, 47, 34, 47, 58, 48, 46, 53, 32, 37, 26, 24]),\\\n",
    "                     'ValorPrevisto':  np.array([44, 40, 46, 43, 46, 58, 45, 44, 53, 30, 32, 23])})"
   ]
  },
  {
   "cell_type": "markdown",
   "id": "8a55903c",
   "metadata": {},
   "source": [
    "###### Visualizando os dados"
   ]
  },
  {
   "cell_type": "code",
   "execution_count": 7,
   "id": "56a46ccf",
   "metadata": {},
   "outputs": [
    {
     "data": {
      "text/html": [
       "<div>\n",
       "<style scoped>\n",
       "    .dataframe tbody tr th:only-of-type {\n",
       "        vertical-align: middle;\n",
       "    }\n",
       "\n",
       "    .dataframe tbody tr th {\n",
       "        vertical-align: top;\n",
       "    }\n",
       "\n",
       "    .dataframe thead th {\n",
       "        text-align: right;\n",
       "    }\n",
       "</style>\n",
       "<table border=\"1\" class=\"dataframe\">\n",
       "  <thead>\n",
       "    <tr style=\"text-align: right;\">\n",
       "      <th></th>\n",
       "      <th>ValorReal</th>\n",
       "      <th>ValorPrevisto</th>\n",
       "    </tr>\n",
       "  </thead>\n",
       "  <tbody>\n",
       "    <tr>\n",
       "      <th>0</th>\n",
       "      <td>44</td>\n",
       "      <td>44</td>\n",
       "    </tr>\n",
       "    <tr>\n",
       "      <th>1</th>\n",
       "      <td>47</td>\n",
       "      <td>40</td>\n",
       "    </tr>\n",
       "    <tr>\n",
       "      <th>2</th>\n",
       "      <td>34</td>\n",
       "      <td>46</td>\n",
       "    </tr>\n",
       "    <tr>\n",
       "      <th>3</th>\n",
       "      <td>47</td>\n",
       "      <td>43</td>\n",
       "    </tr>\n",
       "    <tr>\n",
       "      <th>4</th>\n",
       "      <td>58</td>\n",
       "      <td>46</td>\n",
       "    </tr>\n",
       "    <tr>\n",
       "      <th>5</th>\n",
       "      <td>48</td>\n",
       "      <td>58</td>\n",
       "    </tr>\n",
       "    <tr>\n",
       "      <th>6</th>\n",
       "      <td>46</td>\n",
       "      <td>45</td>\n",
       "    </tr>\n",
       "    <tr>\n",
       "      <th>7</th>\n",
       "      <td>53</td>\n",
       "      <td>44</td>\n",
       "    </tr>\n",
       "    <tr>\n",
       "      <th>8</th>\n",
       "      <td>32</td>\n",
       "      <td>53</td>\n",
       "    </tr>\n",
       "    <tr>\n",
       "      <th>9</th>\n",
       "      <td>37</td>\n",
       "      <td>30</td>\n",
       "    </tr>\n",
       "    <tr>\n",
       "      <th>10</th>\n",
       "      <td>26</td>\n",
       "      <td>32</td>\n",
       "    </tr>\n",
       "    <tr>\n",
       "      <th>11</th>\n",
       "      <td>24</td>\n",
       "      <td>23</td>\n",
       "    </tr>\n",
       "  </tbody>\n",
       "</table>\n",
       "</div>"
      ],
      "text/plain": [
       "    ValorReal  ValorPrevisto\n",
       "0          44             44\n",
       "1          47             40\n",
       "2          34             46\n",
       "3          47             43\n",
       "4          58             46\n",
       "5          48             58\n",
       "6          46             45\n",
       "7          53             44\n",
       "8          32             53\n",
       "9          37             30\n",
       "10         26             32\n",
       "11         24             23"
      ]
     },
     "execution_count": 7,
     "metadata": {},
     "output_type": "execute_result"
    }
   ],
   "source": [
    "dados"
   ]
  },
  {
   "cell_type": "markdown",
   "id": "6e8353a1",
   "metadata": {},
   "source": [
    "Agora podemos calcular MAPE:"
   ]
  },
  {
   "cell_type": "code",
   "execution_count": 16,
   "id": "b02c90e0",
   "metadata": {},
   "outputs": [],
   "source": [
    "MAPE=np.mean(np.abs((dados['ValorPrevisto'] - dados['ValorReal'])/dados['ValorReal']))*100"
   ]
  },
  {
   "cell_type": "code",
   "execution_count": 17,
   "id": "73d95fc5",
   "metadata": {},
   "outputs": [
    {
     "name": "stdout",
     "output_type": "stream",
     "text": [
      "O valor do Mape é: 19.26 %\n"
     ]
    }
   ],
   "source": [
    "print('O valor do Mape é:',round(MAPE,2), '%')"
   ]
  },
  {
   "cell_type": "markdown",
   "id": "d787f7e9",
   "metadata": {},
   "source": [
    "Era isso"
   ]
  },
  {
   "cell_type": "markdown",
   "id": "f32771ae",
   "metadata": {},
   "source": []
  },
  {
   "cell_type": "code",
   "execution_count": null,
   "id": "1eb73888",
   "metadata": {},
   "outputs": [],
   "source": []
  }
 ],
 "metadata": {
  "kernelspec": {
   "display_name": "Python 3",
   "language": "python",
   "name": "python3"
  },
  "language_info": {
   "codemirror_mode": {
    "name": "ipython",
    "version": 3
   },
   "file_extension": ".py",
   "mimetype": "text/x-python",
   "name": "python",
   "nbconvert_exporter": "python",
   "pygments_lexer": "ipython3",
   "version": "3.8.8"
  }
 },
 "nbformat": 4,
 "nbformat_minor": 5
}
