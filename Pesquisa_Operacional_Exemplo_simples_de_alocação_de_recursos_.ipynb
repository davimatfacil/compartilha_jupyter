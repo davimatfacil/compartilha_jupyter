{
  "nbformat": 4,
  "nbformat_minor": 0,
  "metadata": {
    "colab": {
      "provenance": [],
      "toc_visible": true,
      "authorship_tag": "ABX9TyN6CExpWSm/LfBv5zUlHBB4"
    },
    "kernelspec": {
      "name": "python3",
      "display_name": "Python 3"
    },
    "language_info": {
      "name": "python"
    }
  },
  "cells": [
    {
      "cell_type": "markdown",
      "source": [
        "### prof. Davi Rocha da Silva\n",
        "\n",
        "### Exemplo de Aplicação de Pesquisa Operacional usando Python: Programação Linear e Inteira:\n"
      ],
      "metadata": {
        "id": "igsv8x0twh5V"
      }
    },
    {
      "cell_type": "code",
      "source": [],
      "metadata": {
        "id": "oZB8gCK3wa2M"
      },
      "execution_count": null,
      "outputs": []
    },
    {
      "cell_type": "markdown",
      "source": [
        "#### Problema:"
      ],
      "metadata": {
        "id": "vXt-aenhywOO"
      }
    },
    {
      "cell_type": "markdown",
      "source": [
        "Vamos aqui ajudar no planejamento da produção em um fabricante de vidro. Este fabricante produz apenas copos de vinho e cerveja. Os dados do fabrivcante foram\n",
        "\n",
        "- tem uma capacidade máxima de produção de 60 horas\n",
        "- cada lote de copos de vinho e cerveja leva 6 e 5 horas, respectivamente\n",
        "- o armazém tem uma capacidade máxima de 150 espaços de rack\n",
        "- cada lote de copos de vinho e cerveja ocupa 10 e 20 espaços, respectivamente\n",
        "- o equipamento de produção só pode fazer lotes completos, sem lotes parciais"
      ],
      "metadata": {
        "id": "KnVfdmNKwTY9"
      }
    },
    {
      "cell_type": "markdown",
      "source": [
        "Além disso, só temos pedidos de 6 lotes de taças de vinho. Portanto, não queremos produzir mais do que isso. Cada lote de taças de vinho gera um lucro de 5 e a cerveja de 4,5.\n",
        "\n",
        "O objetivo é maximizar o lucro para o fabricante."
      ],
      "metadata": {
        "id": "TfzO2mkYxCR3"
      }
    },
    {
      "cell_type": "markdown",
      "source": [
        "#### Modelagem Matemática:"
      ],
      "metadata": {
        "id": "uPFymTO-YhmA"
      }
    },
    {
      "cell_type": "markdown",
      "source": [
        "esboço do modelo:\n",
        "\n",
        "$x_1$- quantidade(lotes) de copos de vinho\n",
        "\n",
        "$x_2$ - quantidade(lotes) de copos de cerveja\n",
        "\n",
        "$6x1+ 5x2 <= 60$ : restrição de tempo\n",
        "\n",
        "$10x1+ 20x2 <= 150$ : restrição de espaço\n",
        "\n",
        "$x1<=6$ : restrição de pedidos\n",
        "\n",
        "max $Lucro =5x1 +4.5x2$"
      ],
      "metadata": {
        "id": "N2FxLkiPxN4v"
      }
    },
    {
      "cell_type": "code",
      "source": [],
      "metadata": {
        "id": "yTzdn5kh54DU"
      },
      "execution_count": null,
      "outputs": []
    },
    {
      "cell_type": "code",
      "source": [
        "\n"
      ],
      "metadata": {
        "id": "UAnZ_C897VDw"
      },
      "execution_count": null,
      "outputs": []
    },
    {
      "cell_type": "markdown",
      "source": [
        "#### Intalação das bibliotecas utilzadas:"
      ],
      "metadata": {
        "id": "uirUmRh6YtV8"
      }
    },
    {
      "cell_type": "code",
      "source": [
        "!pip install pulp"
      ],
      "metadata": {
        "colab": {
          "base_uri": "https://localhost:8080/"
        },
        "id": "mMoWvMk1yhcX",
        "outputId": "2e787386-f280-4ee5-ea98-b834507407f9"
      },
      "execution_count": null,
      "outputs": [
        {
          "output_type": "stream",
          "name": "stdout",
          "text": [
            "Collecting pulp\n",
            "  Downloading PuLP-2.7.0-py3-none-any.whl (14.3 MB)\n",
            "\u001b[2K     \u001b[90m━━━━━━━━━━━━━━━━━━━━━━━━━━━━━━━━━━━━━━━━\u001b[0m \u001b[32m14.3/14.3 MB\u001b[0m \u001b[31m43.3 MB/s\u001b[0m eta \u001b[36m0:00:00\u001b[0m\n",
            "\u001b[?25hInstalling collected packages: pulp\n",
            "Successfully installed pulp-2.7.0\n"
          ]
        }
      ]
    },
    {
      "cell_type": "code",
      "source": [
        "#pacote usado:\n",
        "from pulp import *"
      ],
      "metadata": {
        "id": "SKpDzkPkw8mO"
      },
      "execution_count": null,
      "outputs": []
    },
    {
      "cell_type": "markdown",
      "source": [
        "#### Implementação do Modelo em Python:"
      ],
      "metadata": {
        "id": "kx-b0eLnY4V2"
      }
    },
    {
      "cell_type": "code",
      "source": [
        "#Vamos agora imputar os parametros do modelo\n",
        "#inicializando a classe\n",
        "modelo = LpProblem(\"Maximize os lucros da Glass Co.\", LpMaximize) # aqui foi definido o tipo de problema"
      ],
      "metadata": {
        "colab": {
          "base_uri": "https://localhost:8080/"
        },
        "id": "rgTeExEmxJWw",
        "outputId": "9136172e-7e3f-4936-c2f4-12bf1fa27326"
      },
      "execution_count": null,
      "outputs": [
        {
          "output_type": "stream",
          "name": "stderr",
          "text": [
            "/usr/local/lib/python3.10/dist-packages/pulp/pulp.py:1352: UserWarning: Spaces are not permitted in the name. Converted to '_'\n",
            "  warnings.warn(\"Spaces are not permitted in the name. Converted to '_'\")\n"
          ]
        }
      ]
    },
    {
      "cell_type": "code",
      "source": [
        "#variaveis de decisao\n",
        "vinho =LpVariable('Vinho',lowBound=0,upBound=None, cat = 'Integer')\n",
        "cerveja = LpVariable('Cerveja', lowBound= 0, upBound=None, cat='Integer')"
      ],
      "metadata": {
        "id": "sNfM92KV8Jp0"
      },
      "execution_count": null,
      "outputs": []
    },
    {
      "cell_type": "code",
      "source": [
        "#definir a função objetivo\n",
        "modelo +=  5*vinho + 4.5*cerveja"
      ],
      "metadata": {
        "id": "rGQBWWvE8KIk"
      },
      "execution_count": null,
      "outputs": []
    },
    {
      "cell_type": "code",
      "source": [
        "#restrições\n",
        "modelo += 6*vinho+ 5*cerveja <= 60\n",
        "\n",
        "modelo += 10*vinho+ 20*cerveja <= 150\n",
        "\n",
        "modelo += vinho<=6"
      ],
      "metadata": {
        "id": "XpOAJmNS8NYE"
      },
      "execution_count": null,
      "outputs": []
    },
    {
      "cell_type": "code",
      "source": [
        "#solução:\n",
        "\n",
        "modelo.solve()"
      ],
      "metadata": {
        "colab": {
          "base_uri": "https://localhost:8080/"
        },
        "id": "Qm9cQYmY8Uck",
        "outputId": "8db00527-9e96-4575-fc7b-b7b977c14361"
      },
      "execution_count": null,
      "outputs": [
        {
          "output_type": "execute_result",
          "data": {
            "text/plain": [
              "1"
            ]
          },
          "metadata": {},
          "execution_count": 21
        }
      ]
    },
    {
      "cell_type": "code",
      "source": [
        "#Resposta:\n",
        "print(f'Produzirá {vinho.varValue} lotes de vinho')\n",
        "print(f'Produzirá {cerveja.varValue} lotes de cerveja')"
      ],
      "metadata": {
        "colab": {
          "base_uri": "https://localhost:8080/"
        },
        "id": "hZ_tkjKk8XPD",
        "outputId": "8dbd1f08-098e-45ed-9ded-c6da587e691f"
      },
      "execution_count": null,
      "outputs": [
        {
          "output_type": "stream",
          "name": "stdout",
          "text": [
            "Produzirá 6.0 lotes de vinho\n",
            "Produzirá 4.0 lotes de cerveja\n"
          ]
        }
      ]
    },
    {
      "cell_type": "markdown",
      "source": [],
      "metadata": {
        "id": "kvq_ixUQYcgo"
      }
    },
    {
      "cell_type": "markdown",
      "source": [
        "#### Solução:\n",
        "\n",
        "Para otimizar a produção devem ser fabricados 6.0 lotes de vinho e 4.0 lotes de cerveja"
      ],
      "metadata": {
        "id": "IfcVvD0uYeEx"
      }
    },
    {
      "cell_type": "code",
      "source": [
        "5*6+4.5*4"
      ],
      "metadata": {
        "id": "Ua_3hcRW8cvT",
        "colab": {
          "base_uri": "https://localhost:8080/"
        },
        "outputId": "f539988f-a5dd-41e1-dfa3-18a257f6c1a3"
      },
      "execution_count": 1,
      "outputs": [
        {
          "output_type": "execute_result",
          "data": {
            "text/plain": [
              "48.0"
            ]
          },
          "metadata": {},
          "execution_count": 1
        }
      ]
    },
    {
      "cell_type": "code",
      "source": [],
      "metadata": {
        "id": "cTVmB2WfZMLo"
      },
      "execution_count": null,
      "outputs": []
    }
  ]
}