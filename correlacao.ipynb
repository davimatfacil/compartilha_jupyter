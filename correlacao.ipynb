{
 "cells": [
  {
   "cell_type": "markdown",
   "metadata": {},
   "source": [
    "### Como usar correlação no **Python**"
   ]
  },
  {
   "cell_type": "markdown",
   "metadata": {},
   "source": [
    "### Introdução"
   ]
  },
  {
   "cell_type": "markdown",
   "metadata": {},
   "source": [
    "Quando você está analisando um conjunto de dados podem haver vários tipos de relacionamentos entre suas variáveis. Além disso, é importante descobrir e quantificar o grau em que as variáveis em seu conjunto de dados podem depender umas das outras. Esse conhecimento pode ajudá-lo a preparar melhor seus dados para atender às expectativas dos algoritmos de aprendizado de máquina, como a regressão linear, cujo desempenho piora quando tem várias preditoras correlacionadas.\n",
    "\n",
    "Neste breve tutorial, vamos tratar de algund que correlação é o resumo estatístico do relacionamento entre variáveis e como calculá-lo para diferentes tipos de variáveis e relacionamentos.\n",
    "\n",
    "Neste breve tutorial, você aprenderá:\n",
    "\n",
    "* Como calcular uma matriz de covariância para resumir a relação linear entre duas ou mais variáveis.\n",
    "* Como calcular o coeficiente de correlação de Pearson para resumir a relação linear entre duas variáveis.\n",
    "* Como calcular o coeficiente de correlação de Spearman para resumir a relação monotônica entre duas variáveis."
   ]
  },
  {
   "cell_type": "markdown",
   "metadata": {},
   "source": [
    "### Visão geral do tutorial"
   ]
  },
  {
   "cell_type": "markdown",
   "metadata": {},
   "source": [
    "Este tutorial está dividido em 5 partes; eles são:\n",
    "\n",
    "1. O que é correlação?\n",
    "2. Dataset de teste\n",
    "3. Covariância\n",
    "4. Correlação de Pearson\n",
    "5. Correlação de Spearman"
   ]
  },
  {
   "cell_type": "markdown",
   "metadata": {},
   "source": [
    "### O que é correlação?"
   ]
  },
  {
   "cell_type": "markdown",
   "metadata": {},
   "source": [
    "Variáveis dentro de um conjunto de dados podem ser relacionadas por vários motivos.\n",
    "\n",
    "Por exemplo:\n",
    "\n",
    "Uma variável pode causar ou depender dos valores de outra variável.\n",
    "Uma variável pode ser levemente associada a outra variável.\n",
    "Duas variáveis podem depender de uma terceira variável desconhecida.\n",
    "Pode ser útil na análise e modelagem de dados entender melhor as relações entre as variáveis. A relação estatística entre duas variáveis é referida como sua correlação.\n",
    "\n",
    "Uma correlação pode ser positiva, o que significa que ambas as variáveis se movem na mesma direção ou são negativas, o que significa que quando o valor de uma variável aumenta, os valores das outras variáveis diminuem. A correlação também pode ser neural ou zero, o que significa que as variáveis não são relacionadas"
   ]
  },
  {
   "cell_type": "markdown",
   "metadata": {},
   "source": [
    "* Correlação positiva: ambas as variáveis ​​mudam na mesma direção.\n",
    "* Correlação Neutra: Nenhuma relação na mudança das variáveis.\n",
    "* Correlação Negativa: as variáveis ​​mudam em direções opostas."
   ]
  },
  {
   "cell_type": "markdown",
   "metadata": {},
   "source": [
    "O desempenho de alguns algoritmos pode se deteriorar se duas ou mais variáveis estiverem intimamente relacionadas, chamadas de multicolinearidade. Um exemplo é a regressão linear, em que uma das variáveis correlacionadas ofensivas deve ser removida para melhorar a habilidade do modelo.\n",
    "\n",
    "Também podemos estar interessados na correlação entre as variáveis de entrada com a variável de saída para fornecer informações sobre quais variáveis podem ou não ser relevantes como entrada para o desenvolvimento de um modelo."
   ]
  },
  {
   "cell_type": "markdown",
   "metadata": {},
   "source": [
    "A estrutura da relação pode ser conhecida, e pode ser linear, ou podemos não ter ideia se existe uma relação entre duas variáveis ou qual estrutura ela pode tomar. Dependendo do que se sabe sobre o relacionamento e a distribuição das variáveis, diferentes pontuações de correlação podem ser calculadas.\n",
    "\n",
    "Neste tutorial, veremos uma pontuação para variáveis que têm uma distribuição gaussiana e uma relação linear e outra que não assume uma distribuição e relatará qualquer relação monotônica (crescente ou decrescente)."
   ]
  },
  {
   "cell_type": "markdown",
   "metadata": {},
   "source": [
    "### Dataset de teste"
   ]
  },
  {
   "cell_type": "markdown",
   "metadata": {},
   "source": [
    "Antes de analisar os métodos de correlação, vamos definir um conjunto de dados que possamos usar para testar os métodos.\n",
    "\n",
    "Nós vamos gerar 1.000 amostras de duas variáveis ​​com uma forte correlação positiva. A primeira variável será um número aleatório de uma distribuição gaussiana com uma média de 100 e um desvio padrão de 20. A segunda variável será valores da primeira variável com ruído gaussiano adicionado com uma média de 50 e um desvio padrão de 10 ."
   ]
  },
  {
   "cell_type": "markdown",
   "metadata": {},
   "source": [
    "Usaremos a função randn () para gerar valores aleatórios de Gauss com uma média de 0 e um desvio padrão de 1, depois multiplicaremos os resultados pelo nosso próprio desvio padrão e adicionaremos a média para mudar os valores para o intervalo preferido.\n"
   ]
  },
  {
   "cell_type": "markdown",
   "metadata": {},
   "source": [
    "O gerador de números pseudo-aleatórios é propagado para garantir que obtenhamos a mesma amostra de números sempre que o código for executado."
   ]
  },
  {
   "cell_type": "markdown",
   "metadata": {},
   "source": [
    "pacotes necessários:"
   ]
  },
  {
   "cell_type": "code",
   "execution_count": 2,
   "metadata": {},
   "outputs": [],
   "source": [
    "# vamos gerar variaveis relacionadas\n",
    "from numpy import mean\n",
    "from numpy import std\n",
    "from numpy.random import randn\n",
    "from numpy.random import seed\n",
    "from matplotlib import pyplot"
   ]
  },
  {
   "cell_type": "code",
   "execution_count": 3,
   "metadata": {},
   "outputs": [],
   "source": [
    "# geracao de numeros aleatorios. O ssed(1) é util pous garante a mesma semenste de numeros pseudoaleatorios, assim você poderá repsroduzir os meus resultados\n",
    "seed(1)"
   ]
  },
  {
   "cell_type": "code",
   "execution_count": 4,
   "metadata": {},
   "outputs": [],
   "source": [
    "# prepare data\n",
    "data1 = 20 * randn(1000) + 100\n",
    "data2 = data1 + (10 * randn(1000) + 50)"
   ]
  },
  {
   "cell_type": "code",
   "execution_count": 5,
   "metadata": {},
   "outputs": [
    {
     "name": "stdout",
     "output_type": "stream",
     "text": [
      "data1: mean=100.776 stdv=19.620\n",
      "data2: mean=151.050 stdv=22.358\n"
     ]
    }
   ],
   "source": [
    "# summarize\n",
    "print('data1: mean=%.3f stdv=%.3f' % (mean(data1), std(data1)))\n",
    "print('data2: mean=%.3f stdv=%.3f' % (mean(data2), std(data2)))"
   ]
  },
  {
   "cell_type": "code",
   "execution_count": 7,
   "metadata": {},
   "outputs": [
    {
     "data": {
      "text/plain": [
       "Text(0.5,1,'scatter')"
      ]
     },
     "execution_count": 7,
     "metadata": {},
     "output_type": "execute_result"
    },
    {
     "data": {
      "image/png": "[encoded data removed]",
      "text/plain": [
       "<Figure size 432x288 with 1 Axes>"
      ]
     },
     "metadata": {},
     "output_type": "display_data"
    }
   ],
   "source": [
    "# plot- estamos fazendo nosso primeiro scatterplot(grafico de dispersão)\n",
    "pyplot.scatter(data1, data2)\n",
    "pyplot.title('scatter')"
   ]
  },
  {
   "cell_type": "markdown",
   "metadata": {},
   "source": [
    "Um gráfico de dispersão das duas variáveis ​​é criado. Porque planejamos o conjunto de dados, sabemos que existe uma relação entre as duas variáveis. Isso fica claro quando analisamos o gráfico de dispersão gerado, no qual podemos ver uma tendência crescente."
   ]
  },
  {
   "cell_type": "markdown",
   "metadata": {},
   "source": [
    "Antes de olharmos para o cálculo de algumas pontuações de correlação, vamos primeiro olhar para um bloco de construção estatístico importante, chamado covariância."
   ]
  },
  {
   "cell_type": "markdown",
   "metadata": {},
   "source": [
    "#### Covariância"
   ]
  },
  {
   "cell_type": "markdown",
   "metadata": {},
   "source": [
    "\n",
    "As variáveis podem ser relacionadas por um relacionamento linear. Esse é um relacionamento consistentemente aditivo entre as duas amostras de dados.\n",
    "\n",
    "Essa relação pode ser resumida entre duas variáveis, chamada de covariância. É calculado como a média do produto entre os valores de cada amostra, onde os valores foram centralizados (tiveram sua média subtraída).\n",
    "\n",
    "O cálculo da covariância da amostra é o seguinte:"
   ]
  },
  {
   "cell_type": "markdown",
   "metadata": {},
   "source": [
    "cov(X, Y) = (sum (x - mean(X)) * (y - mean(Y))) * 1/(n-1)"
   ]
  },
  {
   "cell_type": "code",
   "execution_count": null,
   "metadata": {},
   "outputs": [],
   "source": []
  }
 ],
 "metadata": {
  "kernelspec": {
   "display_name": "Python 3",
   "language": "python",
   "name": "python3"
  },
  "language_info": {
   "codemirror_mode": {
    "name": "ipython",
    "version": 3
   },
   "file_extension": ".py",
   "mimetype": "text/x-python",
   "name": "python",
   "nbconvert_exporter": "python",
   "pygments_lexer": "ipython3",
   "version": "3.6.5"
  }
 },
 "nbformat": 4,
 "nbformat_minor": 2
}
