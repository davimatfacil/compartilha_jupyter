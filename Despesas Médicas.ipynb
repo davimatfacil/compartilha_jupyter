{
 "cells": [
  {
   "cell_type": "markdown",
   "metadata": {},
   "source": [
    "#### Prof. M.e Davi Rocha"
   ]
  },
  {
   "cell_type": "markdown",
   "metadata": {},
   "source": [
    "## Projeto - Prevendo Despesas Médicas usando Machine Learning"
   ]
  },
  {
   "cell_type": "markdown",
   "metadata": {
    "colab_type": "text",
    "id": "aW2NTuYiiRvD"
   },
   "source": [
    "Neste notebook foi realizado as seguintes análises:\n",
    "\n",
    " - respostas a perguntas do cliente em relação ao conjunto de dados que foram respondidas através da análise exploratória e visualização de dados;\n",
    " - preparo do dataset para modelagem preditiva com objetivo de prever o custo de despesas médicas para uma amostra da população de pacientes de um hospital, considerando  as features hábito de fumar, idade, sexo, IMC e região. \n",
    " - criação de dois modelos de previsão, regressão linear e random forest(floresta aleatória)\n",
    "\n"
   ]
  },
  {
   "cell_type": "markdown",
   "metadata": {},
   "source": [
    "Dicionário de Dados:\n",
    "    \n",
    "- idade: idade do paciente\n",
    "\n",
    "- sexo: sexo do paciente (feminino, masculino)\n",
    "\n",
    "- IMC: índice de massa corporal, usando a razão entre altura e peso (idealmente 18,5 a 24,9)\n",
    "\n",
    "- filhos: número de filhos do paciente\n",
    "\n",
    "- fumante: se fuma ou não\n",
    "\n",
    "- região: a área residencial do paciente.\n",
    "\n",
    "- custo_medico_anual: custo médico anual do paciente em uma clínica medica (variável alvo)"
   ]
  },
  {
   "cell_type": "markdown",
   "metadata": {},
   "source": [
    "O cliente deixou algumas perguntas:\n",
    "\n",
    "1) Quais variáveis tem maior correlação com o custo_medico_anual?\n",
    "\n",
    "2) Entre fumantes e não fumantes, qual grupo tem maior custo_medico_anual?\n",
    "\n",
    "3) A proporção de fumantes por sexo é semelhante? \n",
    "\n",
    "4) À medida que a idade do paciente aumenta o que acontece com o custo_medico_anual? Há diferença entre fumantes e não fumantes?"
   ]
  },
  {
   "cell_type": "code",
   "execution_count": 61,
   "metadata": {
    "colab": {
     "base_uri": "https://localhost:8080/",
     "height": 204
    },
    "colab_type": "code",
    "id": "cxldK1uNr5aN",
    "outputId": "9a538b34-44e2-4dab-d355-bf032cdfd243"
   },
   "outputs": [],
   "source": [
    "# Imports\n",
    "import warnings\n",
    "warnings.simplefilter(action='ignore', category=FutureWarning)\n",
    "warnings.filterwarnings(\"ignore\", category=FutureWarning)\n",
    "import numpy as np\n",
    "import pandas as pd\n",
    "import seaborn as sns\n",
    "import matplotlib.pyplot as plt\n",
    "%matplotlib inline"
   ]
  },
  {
   "cell_type": "code",
   "execution_count": 62,
   "metadata": {},
   "outputs": [],
   "source": [
    "# Carregando o dataset\n",
    "dataset = pd.read_csv('dados/custos_seguro.csv')"
   ]
  },
  {
   "cell_type": "code",
   "execution_count": 63,
   "metadata": {},
   "outputs": [
    {
     "data": {
      "text/html": [
       "<div>\n",
       "<style scoped>\n",
       "    .dataframe tbody tr th:only-of-type {\n",
       "        vertical-align: middle;\n",
       "    }\n",
       "\n",
       "    .dataframe tbody tr th {\n",
       "        vertical-align: top;\n",
       "    }\n",
       "\n",
       "    .dataframe thead th {\n",
       "        text-align: right;\n",
       "    }\n",
       "</style>\n",
       "<table border=\"1\" class=\"dataframe\">\n",
       "  <thead>\n",
       "    <tr style=\"text-align: right;\">\n",
       "      <th></th>\n",
       "      <th>idade</th>\n",
       "      <th>sexo</th>\n",
       "      <th>imc</th>\n",
       "      <th>filhos</th>\n",
       "      <th>fumante</th>\n",
       "      <th>regiao</th>\n",
       "      <th>custo_medico_anual</th>\n",
       "    </tr>\n",
       "  </thead>\n",
       "  <tbody>\n",
       "    <tr>\n",
       "      <th>0</th>\n",
       "      <td>19</td>\n",
       "      <td>feminino</td>\n",
       "      <td>27.90</td>\n",
       "      <td>0</td>\n",
       "      <td>yes</td>\n",
       "      <td>sudeste</td>\n",
       "      <td>16884.92400</td>\n",
       "    </tr>\n",
       "    <tr>\n",
       "      <th>1</th>\n",
       "      <td>18</td>\n",
       "      <td>masculino</td>\n",
       "      <td>33.77</td>\n",
       "      <td>1</td>\n",
       "      <td>no</td>\n",
       "      <td>sul</td>\n",
       "      <td>1725.55230</td>\n",
       "    </tr>\n",
       "    <tr>\n",
       "      <th>2</th>\n",
       "      <td>28</td>\n",
       "      <td>masculino</td>\n",
       "      <td>33.00</td>\n",
       "      <td>3</td>\n",
       "      <td>no</td>\n",
       "      <td>sul</td>\n",
       "      <td>4449.46200</td>\n",
       "    </tr>\n",
       "    <tr>\n",
       "      <th>3</th>\n",
       "      <td>33</td>\n",
       "      <td>masculino</td>\n",
       "      <td>NaN</td>\n",
       "      <td>0</td>\n",
       "      <td>no</td>\n",
       "      <td>nordeste</td>\n",
       "      <td>21984.47061</td>\n",
       "    </tr>\n",
       "    <tr>\n",
       "      <th>4</th>\n",
       "      <td>32</td>\n",
       "      <td>masculino</td>\n",
       "      <td>28.88</td>\n",
       "      <td>0</td>\n",
       "      <td>no</td>\n",
       "      <td>nordeste</td>\n",
       "      <td>3866.85520</td>\n",
       "    </tr>\n",
       "  </tbody>\n",
       "</table>\n",
       "</div>"
      ],
      "text/plain": [
       "   idade       sexo    imc  filhos fumante    regiao  custo_medico_anual\n",
       "0     19   feminino  27.90       0     yes   sudeste         16884.92400\n",
       "1     18  masculino  33.77       1      no       sul          1725.55230\n",
       "2     28  masculino  33.00       3      no       sul          4449.46200\n",
       "3     33  masculino    NaN       0      no  nordeste         21984.47061\n",
       "4     32  masculino  28.88       0      no  nordeste          3866.85520"
      ]
     },
     "execution_count": 63,
     "metadata": {},
     "output_type": "execute_result"
    }
   ],
   "source": [
    "# Visualizando alguns registros\n",
    "dataset.head() "
   ]
  },
  {
   "cell_type": "code",
   "execution_count": 64,
   "metadata": {},
   "outputs": [
    {
     "data": {
      "text/plain": [
       "idade                   int64\n",
       "sexo                   object\n",
       "imc                   float64\n",
       "filhos                  int64\n",
       "fumante                object\n",
       "regiao                 object\n",
       "custo_medico_anual    float64\n",
       "dtype: object"
      ]
     },
     "execution_count": 64,
     "metadata": {},
     "output_type": "execute_result"
    }
   ],
   "source": [
    "# Visualizando os tipos de dados\n",
    "dataset.dtypes"
   ]
  },
  {
   "cell_type": "code",
   "execution_count": 65,
   "metadata": {},
   "outputs": [
    {
     "data": {
      "text/plain": [
       "idade                 1338\n",
       "sexo                  1338\n",
       "imc                   1325\n",
       "filhos                1338\n",
       "fumante               1338\n",
       "regiao                1338\n",
       "custo_medico_anual    1338\n",
       "dtype: int64"
      ]
     },
     "execution_count": 65,
     "metadata": {},
     "output_type": "execute_result"
    }
   ],
   "source": [
    "# Visualizando o total de linhas por coluna\n",
    "dataset.count()"
   ]
  },
  {
   "cell_type": "code",
   "execution_count": 66,
   "metadata": {
    "colab": {
     "base_uri": "https://localhost:8080/",
     "height": 34
    },
    "colab_type": "code",
    "id": "ia5e5zBoTAiL",
    "outputId": "4a62b668-034f-47d0-c891-e72ea113fb19"
   },
   "outputs": [
    {
     "data": {
      "text/plain": [
       "imc                   13\n",
       "idade                  0\n",
       "sexo                   0\n",
       "filhos                 0\n",
       "fumante                0\n",
       "regiao                 0\n",
       "custo_medico_anual     0\n",
       "dtype: int64"
      ]
     },
     "execution_count": 66,
     "metadata": {},
     "output_type": "execute_result"
    }
   ],
   "source": [
    "# Verifique se há valores ausentes\n",
    "missing_values = dataset.isnull().sum().sort_values(ascending = False)\n",
    "missing_values"
   ]
  },
  {
   "cell_type": "code",
   "execution_count": 67,
   "metadata": {},
   "outputs": [
    {
     "name": "stdout",
     "output_type": "stream",
     "text": [
      "imc    0.971599\n",
      "dtype: float64 %\n"
     ]
    }
   ],
   "source": [
    "# Checando percentual de valores missing\n",
    "missing_values = missing_values[missing_values > 0]/dataset.shape[0] \n",
    "print(f'{missing_values * 100} %')"
   ]
  },
  {
   "cell_type": "code",
   "execution_count": 68,
   "metadata": {},
   "outputs": [],
   "source": [
    "# Função para o substituir valores nulos\n",
    "def impute_media(df):\n",
    "    return df.fillna(df.mean())"
   ]
  },
  {
   "cell_type": "code",
   "execution_count": 69,
   "metadata": {},
   "outputs": [],
   "source": [
    "# Removendo valores missing\n",
    "dataset.imc = dataset['imc'].transform(impute_media)"
   ]
  },
  {
   "cell_type": "code",
   "execution_count": 70,
   "metadata": {},
   "outputs": [
    {
     "name": "stdout",
     "output_type": "stream",
     "text": [
      "Series([], dtype: float64) %\n"
     ]
    }
   ],
   "source": [
    "# Verifique se há valores ausentes\n",
    "missing_values = dataset.isnull().sum().sort_values(ascending = False)\n",
    "missing_values = missing_values[missing_values > 0]/dataset.shape[0] \n",
    "print(f'{missing_values *100} %')"
   ]
  },
  {
   "cell_type": "code",
   "execution_count": 71,
   "metadata": {},
   "outputs": [],
   "source": [
    "# Convertendo todas as variáveis para o tipo inteiro a fim de calcular as correlações\n",
    "from sklearn.preprocessing import LabelEncoder\n",
    "\n",
    "dataset_transformado = dataset.apply(LabelEncoder().fit_transform)"
   ]
  },
  {
   "cell_type": "code",
   "execution_count": 72,
   "metadata": {},
   "outputs": [
    {
     "data": {
      "text/plain": [
       "idade                 int64\n",
       "sexo                  int32\n",
       "imc                   int64\n",
       "filhos                int64\n",
       "fumante               int32\n",
       "regiao                int32\n",
       "custo_medico_anual    int64\n",
       "dtype: object"
      ]
     },
     "execution_count": 72,
     "metadata": {},
     "output_type": "execute_result"
    }
   ],
   "source": [
    "# Visualizando os tipos de dados\n",
    "dataset_transformado.dtypes"
   ]
  },
  {
   "cell_type": "code",
   "execution_count": 73,
   "metadata": {},
   "outputs": [
    {
     "data": {
      "text/html": [
       "<div>\n",
       "<style scoped>\n",
       "    .dataframe tbody tr th:only-of-type {\n",
       "        vertical-align: middle;\n",
       "    }\n",
       "\n",
       "    .dataframe tbody tr th {\n",
       "        vertical-align: top;\n",
       "    }\n",
       "\n",
       "    .dataframe thead th {\n",
       "        text-align: right;\n",
       "    }\n",
       "</style>\n",
       "<table border=\"1\" class=\"dataframe\">\n",
       "  <thead>\n",
       "    <tr style=\"text-align: right;\">\n",
       "      <th></th>\n",
       "      <th>idade</th>\n",
       "      <th>sexo</th>\n",
       "      <th>imc</th>\n",
       "      <th>filhos</th>\n",
       "      <th>fumante</th>\n",
       "      <th>regiao</th>\n",
       "      <th>custo_medico_anual</th>\n",
       "    </tr>\n",
       "  </thead>\n",
       "  <tbody>\n",
       "    <tr>\n",
       "      <th>0</th>\n",
       "      <td>1</td>\n",
       "      <td>0</td>\n",
       "      <td>197</td>\n",
       "      <td>0</td>\n",
       "      <td>1</td>\n",
       "      <td>2</td>\n",
       "      <td>1005</td>\n",
       "    </tr>\n",
       "    <tr>\n",
       "      <th>1</th>\n",
       "      <td>0</td>\n",
       "      <td>1</td>\n",
       "      <td>351</td>\n",
       "      <td>1</td>\n",
       "      <td>0</td>\n",
       "      <td>3</td>\n",
       "      <td>57</td>\n",
       "    </tr>\n",
       "    <tr>\n",
       "      <th>2</th>\n",
       "      <td>10</td>\n",
       "      <td>1</td>\n",
       "      <td>332</td>\n",
       "      <td>3</td>\n",
       "      <td>0</td>\n",
       "      <td>3</td>\n",
       "      <td>306</td>\n",
       "    </tr>\n",
       "    <tr>\n",
       "      <th>3</th>\n",
       "      <td>15</td>\n",
       "      <td>1</td>\n",
       "      <td>272</td>\n",
       "      <td>0</td>\n",
       "      <td>0</td>\n",
       "      <td>0</td>\n",
       "      <td>1097</td>\n",
       "    </tr>\n",
       "    <tr>\n",
       "      <th>4</th>\n",
       "      <td>14</td>\n",
       "      <td>1</td>\n",
       "      <td>223</td>\n",
       "      <td>0</td>\n",
       "      <td>0</td>\n",
       "      <td>0</td>\n",
       "      <td>254</td>\n",
       "    </tr>\n",
       "  </tbody>\n",
       "</table>\n",
       "</div>"
      ],
      "text/plain": [
       "   idade  sexo  imc  filhos  fumante  regiao  custo_medico_anual\n",
       "0      1     0  197       0        1       2                1005\n",
       "1      0     1  351       1        0       3                  57\n",
       "2     10     1  332       3        0       3                 306\n",
       "3     15     1  272       0        0       0                1097\n",
       "4     14     1  223       0        0       0                 254"
      ]
     },
     "execution_count": 73,
     "metadata": {},
     "output_type": "execute_result"
    }
   ],
   "source": [
    "dataset_transformado.head()"
   ]
  },
  {
   "cell_type": "markdown",
   "metadata": {},
   "source": [
    "## Quais variáveis tem maior correlação com o custo_medico_anual?"
   ]
  },
  {
   "cell_type": "code",
   "execution_count": 74,
   "metadata": {
    "colab": {
     "base_uri": "https://localhost:8080/",
     "height": 695
    },
    "colab_type": "code",
    "id": "jbJDFiJ2T9h5",
    "outputId": "ad24afe0-f3cc-46b2-fb64-bbd832300d68"
   },
   "outputs": [
    {
     "data": {
      "image/png": "[encoded data removed]",
      "text/plain": [
       "<Figure size 1080x1008 with 2 Axes>"
      ]
     },
     "metadata": {},
     "output_type": "display_data"
    }
   ],
   "source": [
    "# Solução com Seaborn\n",
    "\n",
    "# Definindo propriedades do Seaborn\n",
    "sns.set(color_codes = True)\n",
    "\n",
    "# Definindo área de platagem\n",
    "plt.figure(figsize = (15, 14))\n",
    "\n",
    "# Criando o heatmap\n",
    "sns.heatmap(dataset_transformado.astype(float).corr(), \n",
    "            linewidths = 0.1, \n",
    "            square = True, \n",
    "            linecolor = 'white', \n",
    "            annot = True,\n",
    "            cmap = \"vlag\")\n",
    "plt.show()"
   ]
  },
  {
   "cell_type": "markdown",
   "metadata": {},
   "source": [
    "De acordo com o heatmap acima temos que as features: *fumante* e *idade* são as que mais tem correlação positiva com o custo médico anual."
   ]
  },
  {
   "cell_type": "markdown",
   "metadata": {},
   "source": [
    "## Entre fumantes e não fumantes, qual grupo tem maior custo_medico_anual?"
   ]
  },
  {
   "cell_type": "markdown",
   "metadata": {},
   "source": [
    "Forma 1: Distribuição dos custos nos dois grupos, fumantes e não fumantes"
   ]
  },
  {
   "cell_type": "code",
   "execution_count": 75,
   "metadata": {
    "colab": {
     "base_uri": "https://localhost:8080/",
     "height": 416
    },
    "colab_type": "code",
    "id": "mbSP7zVHSohb",
    "outputId": "03399c80-dd99-423a-f08e-a1c9cef445e9"
   },
   "outputs": [
    {
     "data": {
      "image/png": "[encoded data removed]",
      "text/plain": [
       "<Figure size 720x360 with 2 Axes>"
      ]
     },
     "metadata": {},
     "output_type": "display_data"
    }
   ],
   "source": [
    "# Solução com Seaborn\n",
    "grafico = sns.FacetGrid(dataset_transformado, col = \"fumante\", height = 5, sharey = False, sharex = True)\n",
    "grafico.map(sns.distplot, \"custo_medico_anual\", color = 'b');\n",
    "grafico.set_axis_labels(\"custo_medico_anual\", \"proporção\");"
   ]
  },
  {
   "cell_type": "markdown",
   "metadata": {},
   "source": [
    "Em não fumantes o custo medico é aproximadamente linear\n",
    "\n",
    "Em fumantes o custo mantem-se entre 1000 e 1250 na maioria das observações\n",
    "Podemos concluir que o custo médico é maior em fumantes"
   ]
  },
  {
   "cell_type": "markdown",
   "metadata": {},
   "source": [
    "Forma 2: Com boxplot\n"
   ]
  },
  {
   "cell_type": "code",
   "execution_count": 76,
   "metadata": {},
   "outputs": [
    {
     "data": {
      "image/png": "[encoded data removed]",
      "text/plain": [
       "<Figure size 720x648 with 1 Axes>"
      ]
     },
     "metadata": {},
     "output_type": "display_data"
    }
   ],
   "source": [
    "# Definindo área de platagem\n",
    "plt.figure(figsize = (10, 9))\n",
    "\n",
    "sns.boxplot( x = 'fumante', y = 'custo_medico_anual', hue='fumante', data = dataset_transformado);"
   ]
  },
  {
   "cell_type": "markdown",
   "metadata": {},
   "source": [
    "O boxplot evidencia ainda mais que o custo medico etre fumantes mante-se maiores para fumantes"
   ]
  },
  {
   "cell_type": "markdown",
   "metadata": {},
   "source": [
    "Distribuição do dados por idade:"
   ]
  },
  {
   "cell_type": "code",
   "execution_count": 77,
   "metadata": {
    "colab": {
     "base_uri": "https://localhost:8080/",
     "height": 410
    },
    "colab_type": "code",
    "id": "JcuDUsfHe-m9",
    "outputId": "8a48dd21-99b3-440d-aceb-06b80ad91aea"
   },
   "outputs": [
    {
     "data": {
      "image/png": "[encoded data removed]",
      "text/plain": [
       "<Figure size 1080x504 with 1 Axes>"
      ]
     },
     "metadata": {},
     "output_type": "display_data"
    }
   ],
   "source": [
    "\n",
    "plt.figure(figsize = (15,7))\n",
    "plt.title(\"Distribuição da Idade\")\n",
    "ax = sns.distplot(dataset_transformado[\"idade\"], color = 'red')"
   ]
  },
  {
   "cell_type": "code",
   "execution_count": null,
   "metadata": {},
   "outputs": [],
   "source": []
  },
  {
   "cell_type": "markdown",
   "metadata": {},
   "source": [
    "## A proporção de fumantes por sexo é semelhante ou precisamos balancear esses dados?"
   ]
  },
  {
   "cell_type": "code",
   "execution_count": 78,
   "metadata": {
    "colab": {
     "base_uri": "https://localhost:8080/",
     "height": 365
    },
    "colab_type": "code",
    "id": "MmSBWU1iasWZ",
    "outputId": "35a4e2ff-1534-487d-ba65-63ee6df1cc97"
   },
   "outputs": [
    {
     "data": {
      "image/png": "[encoded data removed]",
      "text/plain": [
       "<Figure size 412.3x360 with 1 Axes>"
      ]
     },
     "metadata": {},
     "output_type": "display_data"
    }
   ],
   "source": [
    "#Usando gráfic de barra\n",
    "\n",
    "\n",
    "sns.catplot(x= 'sexo', data =dataset_transformado, kind= 'count', hue = 'fumante', palette='pastel');"
   ]
  },
  {
   "cell_type": "markdown",
   "metadata": {},
   "source": [
    "As proporções de fumantes tanto no sexo feminino quanto no masculino representados pela barra laranja são semelhantes.\n",
    "Logo não há necessidade de balancear os dados."
   ]
  },
  {
   "cell_type": "markdown",
   "metadata": {},
   "source": [
    "## À medida que a idade do paciente aumenta o que acontece com o custo_medico_anual? Há diferença entre fumantes e não fumantes?"
   ]
  },
  {
   "cell_type": "markdown",
   "metadata": {},
   "source": [
    "Vamos usar um gráfico de dispersao e uma regressão linear para auxiliar na resposta:"
   ]
  },
  {
   "cell_type": "code",
   "execution_count": 79,
   "metadata": {
    "colab": {
     "base_uri": "https://localhost:8080/",
     "height": 543
    },
    "colab_type": "code",
    "id": "qzu7PZrYfbMU",
    "outputId": "67258c7e-882f-489b-9a99-583d34a38d7d"
   },
   "outputs": [
    {
     "data": {
      "image/png": "[encoded data removed]",
      "text/plain": [
       "<Figure size 560.6x504 with 1 Axes>"
      ]
     },
     "metadata": {},
     "output_type": "display_data"
    }
   ],
   "source": [
    "\n",
    "sns.lmplot(x = \"idade\", y = \"custo_medico_anual\", hue = \"fumante\", data = dataset, palette = dict(yes = \"r\", no = \"g\"), height = 7)\n",
    "plt.show()\n"
   ]
  },
  {
   "cell_type": "markdown",
   "metadata": {},
   "source": [
    "Conforme a idade aumenta percebemos que o custo médico anual aumenta tanto para fumantes e não fumantes.\n",
    "Obseve também que em todas as idades o custo médico anual em geral é maior para os fumantes."
   ]
  },
  {
   "cell_type": "markdown",
   "metadata": {
    "colab_type": "text",
    "id": "iJbrgoXvjjyx"
   },
   "source": [
    "## Construção do Modelo Preditivo\n",
    "\n",
    "### Preparação dos Dados"
   ]
  },
  {
   "cell_type": "markdown",
   "metadata": {},
   "source": [
    "A  variável target é um valor numérico (custo_medico_anual) \n",
    "\n",
    "Será utilizado a regressão linear para a construção do modelo. \n"
   ]
  },
  {
   "cell_type": "code",
   "execution_count": 80,
   "metadata": {},
   "outputs": [
    {
     "data": {
      "text/html": [
       "<div>\n",
       "<style scoped>\n",
       "    .dataframe tbody tr th:only-of-type {\n",
       "        vertical-align: middle;\n",
       "    }\n",
       "\n",
       "    .dataframe tbody tr th {\n",
       "        vertical-align: top;\n",
       "    }\n",
       "\n",
       "    .dataframe thead th {\n",
       "        text-align: right;\n",
       "    }\n",
       "</style>\n",
       "<table border=\"1\" class=\"dataframe\">\n",
       "  <thead>\n",
       "    <tr style=\"text-align: right;\">\n",
       "      <th></th>\n",
       "      <th>idade</th>\n",
       "      <th>sexo</th>\n",
       "      <th>imc</th>\n",
       "      <th>filhos</th>\n",
       "      <th>fumante</th>\n",
       "      <th>regiao</th>\n",
       "      <th>custo_medico_anual</th>\n",
       "    </tr>\n",
       "  </thead>\n",
       "  <tbody>\n",
       "    <tr>\n",
       "      <th>0</th>\n",
       "      <td>19</td>\n",
       "      <td>feminino</td>\n",
       "      <td>27.900000</td>\n",
       "      <td>0</td>\n",
       "      <td>yes</td>\n",
       "      <td>sudeste</td>\n",
       "      <td>16884.92400</td>\n",
       "    </tr>\n",
       "    <tr>\n",
       "      <th>1</th>\n",
       "      <td>18</td>\n",
       "      <td>masculino</td>\n",
       "      <td>33.770000</td>\n",
       "      <td>1</td>\n",
       "      <td>no</td>\n",
       "      <td>sul</td>\n",
       "      <td>1725.55230</td>\n",
       "    </tr>\n",
       "    <tr>\n",
       "      <th>2</th>\n",
       "      <td>28</td>\n",
       "      <td>masculino</td>\n",
       "      <td>33.000000</td>\n",
       "      <td>3</td>\n",
       "      <td>no</td>\n",
       "      <td>sul</td>\n",
       "      <td>4449.46200</td>\n",
       "    </tr>\n",
       "    <tr>\n",
       "      <th>3</th>\n",
       "      <td>33</td>\n",
       "      <td>masculino</td>\n",
       "      <td>30.693019</td>\n",
       "      <td>0</td>\n",
       "      <td>no</td>\n",
       "      <td>nordeste</td>\n",
       "      <td>21984.47061</td>\n",
       "    </tr>\n",
       "    <tr>\n",
       "      <th>4</th>\n",
       "      <td>32</td>\n",
       "      <td>masculino</td>\n",
       "      <td>28.880000</td>\n",
       "      <td>0</td>\n",
       "      <td>no</td>\n",
       "      <td>nordeste</td>\n",
       "      <td>3866.85520</td>\n",
       "    </tr>\n",
       "  </tbody>\n",
       "</table>\n",
       "</div>"
      ],
      "text/plain": [
       "   idade       sexo        imc  filhos fumante    regiao  custo_medico_anual\n",
       "0     19   feminino  27.900000       0     yes   sudeste         16884.92400\n",
       "1     18  masculino  33.770000       1      no       sul          1725.55230\n",
       "2     28  masculino  33.000000       3      no       sul          4449.46200\n",
       "3     33  masculino  30.693019       0      no  nordeste         21984.47061\n",
       "4     32  masculino  28.880000       0      no  nordeste          3866.85520"
      ]
     },
     "execution_count": 80,
     "metadata": {},
     "output_type": "execute_result"
    }
   ],
   "source": [
    "# Visualização das primeiras linahs do dataset\n",
    "dataset.head()"
   ]
  },
  {
   "cell_type": "code",
   "execution_count": 81,
   "metadata": {
    "colab": {
     "base_uri": "https://localhost:8080/",
     "height": 204
    },
    "colab_type": "code",
    "id": "W1-QxJJjf6nj",
    "outputId": "85cc1b9f-febb-4fc8-801d-6fc25c09e37e"
   },
   "outputs": [
    {
     "data": {
      "text/html": [
       "<div>\n",
       "<style scoped>\n",
       "    .dataframe tbody tr th:only-of-type {\n",
       "        vertical-align: middle;\n",
       "    }\n",
       "\n",
       "    .dataframe tbody tr th {\n",
       "        vertical-align: top;\n",
       "    }\n",
       "\n",
       "    .dataframe thead th {\n",
       "        text-align: right;\n",
       "    }\n",
       "</style>\n",
       "<table border=\"1\" class=\"dataframe\">\n",
       "  <thead>\n",
       "    <tr style=\"text-align: right;\">\n",
       "      <th></th>\n",
       "      <th>idade</th>\n",
       "      <th>imc</th>\n",
       "      <th>filhos</th>\n",
       "      <th>custo_medico_anual</th>\n",
       "      <th>sexo_feminino</th>\n",
       "      <th>sexo_masculino</th>\n",
       "      <th>fumante_no</th>\n",
       "      <th>fumante_yes</th>\n",
       "      <th>regiao_nordeste</th>\n",
       "      <th>regiao_norte</th>\n",
       "      <th>regiao_sudeste</th>\n",
       "      <th>regiao_sul</th>\n",
       "    </tr>\n",
       "  </thead>\n",
       "  <tbody>\n",
       "    <tr>\n",
       "      <th>0</th>\n",
       "      <td>19</td>\n",
       "      <td>27.900000</td>\n",
       "      <td>0</td>\n",
       "      <td>16884.92400</td>\n",
       "      <td>1</td>\n",
       "      <td>0</td>\n",
       "      <td>0</td>\n",
       "      <td>1</td>\n",
       "      <td>0</td>\n",
       "      <td>0</td>\n",
       "      <td>1</td>\n",
       "      <td>0</td>\n",
       "    </tr>\n",
       "    <tr>\n",
       "      <th>1</th>\n",
       "      <td>18</td>\n",
       "      <td>33.770000</td>\n",
       "      <td>1</td>\n",
       "      <td>1725.55230</td>\n",
       "      <td>0</td>\n",
       "      <td>1</td>\n",
       "      <td>1</td>\n",
       "      <td>0</td>\n",
       "      <td>0</td>\n",
       "      <td>0</td>\n",
       "      <td>0</td>\n",
       "      <td>1</td>\n",
       "    </tr>\n",
       "    <tr>\n",
       "      <th>2</th>\n",
       "      <td>28</td>\n",
       "      <td>33.000000</td>\n",
       "      <td>3</td>\n",
       "      <td>4449.46200</td>\n",
       "      <td>0</td>\n",
       "      <td>1</td>\n",
       "      <td>1</td>\n",
       "      <td>0</td>\n",
       "      <td>0</td>\n",
       "      <td>0</td>\n",
       "      <td>0</td>\n",
       "      <td>1</td>\n",
       "    </tr>\n",
       "    <tr>\n",
       "      <th>3</th>\n",
       "      <td>33</td>\n",
       "      <td>30.693019</td>\n",
       "      <td>0</td>\n",
       "      <td>21984.47061</td>\n",
       "      <td>0</td>\n",
       "      <td>1</td>\n",
       "      <td>1</td>\n",
       "      <td>0</td>\n",
       "      <td>1</td>\n",
       "      <td>0</td>\n",
       "      <td>0</td>\n",
       "      <td>0</td>\n",
       "    </tr>\n",
       "    <tr>\n",
       "      <th>4</th>\n",
       "      <td>32</td>\n",
       "      <td>28.880000</td>\n",
       "      <td>0</td>\n",
       "      <td>3866.85520</td>\n",
       "      <td>0</td>\n",
       "      <td>1</td>\n",
       "      <td>1</td>\n",
       "      <td>0</td>\n",
       "      <td>1</td>\n",
       "      <td>0</td>\n",
       "      <td>0</td>\n",
       "      <td>0</td>\n",
       "    </tr>\n",
       "  </tbody>\n",
       "</table>\n",
       "</div>"
      ],
      "text/plain": [
       "   idade        imc  filhos  custo_medico_anual  sexo_feminino  \\\n",
       "0     19  27.900000       0         16884.92400              1   \n",
       "1     18  33.770000       1          1725.55230              0   \n",
       "2     28  33.000000       3          4449.46200              0   \n",
       "3     33  30.693019       0         21984.47061              0   \n",
       "4     32  28.880000       0          3866.85520              0   \n",
       "\n",
       "   sexo_masculino  fumante_no  fumante_yes  regiao_nordeste  regiao_norte  \\\n",
       "0               0           0            1                0             0   \n",
       "1               1           1            0                0             0   \n",
       "2               1           1            0                0             0   \n",
       "3               1           1            0                1             0   \n",
       "4               1           1            0                1             0   \n",
       "\n",
       "   regiao_sudeste  regiao_sul  \n",
       "0               1           0  \n",
       "1               0           1  \n",
       "2               0           1  \n",
       "3               0           0  \n",
       "4               0           0  "
      ]
     },
     "execution_count": 81,
     "metadata": {},
     "output_type": "execute_result"
    }
   ],
   "source": [
    "# Conversão de variáveis categóricas em variáveis numéricas (dummy) e visualizar o resultado\n",
    "dataset = pd.get_dummies(dataset)\n",
    "dataset.head()"
   ]
  },
  {
   "cell_type": "code",
   "execution_count": 82,
   "metadata": {
    "colab": {},
    "colab_type": "code",
    "id": "QScYwe2Tm9L5"
   },
   "outputs": [],
   "source": [
    "# Separação das features e do target:\n",
    "X = dataset.drop(columns = ['custo_medico_anual'])\n",
    "y = dataset['custo_medico_anual']"
   ]
  },
  {
   "cell_type": "code",
   "execution_count": 85,
   "metadata": {
    "colab": {},
    "colab_type": "code",
    "id": "6Iq0nQT8nZDx"
   },
   "outputs": [],
   "source": [
    "# Divisão dos dados em treino e teste\n",
    "\n",
    "# Importa a função\n",
    "from sklearn.model_selection import train_test_split\n",
    "\n",
    "# Aplica a função com 10% dos dados para teste\n",
    "X_train, X_test, y_train, y_test = train_test_split(X, y, test_size = 0.1, random_state = 42)\n",
    "\n",
    "#dados de treino para treinar o algoritmo e construir o modelo\n",
    "#dados de teste para avaliar a performance do modelo ja treinado"
   ]
  },
  {
   "cell_type": "markdown",
   "metadata": {},
   "source": [
    "#### Primeira versão do modelo: Regressão Linear\n"
   ]
  },
  {
   "cell_type": "code",
   "execution_count": 86,
   "metadata": {
    "colab": {
     "base_uri": "https://localhost:8080/",
     "height": 68
    },
    "colab_type": "code",
    "id": "bymd--pXr_Nf",
    "outputId": "226696f0-9cc0-44e3-d45b-7ff9a5ed482d"
   },
   "outputs": [
    {
     "name": "stdout",
     "output_type": "stream",
     "text": [
      "MSE nos dados de treino: 36914811.6, MSE nos dados de teste: 32603637.3\n",
      "RMSE nos dados de treino: 6075.8, RMSE nos dados de teste: 6075.8\n",
      "R2 nos dados de treino: 0.74968, R2 nos dados de teste: 0.76367\n"
     ]
    }
   ],
   "source": [
    "# Cria a primeira versão do modelo de regressão linear\n",
    "\n",
    "# Imports\n",
    "from sklearn.linear_model import LinearRegression\n",
    "from sklearn.metrics import r2_score, mean_squared_error\n",
    "\n",
    "# Cria o modelo e treina com os dados de teste\n",
    "lr = LinearRegression().fit(X_train, y_train)\n",
    "\n",
    "# Previsões nos dados de treino\n",
    "lr_train_pred = lr.predict(X_train)\n",
    "\n",
    "# Previsões nos dados de teste\n",
    "lr_test_pred = lr.predict(X_test)\n",
    "\n",
    "# Calcula as métricas\n",
    "lr_train_mse = mean_squared_error(y_train, lr_train_pred)\n",
    "lr_test_mse = mean_squared_error(y_test, lr_test_pred)\n",
    "\n",
    "# Imprime o MSE (Mean Squared Error)\n",
    "print(f'MSE nos dados de treino: {lr_train_mse:.9}, MSE nos dados de teste: {lr_test_mse:.9}')\n",
    "# Imprime o RMSE (Root Mean Squared Error)\n",
    "print(f'RMSE nos dados de treino: {np.sqrt(np.absolute(lr_train_mse)):.5}, RMSE nos dados de teste: {np.sqrt(np.absolute(lr_train_mse)):.5}') \n",
    "\n",
    "  \n",
    "# Coeficiente R2\n",
    "print(f'R2 nos dados de treino: {r2_score(y_train, lr_train_pred):.5}, R2 nos dados de teste: {r2_score(y_test, lr_test_pred):.5}')"
   ]
  },
  {
   "cell_type": "markdown",
   "metadata": {},
   "source": [
    "Previsão consistente tanto nos dados de treino como nos dados de teste(dados não vistos pelo modelo)."
   ]
  },
  {
   "cell_type": "markdown",
   "metadata": {},
   "source": [
    "Segunda versão do modelo: Random Forest"
   ]
  },
  {
   "cell_type": "code",
   "execution_count": 88,
   "metadata": {
    "colab": {
     "base_uri": "https://localhost:8080/",
     "height": 68
    },
    "colab_type": "code",
    "id": "nqAaUntrvWFP",
    "outputId": "c85b8131-4597-4c18-a70f-5eadd30f4517"
   },
   "outputs": [
    {
     "name": "stdout",
     "output_type": "stream",
     "text": [
      "MSE nos dados de treino: 3659800.4, MSE nos dados de teste: 24710433.2\n",
      "RMSE nos dados de treino: 1913.1, RMSE nos dados de teste: 1913.1\n",
      "R2 nos dados de treino: 0.97518, R2 nos dados de teste: 0.82088\n"
     ]
    }
   ],
   "source": [
    "# Testando outro algoritmo (Método Ensemble)\n",
    "\n",
    "# Import\n",
    "from sklearn.ensemble import RandomForestRegressor\n",
    "\n",
    "# Cria e treina o modelo com 50 arvores\n",
    "rfr = RandomForestRegressor(n_estimators = 50).fit(X_train, y_train)\n",
    "\n",
    "# Previsões em treino e teste\n",
    "rfr_train_pred = rfr.predict(X_train)\n",
    "rfr_test_pred = rfr.predict(X_test)\n",
    "\n",
    "# Calcula as métricas em treino e meste\n",
    "rfr_train_mse = mean_squared_error(y_train,rfr_train_pred)\n",
    "rfr_test_mse = mean_squared_error(y_test,rfr_test_pred)\n",
    "\n",
    "# Imprime o MSE (Mean Squared Error)\n",
    "print('MSE nos dados de treino: {:.9}, MSE nos dados de teste: {:.9}'.format(rfr_train_mse, rfr_test_mse))\n",
    "\n",
    "# Imprime o RMSE (Root Mean Squared Error)\n",
    "print('RMSE nos dados de treino: {:.5}, RMSE nos dados de teste: {:.5}'.format(\n",
    "    np.sqrt(np.absolute(rfr_train_mse)), \n",
    "    np.sqrt(np.absolute(rfr_train_mse))))\n",
    "    \n",
    "# Coeficiente R2\n",
    "print('R2 nos dados de treino: {:.5}, R2 nos dados de teste: {:.5}'.format(\n",
    "    r2_score(y_train, rfr_train_pred),\n",
    "    r2_score(y_test, rfr_test_pred)))"
   ]
  },
  {
   "cell_type": "markdown",
   "metadata": {
    "colab_type": "text",
    "id": "zvnbl_2KzN2C"
   },
   "source": [
    "Esta é uma previsão muito boa, o RandomForest apresenta um melhor resultado com uma pontuação R2 de 97% nos dados de treinamento e 82% nos dados de teste(novos dados). Ele também tem o menor valor RMSE."
   ]
  },
  {
   "cell_type": "markdown",
   "metadata": {},
   "source": [
    "##### Keep calm and analysing data!"
   ]
  },
  {
   "cell_type": "code",
   "execution_count": null,
   "metadata": {},
   "outputs": [],
   "source": []
  }
 ],
 "metadata": {
  "colab": {
   "collapsed_sections": [],
   "include_colab_link": true,
   "name": "HealthCare.ipynb",
   "provenance": [],
   "version": "0.3.2"
  },
  "hide_input": false,
  "kernelspec": {
   "display_name": "Python 3",
   "language": "python",
   "name": "python3"
  },
  "language_info": {
   "codemirror_mode": {
    "name": "ipython",
    "version": 3
   },
   "file_extension": ".py",
   "mimetype": "text/x-python",
   "name": "python",
   "nbconvert_exporter": "python",
   "pygments_lexer": "ipython3",
   "version": "3.8.8"
  }
 },
 "nbformat": 4,
 "nbformat_minor": 1
}
