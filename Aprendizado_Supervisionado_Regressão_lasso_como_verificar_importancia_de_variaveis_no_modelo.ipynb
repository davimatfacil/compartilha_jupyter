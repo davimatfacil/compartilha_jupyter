{
  "cells": [
    {
      "source": [
        "# Aprendizado Supervisionado com scikit-learn\n"
      ],
      "metadata": {
        "id": "prostate-arizona"
      },
      "id": "prostate-arizona",
      "cell_type": "markdown"
    },
    {
      "source": [
        "Sobre tarefa de regressão em ML:\n"
      ],
      "metadata": {
        "id": "80f9969a-c3a2-46e4-894e-1e0d2f074570"
      },
      "cell_type": "markdown",
      "id": "80f9969a-c3a2-46e4-894e-1e0d2f074570"
    },
    {
      "source": [
        "Abaixo importamos pandas para tratar os dados:"
      ],
      "metadata": {
        "id": "55425795-ed91-4020-bb63-2031dc3cc500"
      },
      "cell_type": "markdown",
      "id": "55425795-ed91-4020-bb63-2031dc3cc500"
    },
    {
      "source": [
        "# Importando pandas\n",
        "import pandas as pd\n",
        "# Importando os dados\n",
        "\n",
        "advertising = pd.read_csv('advertising_and_sales_clean.csv')\n"
      ],
      "metadata": {
        "jupyter": {
          "outputs_hidden": false,
          "source_hidden": false
        },
        "executionTime": 230,
        "lastSuccessfullyExecutedCode": "# Importing pandas\nimport pandas as pd\n# Importing the course datasets \ndiabetes = pd.read_csv('datasets/diabetes_clean.csv')\nmusic = pd.read_csv('datasets/music_clean.csv')\nadvertising = pd.read_csv('datasets/advertising_and_sales_clean.csv')\ntelecom = pd.read_csv(\"datasets/telecom_churn_clean.csv\")",
        "id": "2e25fdd8-4d84-45bc-80f0-949917e00a17"
      },
      "id": "2e25fdd8-4d84-45bc-80f0-949917e00a17",
      "cell_type": "code",
      "execution_count": null,
      "outputs": []
    },
    {
      "source": [
        "Vamos utilizar os dados de advertising. Esses dados contém informações sobre os gastos da campanha publicitária em diferentes tipos de mídia e o número de dólares gerados em vendas para a respectiva campanha"
      ],
      "metadata": {
        "id": "4b1c0085-0d3d-457b-ac1f-b82abdb8c232"
      },
      "cell_type": "markdown",
      "id": "4b1c0085-0d3d-457b-ac1f-b82abdb8c232"
    },
    {
      "source": [
        "publicidade = advertising\n",
        "publicidade.head()"
      ],
      "metadata": {
        "visualizeDataframe": false,
        "chartConfig": {
          "bar": {
            "hasRoundedCorners": true,
            "stacked": false
          },
          "type": "line",
          "version": "v1",
          "x": {
            "field": "tv",
            "type": "number"
          },
          "y": {
            "field": "sales",
            "type": "number"
          }
        },
        "executionTime": 175,
        "lastSuccessfullyExecutedCode": "publicidade = advertising\npublicidade.head()",
        "colab": {
          "base_uri": "https://localhost:8080/",
          "height": 206
        },
        "id": "bdc1dd0e-7dc0-49ae-90a6-f71375b2ebe6",
        "outputId": "ebf08a77-5e91-4bce-932d-12d8f722cdd3"
      },
      "cell_type": "code",
      "id": "bdc1dd0e-7dc0-49ae-90a6-f71375b2ebe6",
      "execution_count": null,
      "outputs": [
        {
          "output_type": "execute_result",
          "data": {
            "text/plain": [
              "        tv     radio  social_media influencer      sales\n",
              "0  16000.0   6566.23       2907.98       Mega   54732.76\n",
              "1  13000.0   9237.76       2409.57       Mega   46677.90\n",
              "2  41000.0  15886.45       2913.41       Mega  150177.83\n",
              "3  83000.0  30020.03       6922.30       Mega  298246.34\n",
              "4  15000.0   8437.41       1406.00      Micro   56594.18"
            ],
            "text/html": [
              "\n",
              "  <div id=\"df-711e3bb9-507b-452c-ac31-456958ba11d8\">\n",
              "    <div class=\"colab-df-container\">\n",
              "      <div>\n",
              "<style scoped>\n",
              "    .dataframe tbody tr th:only-of-type {\n",
              "        vertical-align: middle;\n",
              "    }\n",
              "\n",
              "    .dataframe tbody tr th {\n",
              "        vertical-align: top;\n",
              "    }\n",
              "\n",
              "    .dataframe thead th {\n",
              "        text-align: right;\n",
              "    }\n",
              "</style>\n",
              "<table border=\"1\" class=\"dataframe\">\n",
              "  <thead>\n",
              "    <tr style=\"text-align: right;\">\n",
              "      <th></th>\n",
              "      <th>tv</th>\n",
              "      <th>radio</th>\n",
              "      <th>social_media</th>\n",
              "      <th>influencer</th>\n",
              "      <th>sales</th>\n",
              "    </tr>\n",
              "  </thead>\n",
              "  <tbody>\n",
              "    <tr>\n",
              "      <th>0</th>\n",
              "      <td>16000.0</td>\n",
              "      <td>6566.23</td>\n",
              "      <td>2907.98</td>\n",
              "      <td>Mega</td>\n",
              "      <td>54732.76</td>\n",
              "    </tr>\n",
              "    <tr>\n",
              "      <th>1</th>\n",
              "      <td>13000.0</td>\n",
              "      <td>9237.76</td>\n",
              "      <td>2409.57</td>\n",
              "      <td>Mega</td>\n",
              "      <td>46677.90</td>\n",
              "    </tr>\n",
              "    <tr>\n",
              "      <th>2</th>\n",
              "      <td>41000.0</td>\n",
              "      <td>15886.45</td>\n",
              "      <td>2913.41</td>\n",
              "      <td>Mega</td>\n",
              "      <td>150177.83</td>\n",
              "    </tr>\n",
              "    <tr>\n",
              "      <th>3</th>\n",
              "      <td>83000.0</td>\n",
              "      <td>30020.03</td>\n",
              "      <td>6922.30</td>\n",
              "      <td>Mega</td>\n",
              "      <td>298246.34</td>\n",
              "    </tr>\n",
              "    <tr>\n",
              "      <th>4</th>\n",
              "      <td>15000.0</td>\n",
              "      <td>8437.41</td>\n",
              "      <td>1406.00</td>\n",
              "      <td>Micro</td>\n",
              "      <td>56594.18</td>\n",
              "    </tr>\n",
              "  </tbody>\n",
              "</table>\n",
              "</div>\n",
              "      <button class=\"colab-df-convert\" onclick=\"convertToInteractive('df-711e3bb9-507b-452c-ac31-456958ba11d8')\"\n",
              "              title=\"Convert this dataframe to an interactive table.\"\n",
              "              style=\"display:none;\">\n",
              "        \n",
              "  <svg xmlns=\"http://www.w3.org/2000/svg\" height=\"24px\"viewBox=\"0 0 24 24\"\n",
              "       width=\"24px\">\n",
              "    <path d=\"M0 0h24v24H0V0z\" fill=\"none\"/>\n",
              "    <path d=\"M18.56 5.44l.94 2.06.94-2.06 2.06-.94-2.06-.94-.94-2.06-.94 2.06-2.06.94zm-11 1L8.5 8.5l.94-2.06 2.06-.94-2.06-.94L8.5 2.5l-.94 2.06-2.06.94zm10 10l.94 2.06.94-2.06 2.06-.94-2.06-.94-.94-2.06-.94 2.06-2.06.94z\"/><path d=\"M17.41 7.96l-1.37-1.37c-.4-.4-.92-.59-1.43-.59-.52 0-1.04.2-1.43.59L10.3 9.45l-7.72 7.72c-.78.78-.78 2.05 0 2.83L4 21.41c.39.39.9.59 1.41.59.51 0 1.02-.2 1.41-.59l7.78-7.78 2.81-2.81c.8-.78.8-2.07 0-2.86zM5.41 20L4 18.59l7.72-7.72 1.47 1.35L5.41 20z\"/>\n",
              "  </svg>\n",
              "      </button>\n",
              "      \n",
              "  <style>\n",
              "    .colab-df-container {\n",
              "      display:flex;\n",
              "      flex-wrap:wrap;\n",
              "      gap: 12px;\n",
              "    }\n",
              "\n",
              "    .colab-df-convert {\n",
              "      background-color: #E8F0FE;\n",
              "      border: none;\n",
              "      border-radius: 50%;\n",
              "      cursor: pointer;\n",
              "      display: none;\n",
              "      fill: #1967D2;\n",
              "      height: 32px;\n",
              "      padding: 0 0 0 0;\n",
              "      width: 32px;\n",
              "    }\n",
              "\n",
              "    .colab-df-convert:hover {\n",
              "      background-color: #E2EBFA;\n",
              "      box-shadow: 0px 1px 2px rgba(60, 64, 67, 0.3), 0px 1px 3px 1px rgba(60, 64, 67, 0.15);\n",
              "      fill: #174EA6;\n",
              "    }\n",
              "\n",
              "    [theme=dark] .colab-df-convert {\n",
              "      background-color: #3B4455;\n",
              "      fill: #D2E3FC;\n",
              "    }\n",
              "\n",
              "    [theme=dark] .colab-df-convert:hover {\n",
              "      background-color: #434B5C;\n",
              "      box-shadow: 0px 1px 3px 1px rgba(0, 0, 0, 0.15);\n",
              "      filter: drop-shadow(0px 1px 2px rgba(0, 0, 0, 0.3));\n",
              "      fill: #FFFFFF;\n",
              "    }\n",
              "  </style>\n",
              "\n",
              "      <script>\n",
              "        const buttonEl =\n",
              "          document.querySelector('#df-711e3bb9-507b-452c-ac31-456958ba11d8 button.colab-df-convert');\n",
              "        buttonEl.style.display =\n",
              "          google.colab.kernel.accessAllowed ? 'block' : 'none';\n",
              "\n",
              "        async function convertToInteractive(key) {\n",
              "          const element = document.querySelector('#df-711e3bb9-507b-452c-ac31-456958ba11d8');\n",
              "          const dataTable =\n",
              "            await google.colab.kernel.invokeFunction('convertToInteractive',\n",
              "                                                     [key], {});\n",
              "          if (!dataTable) return;\n",
              "\n",
              "          const docLinkHtml = 'Like what you see? Visit the ' +\n",
              "            '<a target=\"_blank\" href=https://colab.research.google.com/notebooks/data_table.ipynb>data table notebook</a>'\n",
              "            + ' to learn more about interactive tables.';\n",
              "          element.innerHTML = '';\n",
              "          dataTable['output_type'] = 'display_data';\n",
              "          await google.colab.output.renderOutput(dataTable, element);\n",
              "          const docLink = document.createElement('div');\n",
              "          docLink.innerHTML = docLinkHtml;\n",
              "          element.appendChild(docLink);\n",
              "        }\n",
              "      </script>\n",
              "    </div>\n",
              "  </div>\n",
              "  "
            ]
          },
          "metadata": {},
          "execution_count": 2
        }
      ]
    },
    {
      "source": [
        "publicidade.info()"
      ],
      "metadata": {
        "executionTime": 105,
        "lastSuccessfullyExecutedCode": "publicidade.info()",
        "colab": {
          "base_uri": "https://localhost:8080/"
        },
        "id": "61b96a11-f659-4fdf-bcde-f289824e8f6c",
        "outputId": "0fe84dfc-9769-484c-f7c7-f7c0ec00575b"
      },
      "cell_type": "code",
      "id": "61b96a11-f659-4fdf-bcde-f289824e8f6c",
      "execution_count": null,
      "outputs": [
        {
          "output_type": "stream",
          "name": "stdout",
          "text": [
            "<class 'pandas.core.frame.DataFrame'>\n",
            "RangeIndex: 4546 entries, 0 to 4545\n",
            "Data columns (total 5 columns):\n",
            " #   Column        Non-Null Count  Dtype  \n",
            "---  ------        --------------  -----  \n",
            " 0   tv            4546 non-null   float64\n",
            " 1   radio         4546 non-null   float64\n",
            " 2   social_media  4546 non-null   float64\n",
            " 3   influencer    4546 non-null   object \n",
            " 4   sales         4546 non-null   float64\n",
            "dtypes: float64(4), object(1)\n",
            "memory usage: 177.7+ KB\n"
          ]
        }
      ]
    },
    {
      "cell_type": "markdown",
      "source": [
        "###REGRESSÃO LINEAR SIMPLES"
      ],
      "metadata": {
        "id": "UbJWvNYW-t6a"
      },
      "id": "UbJWvNYW-t6a"
    },
    {
      "source": [
        "Vamos agora criar um array numpy da variavel X que vamos usar como preditora:Radio:"
      ],
      "metadata": {
        "id": "e1fdfc8e-6164-4dcc-9799-a1dfaa0f734d"
      },
      "cell_type": "markdown",
      "id": "e1fdfc8e-6164-4dcc-9799-a1dfaa0f734d"
    },
    {
      "source": [
        "X = publicidade['radio'].values\n",
        "type(X)"
      ],
      "metadata": {
        "executionTime": 84,
        "lastSuccessfullyExecutedCode": "X = publicidade['radio'].values\ntype(X)",
        "colab": {
          "base_uri": "https://localhost:8080/"
        },
        "id": "21613c96-fb4d-4406-adc2-af20860af5b2",
        "outputId": "0970ebb5-13a2-4960-d86d-e08e9c493f4f"
      },
      "cell_type": "code",
      "id": "21613c96-fb4d-4406-adc2-af20860af5b2",
      "execution_count": null,
      "outputs": [
        {
          "output_type": "execute_result",
          "data": {
            "text/plain": [
              "numpy.ndarray"
            ]
          },
          "metadata": {},
          "execution_count": 4
        }
      ]
    },
    {
      "source": [
        "Agora vamos chamar de y a variavel target(alvo) que que queremos prever:"
      ],
      "metadata": {
        "id": "f6f9600b-c67f-437a-8ede-59094d403e6d"
      },
      "cell_type": "markdown",
      "id": "f6f9600b-c67f-437a-8ede-59094d403e6d"
    },
    {
      "source": [
        "y = publicidade['sales'].values"
      ],
      "metadata": {
        "executionTime": 0,
        "lastSuccessfullyExecutedCode": "y = publicidade['sales'].values",
        "id": "079c7628-464c-471b-9867-b684acc232b9"
      },
      "id": "079c7628-464c-471b-9867-b684acc232b9",
      "cell_type": "code",
      "execution_count": null,
      "outputs": []
    },
    {
      "source": [
        "Observe que a variavel X esta em uma dimensao, porém para ser usado no sklearn deve ter duas dismensoes"
      ],
      "metadata": {
        "id": "f616e4d3-42b7-4489-aa4e-f86cdab702c2"
      },
      "cell_type": "markdown",
      "id": "f616e4d3-42b7-4489-aa4e-f86cdab702c2"
    },
    {
      "source": [
        "print(X)"
      ],
      "metadata": {
        "executionTime": 99,
        "lastSuccessfullyExecutedCode": "print(X)",
        "colab": {
          "base_uri": "https://localhost:8080/"
        },
        "id": "98ff4d9d-dac4-4c27-ad6a-9900e8f9e27d",
        "outputId": "9a558ca0-8171-4329-ddb6-5a3e8257a219"
      },
      "cell_type": "code",
      "id": "98ff4d9d-dac4-4c27-ad6a-9900e8f9e27d",
      "execution_count": null,
      "outputs": [
        {
          "output_type": "stream",
          "name": "stdout",
          "text": [
            "[ 6566.23  9237.76 15886.45 ... 19800.07 17534.64 15966.69]\n"
          ]
        }
      ]
    },
    {
      "source": [
        "Vamos usar o reshape para corrigir isso:"
      ],
      "metadata": {
        "id": "6325d07d-05a3-476f-9490-22536fb467f2"
      },
      "cell_type": "markdown",
      "id": "6325d07d-05a3-476f-9490-22536fb467f2"
    },
    {
      "source": [
        "X = X.reshape(-1,1)\n",
        "print(X)\n",
        "print(X.shape)"
      ],
      "metadata": {
        "executionTime": 148,
        "lastSuccessfullyExecutedCode": "X = X.reshape(-1,1)\nprint(X)\nprint(X.shape)",
        "colab": {
          "base_uri": "https://localhost:8080/"
        },
        "id": "c7de4968-827e-4e4e-aa9b-a58778ba6127",
        "outputId": "7c99bde5-49dd-4626-ebd0-5386b16c2b64"
      },
      "cell_type": "code",
      "id": "c7de4968-827e-4e4e-aa9b-a58778ba6127",
      "execution_count": null,
      "outputs": [
        {
          "output_type": "stream",
          "name": "stdout",
          "text": [
            "[[ 6566.23]\n",
            " [ 9237.76]\n",
            " [15886.45]\n",
            " ...\n",
            " [19800.07]\n",
            " [17534.64]\n",
            " [15966.69]]\n",
            "(4546, 1)\n"
          ]
        }
      ]
    },
    {
      "source": [
        "Vamos printar o shape dos dois para verificar se as dimensões estão ok:"
      ],
      "metadata": {
        "id": "ed0c5a34-80f9-4268-9160-fb159ef1b871"
      },
      "cell_type": "markdown",
      "id": "ed0c5a34-80f9-4268-9160-fb159ef1b871"
    },
    {
      "source": [
        "print(X.shape, y.shape)"
      ],
      "metadata": {
        "executionTime": 89,
        "lastSuccessfullyExecutedCode": "print(X.shape, y.shape)",
        "colab": {
          "base_uri": "https://localhost:8080/"
        },
        "id": "96e80e12-8ffd-4ba5-8179-746d0b927811",
        "outputId": "3537676c-7a52-46c5-bc9f-1f20926790eb"
      },
      "cell_type": "code",
      "id": "96e80e12-8ffd-4ba5-8179-746d0b927811",
      "execution_count": null,
      "outputs": [
        {
          "output_type": "stream",
          "name": "stdout",
          "text": [
            "(4546, 1) (4546,)\n"
          ]
        }
      ]
    },
    {
      "source": [
        "Agora que as variaveis ja estão no formato ideal para o sklearn  vamos ajustar um modelo de regressão linear usando essa feature e a variavel target.\n",
        "Do sklearn vamos importar o modulo linear_model vamos usar a classe Linear Rgression"
      ],
      "metadata": {
        "id": "eb33748e-7405-43c9-aaed-031a587b7fd9"
      },
      "cell_type": "markdown",
      "id": "eb33748e-7405-43c9-aaed-031a587b7fd9"
    },
    {
      "source": [
        "from sklearn.linear_model import LinearRegression"
      ],
      "metadata": {
        "executionTime": 0,
        "lastSuccessfullyExecutedCode": "from sklearn.linear_model import LinearRegression",
        "id": "f17bc927-ec7c-4d11-8e8d-b11eb8c74c6e"
      },
      "cell_type": "code",
      "id": "f17bc927-ec7c-4d11-8e8d-b11eb8c74c6e",
      "execution_count": null,
      "outputs": []
    },
    {
      "source": [
        "Criando um modelo(instanciando):"
      ],
      "metadata": {
        "id": "349c178f-639c-4218-8013-7f841ef23a1e"
      },
      "cell_type": "markdown",
      "id": "349c178f-639c-4218-8013-7f841ef23a1e"
    },
    {
      "source": [
        "lm = LinearRegression()"
      ],
      "metadata": {
        "executionTime": 0,
        "lastSuccessfullyExecutedCode": "lm = LinearRegression()",
        "id": "f049b008-e73b-43be-9223-2f67a5559d56"
      },
      "cell_type": "code",
      "id": "f049b008-e73b-43be-9223-2f67a5559d56",
      "execution_count": null,
      "outputs": []
    },
    {
      "source": [
        "AGora vamos ajustar X e y:\n"
      ],
      "metadata": {
        "id": "50f8c996-e041-41ba-a4c5-4f2337a79bd4"
      },
      "cell_type": "markdown",
      "id": "50f8c996-e041-41ba-a4c5-4f2337a79bd4"
    },
    {
      "source": [
        "lm.fit(X,y)"
      ],
      "metadata": {
        "executionTime": 147,
        "lastSuccessfullyExecutedCode": "lm.fit(X,y)",
        "colab": {
          "base_uri": "https://localhost:8080/",
          "height": 75
        },
        "id": "f4d020ba-7392-4301-8680-a0f5118afa59",
        "outputId": "66082289-9f29-4261-f01f-d7d9c3aaa0e1"
      },
      "cell_type": "code",
      "id": "f4d020ba-7392-4301-8680-a0f5118afa59",
      "execution_count": null,
      "outputs": [
        {
          "output_type": "execute_result",
          "data": {
            "text/plain": [
              "LinearRegression()"
            ],
            "text/html": [
              "<style>#sk-container-id-1 {color: black;background-color: white;}#sk-container-id-1 pre{padding: 0;}#sk-container-id-1 div.sk-toggleable {background-color: white;}#sk-container-id-1 label.sk-toggleable__label {cursor: pointer;display: block;width: 100%;margin-bottom: 0;padding: 0.3em;box-sizing: border-box;text-align: center;}#sk-container-id-1 label.sk-toggleable__label-arrow:before {content: \"▸\";float: left;margin-right: 0.25em;color: #696969;}#sk-container-id-1 label.sk-toggleable__label-arrow:hover:before {color: black;}#sk-container-id-1 div.sk-estimator:hover label.sk-toggleable__label-arrow:before {color: black;}#sk-container-id-1 div.sk-toggleable__content {max-height: 0;max-width: 0;overflow: hidden;text-align: left;background-color: #f0f8ff;}#sk-container-id-1 div.sk-toggleable__content pre {margin: 0.2em;color: black;border-radius: 0.25em;background-color: #f0f8ff;}#sk-container-id-1 input.sk-toggleable__control:checked~div.sk-toggleable__content {max-height: 200px;max-width: 100%;overflow: auto;}#sk-container-id-1 input.sk-toggleable__control:checked~label.sk-toggleable__label-arrow:before {content: \"▾\";}#sk-container-id-1 div.sk-estimator input.sk-toggleable__control:checked~label.sk-toggleable__label {background-color: #d4ebff;}#sk-container-id-1 div.sk-label input.sk-toggleable__control:checked~label.sk-toggleable__label {background-color: #d4ebff;}#sk-container-id-1 input.sk-hidden--visually {border: 0;clip: rect(1px 1px 1px 1px);clip: rect(1px, 1px, 1px, 1px);height: 1px;margin: -1px;overflow: hidden;padding: 0;position: absolute;width: 1px;}#sk-container-id-1 div.sk-estimator {font-family: monospace;background-color: #f0f8ff;border: 1px dotted black;border-radius: 0.25em;box-sizing: border-box;margin-bottom: 0.5em;}#sk-container-id-1 div.sk-estimator:hover {background-color: #d4ebff;}#sk-container-id-1 div.sk-parallel-item::after {content: \"\";width: 100%;border-bottom: 1px solid gray;flex-grow: 1;}#sk-container-id-1 div.sk-label:hover label.sk-toggleable__label {background-color: #d4ebff;}#sk-container-id-1 div.sk-serial::before {content: \"\";position: absolute;border-left: 1px solid gray;box-sizing: border-box;top: 0;bottom: 0;left: 50%;z-index: 0;}#sk-container-id-1 div.sk-serial {display: flex;flex-direction: column;align-items: center;background-color: white;padding-right: 0.2em;padding-left: 0.2em;position: relative;}#sk-container-id-1 div.sk-item {position: relative;z-index: 1;}#sk-container-id-1 div.sk-parallel {display: flex;align-items: stretch;justify-content: center;background-color: white;position: relative;}#sk-container-id-1 div.sk-item::before, #sk-container-id-1 div.sk-parallel-item::before {content: \"\";position: absolute;border-left: 1px solid gray;box-sizing: border-box;top: 0;bottom: 0;left: 50%;z-index: -1;}#sk-container-id-1 div.sk-parallel-item {display: flex;flex-direction: column;z-index: 1;position: relative;background-color: white;}#sk-container-id-1 div.sk-parallel-item:first-child::after {align-self: flex-end;width: 50%;}#sk-container-id-1 div.sk-parallel-item:last-child::after {align-self: flex-start;width: 50%;}#sk-container-id-1 div.sk-parallel-item:only-child::after {width: 0;}#sk-container-id-1 div.sk-dashed-wrapped {border: 1px dashed gray;margin: 0 0.4em 0.5em 0.4em;box-sizing: border-box;padding-bottom: 0.4em;background-color: white;}#sk-container-id-1 div.sk-label label {font-family: monospace;font-weight: bold;display: inline-block;line-height: 1.2em;}#sk-container-id-1 div.sk-label-container {text-align: center;}#sk-container-id-1 div.sk-container {/* jupyter's `normalize.less` sets `[hidden] { display: none; }` but bootstrap.min.css set `[hidden] { display: none !important; }` so we also need the `!important` here to be able to override the default hidden behavior on the sphinx rendered scikit-learn.org. See: https://github.com/scikit-learn/scikit-learn/issues/21755 */display: inline-block !important;position: relative;}#sk-container-id-1 div.sk-text-repr-fallback {display: none;}</style><div id=\"sk-container-id-1\" class=\"sk-top-container\"><div class=\"sk-text-repr-fallback\"><pre>LinearRegression()</pre><b>In a Jupyter environment, please rerun this cell to show the HTML representation or trust the notebook. <br />On GitHub, the HTML representation is unable to render, please try loading this page with nbviewer.org.</b></div><div class=\"sk-container\" hidden><div class=\"sk-item\"><div class=\"sk-estimator sk-toggleable\"><input class=\"sk-toggleable__control sk-hidden--visually\" id=\"sk-estimator-id-1\" type=\"checkbox\" checked><label for=\"sk-estimator-id-1\" class=\"sk-toggleable__label sk-toggleable__label-arrow\">LinearRegression</label><div class=\"sk-toggleable__content\"><pre>LinearRegression()</pre></div></div></div></div></div>"
            ]
          },
          "metadata": {},
          "execution_count": 15
        }
      ]
    },
    {
      "source": [
        "Agora vamos fazer previsoes usando todo o conjunto X:"
      ],
      "metadata": {
        "id": "3522f4ed-6349-424a-90cf-2b204c820f09"
      },
      "cell_type": "markdown",
      "id": "3522f4ed-6349-424a-90cf-2b204c820f09"
    },
    {
      "source": [
        "previsoes = lm.predict(X)\n",
        "print(previsoes[:5])"
      ],
      "metadata": {
        "executionTime": 104,
        "lastSuccessfullyExecutedCode": "previsoes = lm.predict(X)\nprint(previsoes[:5])",
        "colab": {
          "base_uri": "https://localhost:8080/"
        },
        "id": "049b154b-e0f9-4a3c-a6d6-d46e388f205c",
        "outputId": "752d1353-fe02-4d20-a958-247f263b48f2"
      },
      "cell_type": "code",
      "id": "049b154b-e0f9-4a3c-a6d6-d46e388f205c",
      "execution_count": null,
      "outputs": [
        {
          "output_type": "stream",
          "name": "stdout",
          "text": [
            "[ 95491.17119147 117829.51038393 173423.38071499 291603.11444202\n",
            " 111137.28167129]\n"
          ]
        }
      ]
    },
    {
      "source": [
        "Vamos agora visualizar o ajuste do modelo:"
      ],
      "metadata": {
        "id": "06bd814b-9b98-475b-a9fc-d5d3bf3069e9"
      },
      "cell_type": "markdown",
      "id": "06bd814b-9b98-475b-a9fc-d5d3bf3069e9"
    },
    {
      "source": [
        "import matplotlib.pyplot as plt"
      ],
      "metadata": {
        "executionTime": 1296,
        "lastSuccessfullyExecutedCode": "import matplotlib.pyplot as plt",
        "id": "d4980337-3e50-4b61-a42c-17e6472ed527"
      },
      "cell_type": "code",
      "id": "d4980337-3e50-4b61-a42c-17e6472ed527",
      "execution_count": null,
      "outputs": []
    },
    {
      "source": [
        "plt.scatter(X,y, color ='blue')\n",
        "plt.plot(X, previsoes, color = 'Red')\n",
        "plt.xlabel('Gastos com rádio')\n",
        "plt.ylabel('Vendas')\n",
        "plt.show()"
      ],
      "metadata": {
        "executionTime": 473,
        "lastSuccessfullyExecutedCode": "plt.scatter(X,y, color ='blue')\nplt.plot(X, previsoes, color = 'Red')\nplt.xlabel('Gastos com rádio')\nplt.ylabel('Vendas')\nplt.show()",
        "colab": {
          "base_uri": "https://localhost:8080/",
          "height": 279
        },
        "id": "77883776-6553-4b36-82db-db8adaf4fc73",
        "outputId": "daf41ccb-9446-4c97-adfe-0884e43d463e"
      },
      "cell_type": "code",
      "id": "77883776-6553-4b36-82db-db8adaf4fc73",
      "execution_count": null,
      "outputs": [
        {
          "output_type": "display_data",
          "data": {
            "text/plain": [
              "<Figure size 432x288 with 1 Axes>"
            ],
            "image/png": "[encoded data removed]"
          },
          "metadata": {
            "needs_background": "light"
          }
        }
      ]
    },
    {
      "source": [
        "Vamos agora repetir o que fizemos anteriormente, porém agora de forma mais precisa. Anteriormente usamos todo o conjunto de dados para ajustar nosso modelo e na prática isso não é correto pois não sobra dados para testar o quanto nosso modelo é bom! Vamos então separar nosso conjunto de dados em duas partes: treino e teste.Além disso vamos retirar por hora a variavel 'influencer' que não é numerica e usaremos as outras variaveis para ajustar um modelo.\n",
        "O conjunto de treino será usados para treinar(ajustar) nosso modelo. O conjunto de teste será usado para avaliar a precisçao do mesmo! Vamos lá\n"
      ],
      "metadata": {
        "id": "78944153-1a9e-4386-9539-f53c7721a439"
      },
      "cell_type": "markdown",
      "id": "78944153-1a9e-4386-9539-f53c7721a439"
    },
    {
      "source": [
        "publicidade = publicidade.drop('influencer', axis =1)"
      ],
      "metadata": {
        "executionTime": 109,
        "lastSuccessfullyExecutedCode": "publicidade = publicidade.drop('influencer', axis =1)",
        "id": "ebad2411-2b6a-41e7-a0b5-dfbb70af318a"
      },
      "cell_type": "code",
      "id": "ebad2411-2b6a-41e7-a0b5-dfbb70af318a",
      "execution_count": null,
      "outputs": []
    },
    {
      "source": [],
      "metadata": {
        "id": "8d5ca5ff-4b14-4a6a-8c6d-6534900c5ef3"
      },
      "cell_type": "markdown",
      "id": "8d5ca5ff-4b14-4a6a-8c6d-6534900c5ef3"
    },
    {
      "source": [
        "#Vamos criar o conjunto de treino(X) e  o conjunto de teste(y):"
      ],
      "metadata": {
        "executionTime": 135,
        "lastSuccessfullyExecutedCode": "#Vamos criar o conjunto de treino(X) e  o conjunto de teste(y):",
        "id": "3df8d2ac-34bc-4a4e-928c-cf2595e8449f"
      },
      "cell_type": "code",
      "id": "3df8d2ac-34bc-4a4e-928c-cf2595e8449f",
      "execution_count": null,
      "outputs": []
    },
    {
      "source": [
        "publicidade.head()"
      ],
      "metadata": {
        "executionTime": 172,
        "lastSuccessfullyExecutedCode": "publicidade.head()",
        "colab": {
          "base_uri": "https://localhost:8080/",
          "height": 206
        },
        "id": "892a5352-a539-4afa-94e9-b94200cf5e9a",
        "outputId": "8ad12d2d-5b97-4ef0-90a9-691c92710985"
      },
      "cell_type": "code",
      "id": "892a5352-a539-4afa-94e9-b94200cf5e9a",
      "execution_count": null,
      "outputs": [
        {
          "output_type": "execute_result",
          "data": {
            "text/plain": [
              "        tv     radio  social_media      sales\n",
              "0  16000.0   6566.23       2907.98   54732.76\n",
              "1  13000.0   9237.76       2409.57   46677.90\n",
              "2  41000.0  15886.45       2913.41  150177.83\n",
              "3  83000.0  30020.03       6922.30  298246.34\n",
              "4  15000.0   8437.41       1406.00   56594.18"
            ],
            "text/html": [
              "\n",
              "  <div id=\"df-b87a7349-69b3-4819-87c3-58015993da48\">\n",
              "    <div class=\"colab-df-container\">\n",
              "      <div>\n",
              "<style scoped>\n",
              "    .dataframe tbody tr th:only-of-type {\n",
              "        vertical-align: middle;\n",
              "    }\n",
              "\n",
              "    .dataframe tbody tr th {\n",
              "        vertical-align: top;\n",
              "    }\n",
              "\n",
              "    .dataframe thead th {\n",
              "        text-align: right;\n",
              "    }\n",
              "</style>\n",
              "<table border=\"1\" class=\"dataframe\">\n",
              "  <thead>\n",
              "    <tr style=\"text-align: right;\">\n",
              "      <th></th>\n",
              "      <th>tv</th>\n",
              "      <th>radio</th>\n",
              "      <th>social_media</th>\n",
              "      <th>sales</th>\n",
              "    </tr>\n",
              "  </thead>\n",
              "  <tbody>\n",
              "    <tr>\n",
              "      <th>0</th>\n",
              "      <td>16000.0</td>\n",
              "      <td>6566.23</td>\n",
              "      <td>2907.98</td>\n",
              "      <td>54732.76</td>\n",
              "    </tr>\n",
              "    <tr>\n",
              "      <th>1</th>\n",
              "      <td>13000.0</td>\n",
              "      <td>9237.76</td>\n",
              "      <td>2409.57</td>\n",
              "      <td>46677.90</td>\n",
              "    </tr>\n",
              "    <tr>\n",
              "      <th>2</th>\n",
              "      <td>41000.0</td>\n",
              "      <td>15886.45</td>\n",
              "      <td>2913.41</td>\n",
              "      <td>150177.83</td>\n",
              "    </tr>\n",
              "    <tr>\n",
              "      <th>3</th>\n",
              "      <td>83000.0</td>\n",
              "      <td>30020.03</td>\n",
              "      <td>6922.30</td>\n",
              "      <td>298246.34</td>\n",
              "    </tr>\n",
              "    <tr>\n",
              "      <th>4</th>\n",
              "      <td>15000.0</td>\n",
              "      <td>8437.41</td>\n",
              "      <td>1406.00</td>\n",
              "      <td>56594.18</td>\n",
              "    </tr>\n",
              "  </tbody>\n",
              "</table>\n",
              "</div>\n",
              "      <button class=\"colab-df-convert\" onclick=\"convertToInteractive('df-b87a7349-69b3-4819-87c3-58015993da48')\"\n",
              "              title=\"Convert this dataframe to an interactive table.\"\n",
              "              style=\"display:none;\">\n",
              "        \n",
              "  <svg xmlns=\"http://www.w3.org/2000/svg\" height=\"24px\"viewBox=\"0 0 24 24\"\n",
              "       width=\"24px\">\n",
              "    <path d=\"M0 0h24v24H0V0z\" fill=\"none\"/>\n",
              "    <path d=\"M18.56 5.44l.94 2.06.94-2.06 2.06-.94-2.06-.94-.94-2.06-.94 2.06-2.06.94zm-11 1L8.5 8.5l.94-2.06 2.06-.94-2.06-.94L8.5 2.5l-.94 2.06-2.06.94zm10 10l.94 2.06.94-2.06 2.06-.94-2.06-.94-.94-2.06-.94 2.06-2.06.94z\"/><path d=\"M17.41 7.96l-1.37-1.37c-.4-.4-.92-.59-1.43-.59-.52 0-1.04.2-1.43.59L10.3 9.45l-7.72 7.72c-.78.78-.78 2.05 0 2.83L4 21.41c.39.39.9.59 1.41.59.51 0 1.02-.2 1.41-.59l7.78-7.78 2.81-2.81c.8-.78.8-2.07 0-2.86zM5.41 20L4 18.59l7.72-7.72 1.47 1.35L5.41 20z\"/>\n",
              "  </svg>\n",
              "      </button>\n",
              "      \n",
              "  <style>\n",
              "    .colab-df-container {\n",
              "      display:flex;\n",
              "      flex-wrap:wrap;\n",
              "      gap: 12px;\n",
              "    }\n",
              "\n",
              "    .colab-df-convert {\n",
              "      background-color: #E8F0FE;\n",
              "      border: none;\n",
              "      border-radius: 50%;\n",
              "      cursor: pointer;\n",
              "      display: none;\n",
              "      fill: #1967D2;\n",
              "      height: 32px;\n",
              "      padding: 0 0 0 0;\n",
              "      width: 32px;\n",
              "    }\n",
              "\n",
              "    .colab-df-convert:hover {\n",
              "      background-color: #E2EBFA;\n",
              "      box-shadow: 0px 1px 2px rgba(60, 64, 67, 0.3), 0px 1px 3px 1px rgba(60, 64, 67, 0.15);\n",
              "      fill: #174EA6;\n",
              "    }\n",
              "\n",
              "    [theme=dark] .colab-df-convert {\n",
              "      background-color: #3B4455;\n",
              "      fill: #D2E3FC;\n",
              "    }\n",
              "\n",
              "    [theme=dark] .colab-df-convert:hover {\n",
              "      background-color: #434B5C;\n",
              "      box-shadow: 0px 1px 3px 1px rgba(0, 0, 0, 0.15);\n",
              "      filter: drop-shadow(0px 1px 2px rgba(0, 0, 0, 0.3));\n",
              "      fill: #FFFFFF;\n",
              "    }\n",
              "  </style>\n",
              "\n",
              "      <script>\n",
              "        const buttonEl =\n",
              "          document.querySelector('#df-b87a7349-69b3-4819-87c3-58015993da48 button.colab-df-convert');\n",
              "        buttonEl.style.display =\n",
              "          google.colab.kernel.accessAllowed ? 'block' : 'none';\n",
              "\n",
              "        async function convertToInteractive(key) {\n",
              "          const element = document.querySelector('#df-b87a7349-69b3-4819-87c3-58015993da48');\n",
              "          const dataTable =\n",
              "            await google.colab.kernel.invokeFunction('convertToInteractive',\n",
              "                                                     [key], {});\n",
              "          if (!dataTable) return;\n",
              "\n",
              "          const docLinkHtml = 'Like what you see? Visit the ' +\n",
              "            '<a target=\"_blank\" href=https://colab.research.google.com/notebooks/data_table.ipynb>data table notebook</a>'\n",
              "            + ' to learn more about interactive tables.';\n",
              "          element.innerHTML = '';\n",
              "          dataTable['output_type'] = 'display_data';\n",
              "          await google.colab.output.renderOutput(dataTable, element);\n",
              "          const docLink = document.createElement('div');\n",
              "          docLink.innerHTML = docLinkHtml;\n",
              "          element.appendChild(docLink);\n",
              "        }\n",
              "      </script>\n",
              "    </div>\n",
              "  </div>\n",
              "  "
            ]
          },
          "metadata": {},
          "execution_count": 21
        }
      ]
    },
    {
      "source": [
        "X  = publicidade.drop('sales', axis =1).values\n",
        "print(X)"
      ],
      "metadata": {
        "executionTime": 84,
        "lastSuccessfullyExecutedCode": "X  = publicidade.drop('sales', axis =1).values\nprint(X)",
        "colab": {
          "base_uri": "https://localhost:8080/"
        },
        "id": "b721ceaa-3837-4e99-87ce-ced581e59cb5",
        "outputId": "6a0b0422-d419-4bc1-f2b1-144bbe271919"
      },
      "cell_type": "code",
      "id": "b721ceaa-3837-4e99-87ce-ced581e59cb5",
      "execution_count": null,
      "outputs": [
        {
          "output_type": "stream",
          "name": "stdout",
          "text": [
            "[[16000.    6566.23  2907.98]\n",
            " [13000.    9237.76  2409.57]\n",
            " [41000.   15886.45  2913.41]\n",
            " ...\n",
            " [44000.   19800.07  5096.19]\n",
            " [71000.   17534.64  1940.87]\n",
            " [42000.   15966.69  5046.55]]\n"
          ]
        }
      ]
    },
    {
      "source": [],
      "metadata": {
        "executionTime": 0,
        "lastSuccessfullyExecutedCode": "",
        "id": "e848e8e5-07f7-4ab3-b2b7-9c25d8095774"
      },
      "cell_type": "code",
      "id": "e848e8e5-07f7-4ab3-b2b7-9c25d8095774",
      "execution_count": null,
      "outputs": []
    },
    {
      "source": [
        "y = publicidade['sales'].values\n",
        "print(y)"
      ],
      "metadata": {
        "executionTime": 85,
        "lastSuccessfullyExecutedCode": "y = publicidade['sales'].values\nprint(y)",
        "colab": {
          "base_uri": "https://localhost:8080/"
        },
        "id": "fa55a620-9ac0-4228-bfab-15efa79bc330",
        "outputId": "56beb0fd-8af4-48ed-f787-6b60609e3166"
      },
      "cell_type": "code",
      "id": "fa55a620-9ac0-4228-bfab-15efa79bc330",
      "execution_count": null,
      "outputs": [
        {
          "output_type": "stream",
          "name": "stdout",
          "text": [
            "[ 54732.76  46677.9  150177.83 ... 163631.46 253610.41 148202.41]\n"
          ]
        }
      ]
    },
    {
      "source": [
        "from sklearn.model_selection import train_test_split\n",
        "from sklearn.linear_model import LinearRegression"
      ],
      "metadata": {
        "executionTime": 0,
        "lastSuccessfullyExecutedCode": "from sklearn.model_selection import train_test_split\nfrom sklearn.linear_model import LinearRegression",
        "id": "fe89c242-b4d2-4077-ba27-75ce9a0a71cc"
      },
      "cell_type": "code",
      "id": "fe89c242-b4d2-4077-ba27-75ce9a0a71cc",
      "execution_count": null,
      "outputs": []
    },
    {
      "source": [
        "X_treino, X_teste, y_treino, y_teste = train_test_split(X, y, test_size=0.3,random_state=42)"
      ],
      "metadata": {
        "executionTime": 78,
        "lastSuccessfullyExecutedCode": "X_treino, X_teste, y_treino, y_teste = train_test_split(X, y, test_size=0.3,random_state=42)",
        "id": "3da3b0a0-e44f-4181-932e-376f8d503498"
      },
      "cell_type": "code",
      "id": "3da3b0a0-e44f-4181-932e-376f8d503498",
      "execution_count": null,
      "outputs": []
    },
    {
      "source": [
        "X_treino.shape, y_treino.shape"
      ],
      "metadata": {
        "executionTime": 80,
        "lastSuccessfullyExecutedCode": "X_treino.shape, y_treino.shape",
        "colab": {
          "base_uri": "https://localhost:8080/"
        },
        "id": "4f812ab6-9383-49d9-8e58-ab0cb46b19bd",
        "outputId": "c6bdc25b-1db1-4d82-96bd-ac376c6cd9db"
      },
      "cell_type": "code",
      "id": "4f812ab6-9383-49d9-8e58-ab0cb46b19bd",
      "execution_count": null,
      "outputs": [
        {
          "output_type": "execute_result",
          "data": {
            "text/plain": [
              "((3182, 3), (3182,))"
            ]
          },
          "metadata": {},
          "execution_count": 26
        }
      ]
    },
    {
      "source": [
        "X_teste.shape, y_teste.shape"
      ],
      "metadata": {
        "executionTime": 72,
        "lastSuccessfullyExecutedCode": "X_teste.shape, y_teste.shape",
        "colab": {
          "base_uri": "https://localhost:8080/"
        },
        "id": "d5ceea68-a4aa-4b16-a163-d1db968cb965",
        "outputId": "a0473cc1-ce88-4541-abfe-3c8c6eeb3330"
      },
      "cell_type": "code",
      "id": "d5ceea68-a4aa-4b16-a163-d1db968cb965",
      "execution_count": null,
      "outputs": [
        {
          "output_type": "execute_result",
          "data": {
            "text/plain": [
              "((1364, 3), (1364,))"
            ]
          },
          "metadata": {},
          "execution_count": 27
        }
      ]
    },
    {
      "source": [
        "Agora vamos instabciar o modelo:"
      ],
      "metadata": {
        "id": "fff6dca7-d136-4826-ab2e-397c475fb04d"
      },
      "cell_type": "markdown",
      "id": "fff6dca7-d136-4826-ab2e-397c475fb04d"
    },
    {
      "source": [
        "reg = LinearRegression()"
      ],
      "metadata": {
        "executionTime": 125,
        "lastSuccessfullyExecutedCode": "reg = LinearRegression()",
        "id": "0ae4b53e-a63c-4fb0-b5cc-df79d2ba58da"
      },
      "cell_type": "code",
      "id": "0ae4b53e-a63c-4fb0-b5cc-df79d2ba58da",
      "execution_count": null,
      "outputs": []
    },
    {
      "source": [
        "Agora vamos ajustar o modelo:"
      ],
      "metadata": {
        "id": "6fa9bd3f-4c88-4688-8b78-73f9fc9dcdc8"
      },
      "cell_type": "markdown",
      "id": "6fa9bd3f-4c88-4688-8b78-73f9fc9dcdc8"
    },
    {
      "source": [
        "reg.fit(X_treino, y_treino)"
      ],
      "metadata": {
        "executionTime": 110,
        "lastSuccessfullyExecutedCode": "reg.fit(X_treino, y_treino)",
        "colab": {
          "base_uri": "https://localhost:8080/",
          "height": 75
        },
        "id": "60fdfaa6-d790-45c0-94ee-ff989aa8c47c",
        "outputId": "ddd2a06c-e380-4703-a238-755ff4c19390"
      },
      "cell_type": "code",
      "id": "60fdfaa6-d790-45c0-94ee-ff989aa8c47c",
      "execution_count": null,
      "outputs": [
        {
          "output_type": "execute_result",
          "data": {
            "text/plain": [
              "LinearRegression()"
            ],
            "text/html": [
              "<style>#sk-container-id-2 {color: black;background-color: white;}#sk-container-id-2 pre{padding: 0;}#sk-container-id-2 div.sk-toggleable {background-color: white;}#sk-container-id-2 label.sk-toggleable__label {cursor: pointer;display: block;width: 100%;margin-bottom: 0;padding: 0.3em;box-sizing: border-box;text-align: center;}#sk-container-id-2 label.sk-toggleable__label-arrow:before {content: \"▸\";float: left;margin-right: 0.25em;color: #696969;}#sk-container-id-2 label.sk-toggleable__label-arrow:hover:before {color: black;}#sk-container-id-2 div.sk-estimator:hover label.sk-toggleable__label-arrow:before {color: black;}#sk-container-id-2 div.sk-toggleable__content {max-height: 0;max-width: 0;overflow: hidden;text-align: left;background-color: #f0f8ff;}#sk-container-id-2 div.sk-toggleable__content pre {margin: 0.2em;color: black;border-radius: 0.25em;background-color: #f0f8ff;}#sk-container-id-2 input.sk-toggleable__control:checked~div.sk-toggleable__content {max-height: 200px;max-width: 100%;overflow: auto;}#sk-container-id-2 input.sk-toggleable__control:checked~label.sk-toggleable__label-arrow:before {content: \"▾\";}#sk-container-id-2 div.sk-estimator input.sk-toggleable__control:checked~label.sk-toggleable__label {background-color: #d4ebff;}#sk-container-id-2 div.sk-label input.sk-toggleable__control:checked~label.sk-toggleable__label {background-color: #d4ebff;}#sk-container-id-2 input.sk-hidden--visually {border: 0;clip: rect(1px 1px 1px 1px);clip: rect(1px, 1px, 1px, 1px);height: 1px;margin: -1px;overflow: hidden;padding: 0;position: absolute;width: 1px;}#sk-container-id-2 div.sk-estimator {font-family: monospace;background-color: #f0f8ff;border: 1px dotted black;border-radius: 0.25em;box-sizing: border-box;margin-bottom: 0.5em;}#sk-container-id-2 div.sk-estimator:hover {background-color: #d4ebff;}#sk-container-id-2 div.sk-parallel-item::after {content: \"\";width: 100%;border-bottom: 1px solid gray;flex-grow: 1;}#sk-container-id-2 div.sk-label:hover label.sk-toggleable__label {background-color: #d4ebff;}#sk-container-id-2 div.sk-serial::before {content: \"\";position: absolute;border-left: 1px solid gray;box-sizing: border-box;top: 0;bottom: 0;left: 50%;z-index: 0;}#sk-container-id-2 div.sk-serial {display: flex;flex-direction: column;align-items: center;background-color: white;padding-right: 0.2em;padding-left: 0.2em;position: relative;}#sk-container-id-2 div.sk-item {position: relative;z-index: 1;}#sk-container-id-2 div.sk-parallel {display: flex;align-items: stretch;justify-content: center;background-color: white;position: relative;}#sk-container-id-2 div.sk-item::before, #sk-container-id-2 div.sk-parallel-item::before {content: \"\";position: absolute;border-left: 1px solid gray;box-sizing: border-box;top: 0;bottom: 0;left: 50%;z-index: -1;}#sk-container-id-2 div.sk-parallel-item {display: flex;flex-direction: column;z-index: 1;position: relative;background-color: white;}#sk-container-id-2 div.sk-parallel-item:first-child::after {align-self: flex-end;width: 50%;}#sk-container-id-2 div.sk-parallel-item:last-child::after {align-self: flex-start;width: 50%;}#sk-container-id-2 div.sk-parallel-item:only-child::after {width: 0;}#sk-container-id-2 div.sk-dashed-wrapped {border: 1px dashed gray;margin: 0 0.4em 0.5em 0.4em;box-sizing: border-box;padding-bottom: 0.4em;background-color: white;}#sk-container-id-2 div.sk-label label {font-family: monospace;font-weight: bold;display: inline-block;line-height: 1.2em;}#sk-container-id-2 div.sk-label-container {text-align: center;}#sk-container-id-2 div.sk-container {/* jupyter's `normalize.less` sets `[hidden] { display: none; }` but bootstrap.min.css set `[hidden] { display: none !important; }` so we also need the `!important` here to be able to override the default hidden behavior on the sphinx rendered scikit-learn.org. See: https://github.com/scikit-learn/scikit-learn/issues/21755 */display: inline-block !important;position: relative;}#sk-container-id-2 div.sk-text-repr-fallback {display: none;}</style><div id=\"sk-container-id-2\" class=\"sk-top-container\"><div class=\"sk-text-repr-fallback\"><pre>LinearRegression()</pre><b>In a Jupyter environment, please rerun this cell to show the HTML representation or trust the notebook. <br />On GitHub, the HTML representation is unable to render, please try loading this page with nbviewer.org.</b></div><div class=\"sk-container\" hidden><div class=\"sk-item\"><div class=\"sk-estimator sk-toggleable\"><input class=\"sk-toggleable__control sk-hidden--visually\" id=\"sk-estimator-id-2\" type=\"checkbox\" checked><label for=\"sk-estimator-id-2\" class=\"sk-toggleable__label sk-toggleable__label-arrow\">LinearRegression</label><div class=\"sk-toggleable__content\"><pre>LinearRegression()</pre></div></div></div></div></div>"
            ]
          },
          "metadata": {},
          "execution_count": 29
        }
      ]
    },
    {
      "source": [
        "y_prev = reg.predict(X_teste)"
      ],
      "metadata": {
        "executionTime": 0,
        "lastSuccessfullyExecutedCode": "y_prev = reg.predict(X_teste)",
        "id": "2e37f735-4f58-41d9-973e-31e46e5e2fe7"
      },
      "cell_type": "code",
      "id": "2e37f735-4f58-41d9-973e-31e46e5e2fe7",
      "execution_count": null,
      "outputs": []
    },
    {
      "source": [
        "Agora vamos comparar os resultados:"
      ],
      "metadata": {
        "id": "b0f29356-8359-4e0a-af55-b465c73bf1a5"
      },
      "cell_type": "markdown",
      "id": "b0f29356-8359-4e0a-af55-b465c73bf1a5"
    },
    {
      "source": [
        "print(f'Os quatro primeiros valores reais são {y_teste[:4]}\\n Os quatro primeiros previstos são: {y_prev[:4]}')"
      ],
      "metadata": {
        "executionTime": 70,
        "lastSuccessfullyExecutedCode": "print(f'Os quatro primeiros valores reais são {y_teste[:4]}\\n Os quatro primeiros previstos são: {y_prev[:4]}')",
        "colab": {
          "base_uri": "https://localhost:8080/"
        },
        "id": "530e3173-752f-4e04-abf0-c086511cedcd",
        "outputId": "51962970-7d7d-4410-a719-1af14e1d87ea"
      },
      "cell_type": "code",
      "id": "530e3173-752f-4e04-abf0-c086511cedcd",
      "execution_count": null,
      "outputs": [
        {
          "output_type": "stream",
          "name": "stdout",
          "text": [
            "Os quatro primeiros valores reais são [ 55261.28  67574.9  272250.11 195102.18]\n",
            " Os quatro primeiros previstos são: [ 53176.66154234  70996.19873235 267032.64132081 195731.02438566]\n"
          ]
        }
      ]
    },
    {
      "source": [
        "Bom até agora treinamos(ajustamos) um modelo de regressão multipla aos nossos dados de treino(X_treino, y_treino) e aplicamos o modelo nos dados não visots pelo modelo, os dados de teste(X_teste) para criar previsões. Precisamos agora medir a performance desse nosso modelo. Será que as previsões que obtemos são boas?"
      ],
      "metadata": {
        "id": "8a0e56f7-d888-47d7-80ca-22e244fa62fe"
      },
      "cell_type": "markdown",
      "id": "8a0e56f7-d888-47d7-80ca-22e244fa62fe"
    },
    {
      "source": [
        "Vamos então usar duas métricas para avaliar o modelo, o R^2 e o mean_square_error(erro quadrático médio)"
      ],
      "metadata": {
        "id": "2c755850-34b5-456c-9d16-6d4ae59e33e3"
      },
      "cell_type": "markdown",
      "id": "2c755850-34b5-456c-9d16-6d4ae59e33e3"
    },
    {
      "source": [
        "#R^2\n",
        "\n",
        "r_quadrado = reg.score(X_teste, y_teste)\n",
        "#print(r_quadrado)\n",
        "#raiz do erro quadratico medio\n",
        "#preciso importar\n",
        "from sklearn.metrics import mean_squared_error\n",
        "\n",
        "mse = mean_squared_error(y_teste, y_prev)\n",
        "#print(round(rmse))\n",
        "\n",
        "print(f'R^2: {r_quadrado}\\nrmse: {round(mse)}')"
      ],
      "metadata": {
        "executionTime": 81,
        "lastSuccessfullyExecutedCode": "#R^2\n\nr_quadrado = reg.score(X_teste, y_teste)\n#print(r_quadrado)\n#raiz do erro quadratico medio\n#preciso importar\nfrom sklearn.metrics import mean_squared_error\n\nmse = mean_squared_error(y_teste, y_prev)\n#print(round(rmse))\n\nprint(f'R^2: {r_quadrado}\\nrmse: {round(mse)}')",
        "colab": {
          "base_uri": "https://localhost:8080/"
        },
        "id": "f67b5560-59df-4685-83a6-075cc60e1b24",
        "outputId": "3c4cc7ea-9fe0-4de7-cb3f-d547647f26e5"
      },
      "cell_type": "code",
      "id": "f67b5560-59df-4685-83a6-075cc60e1b24",
      "execution_count": null,
      "outputs": [
        {
          "output_type": "stream",
          "name": "stdout",
          "text": [
            "R^2: 0.9990152104759368\n",
            "rmse: 8669687\n"
          ]
        }
      ]
    },
    {
      "source": [
        "O método utilizado acima, de dividir o conjunto de dados em treino e teste já nos da uma ideia da performance do modelo. Essa metodologia porém também tem suas falhas, afinal o conjunto de teste escolhido pode não ser um conjunto representativo de todos\n",
        "os dados do nosso conjunto. Para evitar isso e melhorar a avaliação do modelo utilizamos a validação cruzada.\n",
        "A validação cruzada é uma abordagem vital para avaliar um modelo. Ele maximiza a quantidade de dados disponíveis para o modelo, pois o modelo não é apenas treinado, mas também testado em todos os dados disponíveis."
      ],
      "metadata": {
        "id": "3a371e41-56ef-432d-a083-f648d54e92ae"
      },
      "cell_type": "markdown",
      "id": "3a371e41-56ef-432d-a083-f648d54e92ae"
    },
    {
      "source": [
        "Resumindo:\n",
        "\n",
        "Motivação de validação cruzada\n",
        "\n",
        "- O desempenho do modelo depende da maneira como dividimos os dados\n",
        "- O  R^2 ou outra métrica de avaliação no conjunto de teste não representa a capacidade do modelo de generalizar para dados não vistos\n",
        "- Solução: validação cruzada"
      ],
      "metadata": {
        "id": "e78b1765-685a-4409-8a6f-6e89b81c305c"
      },
      "cell_type": "markdown",
      "id": "e78b1765-685a-4409-8a6f-6e89b81c305c"
    },
    {
      "source": [
        "Vamos construir novamente um modelo de regressão linear e, em seguida, usará validação cruzada de 6 conjuntos para avaliar sua precisão para prever vendas usando gastos com publicidade em mídia social. Você exibirá a pontuação individual para cada uma das seis dobras.\n"
      ],
      "metadata": {
        "id": "e7984634-64fe-4467-9ec3-a86093bce68f"
      },
      "cell_type": "markdown",
      "id": "e7984634-64fe-4467-9ec3-a86093bce68f"
    },
    {
      "source": [
        "#Importanto o modelo\n",
        "from sklearn.model_selection import cross_val_score, KFold\n"
      ],
      "metadata": {
        "executionTime": 0,
        "lastSuccessfullyExecutedCode": "#Importanto o modelo\nfrom sklearn.model_selection import cross_val_score, KFold\n",
        "id": "cfa5189a-a97f-47e1-97d6-3f9a70e41395"
      },
      "cell_type": "code",
      "id": "cfa5189a-a97f-47e1-97d6-3f9a70e41395",
      "execution_count": null,
      "outputs": []
    },
    {
      "source": [
        "kf = KFold(n_splits=6, shuffle=True,random_state=5)"
      ],
      "metadata": {
        "executionTime": 0,
        "lastSuccessfullyExecutedCode": "kf = KFold(n_splits=6, shuffle=True,random_state=5)",
        "id": "61f48c33-2e1b-486d-84f5-cee2847fd67d"
      },
      "cell_type": "code",
      "id": "61f48c33-2e1b-486d-84f5-cee2847fd67d",
      "execution_count": null,
      "outputs": []
    },
    {
      "source": [
        "for i, (train_index, test_index) in enumerate(kf.split(X)):\n",
        "...     print(f\"Fold {i}:\")\n",
        "...     print(f\"  Treino: index={train_index}\")\n",
        "...     print(f\"  Teste:  index={test_index}\")"
      ],
      "metadata": {
        "executionTime": 63,
        "lastSuccessfullyExecutedCode": "for i, (train_index, test_index) in enumerate(kf.split(X)):\n...     print(f\"Fold {i}:\")\n...     print(f\"  Train: index={train_index}\")\n...     print(f\"  Test:  index={test_index}\")",
        "colab": {
          "base_uri": "https://localhost:8080/"
        },
        "id": "70c5d0fb-4248-4817-9dcd-31fa5cad19dd",
        "outputId": "c9f74935-934d-4d8a-f00b-900a5bdfe989"
      },
      "cell_type": "code",
      "id": "70c5d0fb-4248-4817-9dcd-31fa5cad19dd",
      "execution_count": null,
      "outputs": [
        {
          "output_type": "stream",
          "name": "stdout",
          "text": [
            "Fold 0:\n",
            "  Treino: index=[   0    1    2 ... 4543 4544 4545]\n",
            "  Teste:  index=[   9   19   28   47   49   54   59   73   76   84   95   97  101  111\n",
            "  139  142  146  148  150  167  169  173  175  177  179  184  191  194\n",
            "  222  228  231  240  242  261  265  266  278  279  285  314  317  321\n",
            "  324  325  329  336  342  350  356  359  378  385  390  394  406  416\n",
            "  417  418  424  444  447  457  466  467  468  470  476  491  526  527\n",
            "  532  544  557  559  560  563  564  569  576  580  584  586  589  594\n",
            "  599  600  601  603  611  613  619  621  622  629  641  651  653  667\n",
            "  668  678  684  685  695  710  711  714  716  720  722  729  735  753\n",
            "  757  758  769  771  781  782  784  791  795  796  805  807  812  814\n",
            "  815  816  818  849  850  853  857  859  865  869  871  874  877  884\n",
            "  887  889  890  902  909  928  944  947  948  952  953  958  960  963\n",
            "  966  975  978  979  982  999 1002 1008 1020 1023 1025 1036 1039 1059\n",
            " 1062 1066 1071 1072 1081 1103 1105 1123 1125 1128 1135 1149 1151 1155\n",
            " 1163 1167 1170 1183 1186 1190 1192 1195 1203 1218 1220 1225 1228 1252\n",
            " 1262 1269 1272 1276 1279 1282 1287 1289 1291 1296 1297 1302 1312 1314\n",
            " 1317 1320 1328 1332 1333 1340 1342 1343 1349 1373 1386 1393 1394 1400\n",
            " 1419 1431 1433 1444 1446 1449 1474 1476 1484 1485 1487 1491 1497 1509\n",
            " 1521 1526 1532 1534 1537 1541 1542 1546 1548 1550 1551 1559 1561 1570\n",
            " 1575 1576 1581 1587 1590 1591 1598 1601 1603 1615 1628 1634 1635 1639\n",
            " 1653 1660 1670 1675 1682 1693 1695 1705 1708 1711 1713 1716 1720 1730\n",
            " 1745 1751 1753 1772 1781 1790 1796 1803 1805 1807 1813 1823 1829 1856\n",
            " 1865 1867 1869 1872 1874 1875 1877 1885 1888 1891 1892 1895 1906 1909\n",
            " 1912 1914 1929 1930 1938 1944 1948 1952 1962 1963 1975 1979 1980 1997\n",
            " 2003 2007 2008 2019 2020 2021 2029 2030 2040 2043 2050 2054 2059 2060\n",
            " 2063 2065 2069 2073 2075 2081 2088 2089 2102 2106 2113 2151 2152 2155\n",
            " 2156 2163 2165 2168 2174 2181 2186 2195 2203 2208 2212 2219 2225 2231\n",
            " 2233 2241 2243 2244 2264 2273 2283 2284 2287 2296 2301 2303 2306 2314\n",
            " 2322 2335 2340 2341 2348 2358 2364 2366 2380 2383 2391 2396 2401 2402\n",
            " 2422 2425 2433 2435 2439 2441 2443 2446 2456 2458 2460 2469 2470 2474\n",
            " 2480 2481 2484 2485 2492 2495 2497 2514 2526 2527 2537 2541 2543 2546\n",
            " 2548 2550 2551 2554 2558 2576 2584 2589 2590 2591 2593 2597 2602 2621\n",
            " 2626 2634 2650 2654 2662 2664 2667 2668 2671 2675 2681 2691 2693 2697\n",
            " 2700 2705 2708 2709 2712 2720 2724 2727 2728 2743 2755 2758 2771 2786\n",
            " 2794 2795 2796 2800 2812 2815 2816 2817 2819 2822 2829 2834 2837 2843\n",
            " 2849 2851 2855 2857 2862 2877 2880 2886 2888 2902 2903 2904 2905 2912\n",
            " 2928 2929 2932 2934 2940 2948 2955 2958 2967 2978 2984 2992 3006 3011\n",
            " 3014 3033 3075 3077 3079 3084 3092 3096 3100 3103 3105 3127 3138 3140\n",
            " 3141 3145 3148 3151 3154 3157 3167 3170 3184 3189 3197 3200 3203 3205\n",
            " 3206 3210 3211 3215 3221 3226 3231 3238 3245 3259 3260 3271 3275 3282\n",
            " 3299 3305 3306 3309 3311 3319 3323 3327 3328 3330 3335 3339 3342 3344\n",
            " 3349 3353 3367 3368 3379 3383 3400 3410 3420 3422 3423 3433 3434 3455\n",
            " 3457 3458 3463 3464 3468 3471 3472 3508 3510 3511 3512 3516 3517 3522\n",
            " 3535 3540 3542 3543 3555 3576 3581 3584 3593 3597 3598 3603 3604 3605\n",
            " 3615 3624 3631 3636 3643 3644 3648 3656 3669 3672 3702 3704 3715 3723\n",
            " 3727 3732 3738 3753 3755 3761 3763 3781 3782 3784 3791 3794 3799 3800\n",
            " 3801 3802 3804 3818 3821 3834 3844 3851 3852 3857 3872 3885 3889 3895\n",
            " 3899 3902 3904 3908 3909 3915 3916 3944 3946 3955 3960 3965 3966 3967\n",
            " 3972 3980 3995 3996 4004 4011 4021 4027 4029 4030 4048 4052 4056 4066\n",
            " 4080 4084 4087 4090 4094 4095 4099 4105 4111 4119 4120 4131 4132 4133\n",
            " 4134 4135 4138 4145 4162 4181 4183 4187 4189 4201 4204 4205 4215 4229\n",
            " 4233 4245 4249 4251 4254 4258 4270 4274 4275 4284 4289 4290 4293 4294\n",
            " 4301 4306 4319 4323 4324 4333 4335 4338 4340 4343 4346 4347 4358 4363\n",
            " 4366 4369 4373 4377 4387 4392 4396 4397 4398 4412 4426 4430 4432 4433\n",
            " 4435 4441 4451 4456 4467 4468 4474 4480 4488 4505 4514 4515 4521 4532\n",
            " 4537 4539]\n",
            "Fold 1:\n",
            "  Treino: index=[   1    2    3 ... 4543 4544 4545]\n",
            "  Teste:  index=[   0    6   12   20   29   46   52   64   65   75   79   86   87   96\n",
            "  108  115  120  124  126  131  136  149  152  153  163  164  165  168\n",
            "  170  178  181  183  186  202  220  221  225  227  230  232  234  245\n",
            "  246  251  254  269  280  284  286  288  295  297  301  311  315  338\n",
            "  347  363  366  376  391  399  401  412  421  425  426  428  432  443\n",
            "  446  448  464  472  475  478  480  482  495  496  498  499  503  510\n",
            "  514  515  517  521  523  531  533  546  570  575  579  591  606  607\n",
            "  626  637  646  650  656  659  665  675  690  698  699  700  703  709\n",
            "  734  737  739  743  744  748  749  752  755  767  776  789  793  797\n",
            "  802  824  825  831  833  834  840  842  845  847  855  858  875  878\n",
            "  883  894  896  917  919  927  929  932  938  946  964  969  980  981\n",
            "  983  985  994  998 1004 1006 1010 1013 1015 1029 1031 1034 1047 1050\n",
            " 1064 1067 1069 1070 1092 1096 1098 1101 1107 1110 1114 1116 1118 1129\n",
            " 1130 1152 1154 1156 1157 1168 1174 1176 1180 1181 1184 1189 1196 1200\n",
            " 1232 1242 1250 1266 1267 1271 1274 1286 1288 1307 1308 1313 1315 1321\n",
            " 1323 1324 1329 1335 1338 1348 1367 1370 1371 1372 1378 1383 1396 1402\n",
            " 1405 1411 1415 1420 1423 1425 1430 1435 1439 1445 1450 1453 1454 1455\n",
            " 1456 1461 1462 1469 1478 1486 1488 1496 1500 1510 1511 1519 1522 1531\n",
            " 1533 1538 1545 1562 1563 1564 1566 1582 1583 1606 1607 1612 1619 1624\n",
            " 1630 1641 1642 1654 1657 1658 1661 1663 1674 1677 1698 1709 1712 1714\n",
            " 1719 1728 1732 1734 1736 1738 1757 1758 1761 1774 1778 1789 1791 1798\n",
            " 1800 1801 1804 1809 1811 1814 1815 1816 1818 1820 1821 1828 1831 1838\n",
            " 1841 1843 1844 1845 1848 1864 1881 1886 1896 1899 1902 1903 1904 1918\n",
            " 1919 1922 1933 1935 1940 1941 1951 1959 1961 1964 1965 1970 1972 1973\n",
            " 1990 1991 1993 1994 2002 2011 2013 2015 2049 2051 2052 2062 2066 2067\n",
            " 2068 2071 2074 2077 2091 2097 2099 2109 2119 2126 2130 2134 2137 2141\n",
            " 2153 2154 2158 2164 2166 2183 2190 2191 2197 2200 2210 2215 2217 2223\n",
            " 2224 2228 2235 2239 2242 2248 2251 2255 2256 2257 2260 2262 2263 2280\n",
            " 2290 2294 2300 2309 2312 2315 2318 2320 2321 2323 2328 2331 2334 2344\n",
            " 2345 2353 2371 2382 2404 2418 2420 2440 2442 2447 2455 2476 2477 2487\n",
            " 2489 2491 2511 2512 2525 2528 2535 2540 2559 2565 2567 2571 2577 2581\n",
            " 2582 2585 2586 2594 2604 2605 2606 2607 2609 2612 2619 2622 2635 2646\n",
            " 2648 2649 2651 2655 2658 2659 2663 2665 2666 2673 2679 2687 2695 2711\n",
            " 2717 2729 2733 2736 2745 2751 2752 2756 2761 2768 2778 2779 2799 2804\n",
            " 2810 2820 2828 2844 2846 2852 2859 2860 2861 2867 2871 2873 2892 2895\n",
            " 2899 2900 2908 2909 2911 2913 2914 2916 2922 2941 2946 2951 2957 2959\n",
            " 2963 2968 2970 2982 2991 2995 3003 3008 3010 3024 3028 3032 3035 3042\n",
            " 3059 3070 3081 3098 3099 3101 3107 3111 3113 3122 3126 3142 3158 3177\n",
            " 3178 3191 3196 3198 3208 3212 3230 3239 3243 3257 3261 3262 3268 3280\n",
            " 3283 3291 3294 3296 3300 3302 3303 3304 3321 3325 3333 3358 3360 3370\n",
            " 3378 3382 3386 3388 3390 3402 3411 3417 3431 3437 3438 3443 3446 3449\n",
            " 3452 3453 3460 3465 3483 3484 3494 3497 3499 3504 3514 3518 3528 3530\n",
            " 3539 3541 3546 3561 3567 3570 3573 3574 3577 3596 3608 3612 3627 3633\n",
            " 3634 3637 3640 3646 3647 3668 3670 3677 3680 3689 3694 3695 3700 3708\n",
            " 3711 3713 3720 3725 3726 3751 3774 3786 3789 3790 3796 3797 3807 3812\n",
            " 3819 3822 3823 3824 3828 3831 3849 3853 3854 3869 3870 3874 3884 3888\n",
            " 3892 3900 3903 3924 3926 3934 3938 3945 3949 3951 3956 3961 3974 3985\n",
            " 3989 3991 4008 4012 4019 4031 4035 4041 4042 4044 4050 4051 4063 4064\n",
            " 4072 4077 4088 4091 4097 4124 4141 4159 4165 4167 4168 4171 4191 4192\n",
            " 4195 4196 4206 4207 4209 4212 4214 4216 4228 4237 4238 4240 4250 4265\n",
            " 4277 4283 4285 4287 4295 4297 4298 4302 4303 4308 4312 4316 4328 4329\n",
            " 4345 4348 4349 4350 4352 4364 4367 4376 4383 4384 4388 4403 4408 4411\n",
            " 4413 4414 4415 4419 4422 4423 4427 4428 4431 4434 4437 4438 4440 4447\n",
            " 4453 4454 4455 4465 4477 4491 4504 4506 4508 4510 4512 4518 4529 4533\n",
            " 4540 4541]\n",
            "Fold 2:\n",
            "  Treino: index=[   0    1    3 ... 4543 4544 4545]\n",
            "  Teste:  index=[   2    4    5    7   14   15   17   26   27   32   33   34   39   45\n",
            "   51   53   68   69   71   72   77   78   88   99  103  114  117  130\n",
            "  132  133  141  151  156  159  160  171  176  182  187  189  197  199\n",
            "  207  208  219  223  226  236  243  247  248  258  260  262  264  273\n",
            "  275  281  292  293  299  302  312  326  331  333  344  345  346  353\n",
            "  360  372  374  388  395  396  404  410  411  413  414  419  430  437\n",
            "  438  441  442  452  453  461  463  469  473  477  483  484  486  487\n",
            "  488  501  506  508  519  520  543  548  549  556  567  568  573  578\n",
            "  583  587  602  610  615  618  627  635  638  649  652  661  662  674\n",
            "  680  681  687  689  697  701  704  727  728  733  736  759  760  762\n",
            "  763  772  773  775  783  792  806  811  819  821  828  837  838  843\n",
            "  852  856  863  866  886  900  901  903  907  908  924  934  935  936\n",
            "  941  945  949  951  955  959  962  965  976  977  988  989  990  992\n",
            " 1000 1001 1005 1021 1037 1045 1049 1056 1057 1058 1065 1073 1074 1076\n",
            " 1083 1089 1090 1093 1095 1100 1102 1104 1106 1108 1119 1120 1127 1132\n",
            " 1134 1143 1147 1150 1160 1165 1173 1175 1177 1178 1201 1214 1215 1216\n",
            " 1219 1236 1237 1239 1263 1270 1275 1293 1300 1316 1318 1330 1334 1341\n",
            " 1352 1355 1365 1387 1388 1403 1408 1412 1414 1422 1427 1428 1432 1434\n",
            " 1437 1438 1443 1448 1457 1458 1463 1465 1468 1470 1472 1481 1494 1499\n",
            " 1507 1508 1513 1517 1518 1523 1528 1558 1568 1569 1595 1597 1608 1610\n",
            " 1614 1623 1625 1631 1633 1636 1648 1649 1650 1652 1671 1678 1683 1685\n",
            " 1688 1689 1700 1702 1703 1704 1721 1724 1733 1737 1741 1747 1748 1752\n",
            " 1762 1763 1764 1768 1771 1773 1787 1792 1795 1827 1830 1833 1834 1847\n",
            " 1852 1873 1878 1887 1893 1897 1900 1907 1911 1920 1925 1931 1932 1934\n",
            " 1943 1949 1968 1969 1976 1977 1983 1986 2016 2032 2045 2046 2080 2083\n",
            " 2095 2098 2114 2118 2120 2123 2128 2135 2146 2150 2160 2172 2173 2188\n",
            " 2189 2192 2193 2198 2213 2214 2226 2230 2234 2238 2245 2249 2250 2259\n",
            " 2261 2266 2267 2268 2274 2275 2278 2281 2289 2299 2317 2327 2330 2342\n",
            " 2343 2347 2351 2354 2355 2356 2367 2374 2385 2386 2390 2394 2395 2403\n",
            " 2408 2416 2421 2428 2430 2437 2462 2464 2465 2472 2473 2483 2493 2496\n",
            " 2500 2506 2508 2518 2523 2529 2531 2536 2547 2549 2556 2557 2561 2569\n",
            " 2588 2592 2596 2611 2614 2616 2623 2629 2630 2637 2641 2647 2656 2657\n",
            " 2661 2669 2674 2677 2678 2701 2721 2723 2731 2737 2742 2746 2748 2749\n",
            " 2759 2765 2777 2782 2792 2797 2801 2805 2808 2825 2831 2839 2854 2864\n",
            " 2866 2881 2889 2893 2894 2896 2907 2910 2927 2933 2936 2942 2953 2960\n",
            " 2962 2964 2972 2976 2980 2983 2985 2987 2997 3000 3004 3022 3023 3026\n",
            " 3037 3045 3048 3057 3058 3064 3067 3110 3112 3116 3124 3132 3133 3134\n",
            " 3161 3162 3169 3180 3188 3192 3195 3201 3202 3218 3228 3232 3233 3248\n",
            " 3251 3264 3265 3279 3281 3284 3286 3290 3292 3293 3314 3318 3324 3334\n",
            " 3337 3346 3347 3354 3359 3362 3363 3364 3365 3371 3380 3384 3387 3389\n",
            " 3396 3397 3403 3404 3406 3407 3413 3418 3421 3425 3428 3442 3447 3459\n",
            " 3462 3466 3474 3479 3489 3491 3495 3527 3531 3534 3537 3547 3558 3564\n",
            " 3569 3572 3578 3585 3586 3587 3589 3599 3607 3609 3610 3618 3623 3635\n",
            " 3649 3652 3653 3655 3664 3671 3681 3687 3688 3696 3697 3699 3710 3716\n",
            " 3729 3736 3746 3749 3750 3758 3760 3767 3770 3788 3795 3805 3808 3817\n",
            " 3826 3832 3833 3836 3846 3847 3855 3856 3860 3865 3873 3879 3882 3887\n",
            " 3896 3901 3911 3913 3921 3923 3925 3927 3928 3929 3940 3942 3943 3947\n",
            " 3952 3958 3968 3970 3978 3984 3988 3999 4002 4005 4007 4010 4018 4020\n",
            " 4033 4034 4039 4043 4047 4049 4057 4069 4073 4075 4081 4085 4096 4100\n",
            " 4106 4114 4116 4117 4125 4126 4128 4130 4137 4142 4143 4147 4152 4155\n",
            " 4156 4175 4182 4185 4198 4220 4223 4232 4235 4247 4255 4257 4272 4276\n",
            " 4280 4305 4310 4311 4314 4331 4332 4342 4351 4356 4357 4368 4372 4375\n",
            " 4379 4399 4400 4404 4406 4410 4417 4442 4444 4452 4458 4459 4461 4462\n",
            " 4469 4482 4495 4496 4498 4509 4511 4513 4516 4517 4522 4525 4527 4528\n",
            " 4530 4535]\n",
            "Fold 3:\n",
            "  Treino: index=[   0    2    3 ... 4541 4542 4544]\n",
            "  Teste:  index=[   1   10   11   13   35   42   43   50   62   70   90   92   94   98\n",
            "  100  104  107  112  116  118  119  121  123  135  137  145  158  161\n",
            "  166  172  201  209  210  212  213  215  217  235  237  238  249  250\n",
            "  253  259  263  277  282  283  291  300  303  304  316  322  328  334\n",
            "  335  343  348  349  351  354  361  362  368  369  370  379  381  384\n",
            "  392  400  402  408  427  431  433  436  440  449  454  458  465  474\n",
            "  479  492  504  509  511  513  518  524  529  534  539  540  547  551\n",
            "  552  565  574  581  612  616  617  620  624  628  633  636  642  655\n",
            "  660  663  664  666  669  671  676  683  693  696  702  707  708  718\n",
            "  721  723  724  731  732  745  746  747  751  756  761  770  777  780\n",
            "  785  787  788  794  810  820  822  823  826  827  830  832  836  839\n",
            "  851  862  882  888  893  899  906  915  921  931  937  939  940  942\n",
            "  954  956  968  973  984  991  993  995  997 1003 1011 1012 1014 1016\n",
            " 1018 1022 1024 1027 1033 1042 1046 1052 1060 1061 1075 1077 1082 1085\n",
            " 1087 1088 1097 1109 1112 1113 1115 1121 1126 1138 1141 1142 1145 1161\n",
            " 1172 1188 1191 1198 1199 1204 1208 1209 1212 1213 1217 1222 1227 1229\n",
            " 1231 1235 1240 1246 1254 1257 1259 1260 1277 1281 1283 1290 1295 1298\n",
            " 1310 1325 1326 1346 1350 1354 1356 1358 1363 1368 1376 1379 1381 1382\n",
            " 1391 1397 1404 1406 1410 1417 1424 1441 1442 1447 1451 1460 1475 1489\n",
            " 1492 1498 1502 1512 1516 1525 1547 1549 1554 1556 1557 1580 1588 1599\n",
            " 1600 1602 1605 1611 1616 1617 1618 1621 1626 1632 1638 1643 1646 1647\n",
            " 1655 1656 1659 1666 1672 1673 1680 1686 1690 1691 1697 1701 1718 1735\n",
            " 1739 1742 1744 1749 1750 1754 1765 1777 1794 1822 1824 1825 1826 1836\n",
            " 1837 1840 1842 1853 1859 1866 1879 1890 1901 1910 1937 1946 1957 1958\n",
            " 1984 1987 1995 1998 2001 2006 2014 2018 2024 2028 2031 2033 2034 2039\n",
            " 2055 2056 2078 2082 2085 2092 2093 2094 2101 2103 2104 2108 2124 2131\n",
            " 2133 2136 2148 2157 2169 2170 2171 2176 2178 2180 2184 2185 2187 2199\n",
            " 2204 2220 2229 2232 2237 2247 2253 2265 2270 2272 2277 2282 2288 2292\n",
            " 2295 2302 2304 2305 2307 2308 2324 2333 2336 2338 2363 2370 2375 2376\n",
            " 2378 2381 2384 2400 2410 2412 2415 2426 2438 2445 2451 2452 2467 2475\n",
            " 2478 2479 2486 2494 2498 2499 2504 2509 2517 2519 2524 2530 2542 2552\n",
            " 2553 2560 2563 2570 2575 2579 2598 2599 2600 2601 2610 2617 2624 2638\n",
            " 2639 2640 2644 2645 2652 2676 2682 2684 2696 2702 2714 2716 2730 2735\n",
            " 2747 2760 2775 2776 2783 2785 2787 2788 2790 2798 2803 2806 2813 2827\n",
            " 2835 2841 2842 2845 2850 2872 2879 2882 2884 2890 2897 2901 2918 2919\n",
            " 2923 2930 2945 2947 2954 2956 2969 2973 2977 2986 3001 3002 3005 3009\n",
            " 3013 3019 3021 3027 3029 3039 3043 3047 3049 3050 3056 3061 3062 3065\n",
            " 3072 3082 3083 3086 3087 3093 3097 3106 3120 3121 3123 3129 3131 3135\n",
            " 3136 3139 3143 3144 3146 3159 3164 3165 3171 3174 3175 3176 3186 3187\n",
            " 3213 3217 3219 3220 3234 3241 3246 3252 3253 3254 3266 3269 3276 3287\n",
            " 3289 3295 3297 3301 3308 3312 3322 3340 3341 3348 3350 3352 3361 3372\n",
            " 3375 3381 3391 3392 3393 3401 3405 3416 3424 3429 3435 3445 3456 3467\n",
            " 3469 3476 3477 3478 3480 3485 3486 3490 3493 3496 3498 3505 3507 3515\n",
            " 3519 3523 3532 3533 3536 3538 3548 3552 3554 3556 3565 3568 3571 3594\n",
            " 3601 3616 3617 3622 3626 3628 3642 3650 3658 3663 3665 3666 3667 3676\n",
            " 3685 3698 3701 3707 3712 3722 3724 3734 3735 3739 3740 3741 3742 3748\n",
            " 3769 3773 3777 3813 3814 3825 3840 3842 3845 3850 3858 3859 3866 3867\n",
            " 3868 3878 3883 3886 3890 3893 3894 3910 3917 3919 3920 3922 3930 3932\n",
            " 3935 3948 3950 3957 3959 3962 3976 3981 3987 4009 4016 4022 4024 4025\n",
            " 4032 4037 4038 4040 4060 4061 4074 4083 4093 4098 4103 4104 4109 4122\n",
            " 4139 4140 4144 4149 4150 4158 4161 4174 4180 4194 4197 4203 4211 4218\n",
            " 4219 4222 4224 4227 4241 4253 4260 4278 4291 4299 4315 4317 4318 4322\n",
            " 4327 4334 4336 4337 4344 4353 4354 4365 4381 4382 4390 4391 4401 4409\n",
            " 4418 4425 4443 4445 4449 4475 4479 4483 4486 4490 4493 4501 4520 4523\n",
            " 4543 4545]\n",
            "Fold 4:\n",
            "  Treino: index=[   0    1    2 ... 4543 4544 4545]\n",
            "  Teste:  index=[   3    8   16   18   21   22   23   24   37   38   40   48   57   58\n",
            "   60   61   67   80   81   85   93  106  113  127  128  138  162  193\n",
            "  195  196  198  203  204  206  218  224  241  244  267  287  289  298\n",
            "  305  308  310  313  318  319  323  327  330  337  339  340  341  352\n",
            "  355  357  358  365  367  371  382  383  386  398  403  405  423  429\n",
            "  434  439  445  450  456  462  471  481  489  490  494  500  505  516\n",
            "  525  535  537  541  542  545  550  554  555  561  562  571  577  590\n",
            "  592  595  625  631  634  640  643  644  645  648  654  657  670  672\n",
            "  673  677  679  686  688  691  692  705  706  715  719  726  730  742\n",
            "  754  766  779  786  790  798  799  800  803  817  841  861  864  867\n",
            "  868  870  879  880  881  891  892  904  910  912  916  918  923  926\n",
            "  930  943  957  961  970  987  996 1007 1009 1017 1028 1030 1035 1041\n",
            " 1044 1048 1051 1055 1078 1079 1080 1084 1091 1099 1117 1124 1131 1146\n",
            " 1153 1158 1164 1166 1171 1187 1197 1202 1207 1223 1224 1244 1245 1247\n",
            " 1248 1251 1253 1256 1258 1264 1265 1268 1284 1292 1294 1303 1304 1305\n",
            " 1319 1327 1331 1336 1344 1345 1347 1351 1353 1357 1359 1360 1362 1364\n",
            " 1369 1384 1385 1389 1390 1392 1395 1398 1401 1416 1418 1426 1436 1440\n",
            " 1452 1464 1466 1467 1471 1473 1477 1482 1483 1493 1495 1503 1505 1529\n",
            " 1530 1535 1536 1539 1543 1544 1552 1553 1571 1573 1579 1584 1585 1592\n",
            " 1596 1609 1613 1620 1622 1637 1645 1662 1667 1676 1681 1684 1687 1699\n",
            " 1706 1707 1717 1723 1727 1729 1746 1756 1759 1760 1766 1767 1769 1775\n",
            " 1780 1783 1784 1786 1788 1799 1802 1806 1808 1812 1819 1832 1835 1846\n",
            " 1851 1857 1858 1861 1868 1871 1876 1880 1882 1884 1889 1905 1908 1913\n",
            " 1915 1923 1924 1926 1936 1942 1945 1954 1955 1956 1960 1971 1974 1981\n",
            " 1985 1992 1996 2009 2010 2017 2023 2025 2026 2027 2035 2036 2037 2041\n",
            " 2044 2057 2061 2072 2076 2105 2107 2111 2117 2132 2139 2140 2143 2145\n",
            " 2149 2159 2167 2175 2177 2179 2196 2201 2202 2207 2216 2222 2236 2246\n",
            " 2276 2291 2297 2298 2325 2332 2346 2350 2357 2359 2360 2361 2365 2372\n",
            " 2379 2389 2392 2397 2399 2406 2407 2409 2413 2414 2419 2424 2429 2431\n",
            " 2432 2434 2436 2444 2448 2453 2454 2457 2471 2482 2502 2503 2507 2513\n",
            " 2516 2522 2544 2545 2555 2562 2566 2568 2572 2573 2574 2583 2613 2615\n",
            " 2620 2625 2627 2628 2631 2632 2636 2642 2643 2680 2685 2686 2689 2692\n",
            " 2694 2698 2703 2704 2706 2713 2722 2725 2738 2739 2741 2744 2753 2754\n",
            " 2757 2762 2763 2766 2770 2772 2780 2781 2789 2791 2807 2814 2818 2821\n",
            " 2823 2824 2826 2830 2833 2840 2853 2858 2868 2869 2870 2874 2876 2887\n",
            " 2891 2906 2920 2921 2931 2939 2950 2952 2961 2965 2974 2975 2979 2981\n",
            " 2989 2990 2994 2996 2998 3012 3018 3020 3025 3031 3036 3038 3040 3052\n",
            " 3053 3054 3055 3069 3074 3080 3085 3089 3091 3095 3114 3117 3128 3147\n",
            " 3149 3153 3155 3168 3172 3193 3194 3204 3209 3214 3224 3229 3237 3247\n",
            " 3249 3250 3270 3273 3274 3277 3285 3288 3315 3316 3326 3329 3351 3355\n",
            " 3356 3357 3366 3373 3377 3398 3399 3409 3412 3414 3415 3419 3426 3427\n",
            " 3430 3436 3440 3441 3451 3461 3473 3487 3492 3500 3509 3513 3521 3524\n",
            " 3529 3545 3549 3551 3557 3560 3563 3579 3583 3588 3592 3611 3613 3614\n",
            " 3619 3625 3630 3639 3645 3657 3673 3674 3675 3678 3682 3683 3684 3686\n",
            " 3691 3703 3706 3714 3718 3721 3728 3730 3737 3743 3752 3756 3757 3759\n",
            " 3772 3783 3785 3787 3793 3798 3809 3810 3820 3827 3829 3838 3839 3861\n",
            " 3862 3863 3864 3871 3877 3881 3891 3897 3906 3918 3933 3936 3939 3941\n",
            " 3953 3954 3969 3975 3990 3992 4000 4001 4015 4023 4026 4036 4045 4053\n",
            " 4055 4059 4065 4067 4068 4076 4078 4082 4092 4102 4107 4108 4118 4121\n",
            " 4127 4129 4136 4146 4151 4153 4154 4164 4169 4170 4173 4176 4186 4188\n",
            " 4200 4202 4213 4221 4225 4226 4234 4236 4239 4242 4243 4256 4261 4262\n",
            " 4264 4267 4271 4279 4282 4286 4304 4309 4320 4330 4355 4361 4362 4371\n",
            " 4374 4380 4386 4393 4394 4405 4407 4421 4436 4448 4471 4472 4473 4476\n",
            " 4478 4481 4484 4485 4489 4494 4500 4507 4519 4524 4526 4531 4534 4536\n",
            " 4538]\n",
            "Fold 5:\n",
            "  Treino: index=[   0    1    2 ... 4541 4543 4545]\n",
            "  Teste:  index=[  25   30   31   36   41   44   55   56   63   66   74   82   83   89\n",
            "   91  102  105  109  110  122  125  129  134  140  143  144  147  154\n",
            "  155  157  174  180  185  188  190  192  200  205  211  214  216  229\n",
            "  233  239  252  255  256  257  268  270  271  272  274  276  290  294\n",
            "  296  306  307  309  320  332  364  373  375  377  380  387  389  393\n",
            "  397  407  409  415  420  422  435  451  455  459  460  485  493  497\n",
            "  502  507  512  522  528  530  536  538  553  558  566  572  582  585\n",
            "  588  593  596  597  598  604  605  608  609  614  623  630  632  639\n",
            "  647  658  682  694  712  713  717  725  738  740  741  750  764  765\n",
            "  768  774  778  801  804  808  809  813  829  835  844  846  848  854\n",
            "  860  872  873  876  885  895  897  898  905  911  913  914  920  922\n",
            "  925  933  950  967  971  972  974  986 1019 1026 1032 1038 1040 1043\n",
            " 1053 1054 1063 1068 1086 1094 1111 1122 1133 1136 1137 1139 1140 1144\n",
            " 1148 1159 1162 1169 1179 1182 1185 1193 1194 1205 1206 1210 1211 1221\n",
            " 1226 1230 1233 1234 1238 1241 1243 1249 1255 1261 1273 1278 1280 1285\n",
            " 1299 1301 1306 1309 1311 1322 1337 1339 1361 1366 1374 1375 1377 1380\n",
            " 1399 1407 1409 1413 1421 1429 1459 1479 1480 1490 1501 1504 1506 1514\n",
            " 1515 1520 1524 1527 1540 1555 1560 1565 1567 1572 1574 1577 1578 1586\n",
            " 1589 1593 1594 1604 1627 1629 1640 1644 1651 1664 1665 1668 1669 1679\n",
            " 1692 1694 1696 1710 1715 1722 1725 1726 1731 1740 1743 1755 1770 1776\n",
            " 1779 1782 1785 1793 1797 1810 1817 1839 1849 1850 1854 1855 1860 1862\n",
            " 1863 1870 1883 1894 1898 1916 1917 1921 1927 1928 1939 1947 1950 1953\n",
            " 1966 1967 1978 1982 1988 1989 1999 2000 2004 2005 2012 2022 2038 2042\n",
            " 2047 2048 2053 2058 2064 2070 2079 2084 2086 2087 2090 2096 2100 2110\n",
            " 2112 2115 2116 2121 2122 2125 2127 2129 2138 2142 2144 2147 2161 2162\n",
            " 2182 2194 2205 2206 2209 2211 2218 2221 2227 2240 2252 2254 2258 2269\n",
            " 2271 2279 2285 2286 2293 2310 2311 2313 2316 2319 2326 2329 2337 2339\n",
            " 2349 2352 2362 2368 2369 2373 2377 2387 2388 2393 2398 2405 2411 2417\n",
            " 2423 2427 2449 2450 2459 2461 2463 2466 2468 2488 2490 2501 2505 2510\n",
            " 2515 2520 2521 2532 2533 2534 2538 2539 2564 2578 2580 2587 2595 2603\n",
            " 2608 2618 2633 2653 2660 2670 2672 2683 2688 2690 2699 2707 2710 2715\n",
            " 2718 2719 2726 2732 2734 2740 2750 2764 2767 2769 2773 2774 2784 2793\n",
            " 2802 2809 2811 2832 2836 2838 2847 2848 2856 2863 2865 2875 2878 2883\n",
            " 2885 2898 2915 2917 2924 2925 2926 2935 2937 2938 2943 2944 2949 2966\n",
            " 2971 2988 2993 2999 3007 3015 3016 3017 3030 3034 3041 3044 3046 3051\n",
            " 3060 3063 3066 3068 3071 3073 3076 3078 3088 3090 3094 3102 3104 3108\n",
            " 3109 3115 3118 3119 3125 3130 3137 3150 3152 3156 3160 3163 3166 3173\n",
            " 3179 3181 3182 3183 3185 3190 3199 3207 3216 3222 3223 3225 3227 3235\n",
            " 3236 3240 3242 3244 3255 3256 3258 3263 3267 3272 3278 3298 3307 3310\n",
            " 3313 3317 3320 3331 3332 3336 3338 3343 3345 3369 3374 3376 3385 3394\n",
            " 3395 3408 3432 3439 3444 3448 3450 3454 3470 3475 3481 3482 3488 3501\n",
            " 3502 3503 3506 3520 3525 3526 3544 3550 3553 3559 3562 3566 3575 3580\n",
            " 3582 3590 3591 3595 3600 3602 3606 3620 3621 3629 3632 3638 3641 3651\n",
            " 3654 3659 3660 3661 3662 3679 3690 3692 3693 3705 3709 3717 3719 3731\n",
            " 3733 3744 3745 3747 3754 3762 3764 3765 3766 3768 3771 3775 3776 3778\n",
            " 3779 3780 3792 3803 3806 3811 3815 3816 3830 3835 3837 3841 3843 3848\n",
            " 3875 3876 3880 3898 3905 3907 3912 3914 3931 3937 3963 3964 3971 3973\n",
            " 3977 3979 3982 3983 3986 3993 3994 3997 3998 4003 4006 4013 4014 4017\n",
            " 4028 4046 4054 4058 4062 4070 4071 4079 4086 4089 4101 4110 4112 4113\n",
            " 4115 4123 4148 4157 4160 4163 4166 4172 4177 4178 4179 4184 4190 4193\n",
            " 4199 4208 4210 4217 4230 4231 4244 4246 4248 4252 4259 4263 4266 4268\n",
            " 4269 4273 4281 4288 4292 4296 4300 4307 4313 4321 4325 4326 4339 4341\n",
            " 4359 4360 4370 4378 4385 4389 4395 4402 4416 4420 4424 4429 4439 4446\n",
            " 4450 4457 4460 4463 4464 4466 4470 4487 4492 4497 4499 4502 4503 4542\n",
            " 4544]\n"
          ]
        }
      ]
    },
    {
      "source": [
        "reg = LinearRegression()\n"
      ],
      "metadata": {
        "executionTime": 0,
        "lastSuccessfullyExecutedCode": "reg = LinearRegression()\n",
        "id": "d1ddbe71-fa0d-45d1-9026-fe0fec8de680"
      },
      "cell_type": "code",
      "id": "d1ddbe71-fa0d-45d1-9026-fe0fec8de680",
      "execution_count": null,
      "outputs": []
    },
    {
      "source": [
        "\n",
        "cv_score = cross_val_score(estimator= reg,X = X, y= y,cv=kf)"
      ],
      "metadata": {
        "executionTime": 0,
        "lastSuccessfullyExecutedCode": "\ncv_score = cross_val_score(estimator= reg,X = X, y= y,cv=kf)",
        "id": "a0eb97d3-a5e1-43d7-b491-a94230a97bca"
      },
      "cell_type": "code",
      "id": "a0eb97d3-a5e1-43d7-b491-a94230a97bca",
      "execution_count": null,
      "outputs": []
    },
    {
      "source": [
        "print(cv_score)"
      ],
      "metadata": {
        "executionTime": 37,
        "lastSuccessfullyExecutedCode": "print(cv_score)",
        "colab": {
          "base_uri": "https://localhost:8080/"
        },
        "id": "7348c9a9-062f-4920-a4f3-50b5f06baa5e",
        "outputId": "0f507299-134f-4ef7-d445-8622d3c4a962"
      },
      "cell_type": "code",
      "id": "7348c9a9-062f-4920-a4f3-50b5f06baa5e",
      "execution_count": null,
      "outputs": [
        {
          "output_type": "stream",
          "name": "stdout",
          "text": [
            "[0.99894062 0.99909245 0.9990103  0.99896344 0.99889153 0.99903953]\n"
          ]
        }
      ]
    },
    {
      "source": [
        "Vamos agora calcular algumas estatisticas do nosso conjunto de R^2 's. Para isso vamos usar o numpy.\n"
      ],
      "metadata": {
        "id": "0eb7eed7-a273-4b3d-bb20-99c15a77bf15"
      },
      "cell_type": "markdown",
      "id": "0eb7eed7-a273-4b3d-bb20-99c15a77bf15"
    },
    {
      "source": [
        "import numpy as np"
      ],
      "metadata": {
        "executionTime": 76,
        "lastSuccessfullyExecutedCode": "import numpy as np",
        "id": "519df15e-2f86-48f9-beb9-b4db15174311"
      },
      "cell_type": "code",
      "id": "519df15e-2f86-48f9-beb9-b4db15174311",
      "execution_count": null,
      "outputs": []
    },
    {
      "source": [
        "Média:"
      ],
      "metadata": {
        "id": "149ce56c-2268-40ff-9b42-2b011e57efc5"
      },
      "cell_type": "markdown",
      "id": "149ce56c-2268-40ff-9b42-2b011e57efc5"
    },
    {
      "source": [
        "np.mean(cv_score)"
      ],
      "metadata": {
        "executionTime": 96,
        "lastSuccessfullyExecutedCode": "np.mean(cv_score)",
        "colab": {
          "base_uri": "https://localhost:8080/"
        },
        "id": "bd463372-682d-4021-9b75-87cfc79afc97",
        "outputId": "bfee4341-1b29-419f-ddcf-54fdb4fdbeaa"
      },
      "cell_type": "code",
      "id": "bd463372-682d-4021-9b75-87cfc79afc97",
      "execution_count": null,
      "outputs": [
        {
          "output_type": "execute_result",
          "data": {
            "text/plain": [
              "0.9989896443678249"
            ]
          },
          "metadata": {},
          "execution_count": 41
        }
      ]
    },
    {
      "source": [
        "Desvio Padrão:"
      ],
      "metadata": {
        "id": "cef4fd25-579d-4b3a-901a-c5d4daf4fac5"
      },
      "cell_type": "markdown",
      "id": "cef4fd25-579d-4b3a-901a-c5d4daf4fac5"
    },
    {
      "source": [
        "np.std(cv_score)"
      ],
      "metadata": {
        "executionTime": 93,
        "lastSuccessfullyExecutedCode": "np.std(cv_score)",
        "colab": {
          "base_uri": "https://localhost:8080/"
        },
        "id": "a65636e6-6f28-4ff3-88cf-1b9a1cdd059b",
        "outputId": "8a1aea8d-a68a-4910-914e-e1d619f8a97a"
      },
      "cell_type": "code",
      "id": "a65636e6-6f28-4ff3-88cf-1b9a1cdd059b",
      "execution_count": null,
      "outputs": [
        {
          "output_type": "execute_result",
          "data": {
            "text/plain": [
              "6.608118371529651e-05"
            ]
          },
          "metadata": {},
          "execution_count": 42
        }
      ]
    },
    {
      "source": [
        "intervalo de confiança - 95%:"
      ],
      "metadata": {
        "id": "3c156c9f-4936-4779-8545-aa325aa7caf5"
      },
      "cell_type": "markdown",
      "id": "3c156c9f-4936-4779-8545-aa325aa7caf5"
    },
    {
      "source": [
        "np.quantile(cv_score, [0.025,0.975])"
      ],
      "metadata": {
        "executionTime": 93,
        "lastSuccessfullyExecutedCode": "np.quantile(cv_score, [0.025,0.975])",
        "colab": {
          "base_uri": "https://localhost:8080/"
        },
        "id": "5cdb304f-0637-4f9a-a6a8-9926709b1d64",
        "outputId": "f2792b23-86fb-4ebe-b724-e78d9e2c6c4d"
      },
      "cell_type": "code",
      "id": "5cdb304f-0637-4f9a-a6a8-9926709b1d64",
      "execution_count": null,
      "outputs": [
        {
          "output_type": "execute_result",
          "data": {
            "text/plain": [
              "array([0.99889767, 0.99908583])"
            ]
          },
          "metadata": {},
          "execution_count": 43
        }
      ]
    },
    {
      "source": [
        "1. Regularização em regressão linear\n",
        "\n",
        "Agora vamos explorar a regularização na regressão, uma técnica usada para evitar o overfitting.\n",
        "\n",
        "2. Por que regularizar?\n",
        "Lembre-se de que o ajuste de um modelo de regressão linear minimiza uma função de perda para escolher um coeficiente, a, para cada recurso e a interceptação, b. Se permitirmos que esses coeficientes sejam muito grandes, podemos obter overfitting. Portanto, é prática comum alterar a função de perda para penalizar coeficientes grandes. Isso se chama regularização."
      ],
      "metadata": {
        "id": "ec2743b1-4829-44ce-aeaf-71feb37e3003"
      },
      "cell_type": "markdown",
      "id": "ec2743b1-4829-44ce-aeaf-71feb37e3003"
    },
    {
      "source": [
        "# Importando Ridge\n",
        "from sklearn.linear_model import Ridge\n",
        "\n",
        "alphas = [0.1, 1.0, 10.0, 100.0, 1000.0, 10000.0] #testando alphas\n",
        "ridge_scores = []\n",
        "for alpha in alphas:\n",
        "\n",
        "  # Criando a regressão\n",
        "  ridge = Ridge(alpha= alpha)\n",
        "\n",
        "  # ajustando o modelo\n",
        "  ridge.fit(X_treino,y_treino)\n",
        "\n",
        "  # R^2\n",
        "  score = ridge.score(X_teste, y_teste)\n",
        "  ridge_scores.append(score)\n",
        "print(ridge_scores)"
      ],
      "metadata": {
        "executionTime": 45,
        "lastSuccessfullyExecutedCode": "# Importando Ridge\nfrom sklearn.linear_model import Ridge\n\nalphas = [0.1, 1.0, 10.0, 100.0, 1000.0, 10000.0] #testando alphas\nridge_scores = []\nfor alpha in alphas:\n  \n  # Criando a regressão\n  ridge = Ridge(alpha= alpha)\n  \n  # ajustando o modelo\n  ridge.fit(X_treino,y_treino)\n  \n  # R^2\n  score = ridge.score(X_teste, y_teste)\n  ridge_scores.append(score)\nprint(ridge_scores)",
        "colab": {
          "base_uri": "https://localhost:8080/"
        },
        "id": "8f8a6f7c-637a-4f61-a3c8-28a855ddba62",
        "outputId": "071f3a8c-8f10-4e7f-e09f-2eb1d8059853"
      },
      "cell_type": "code",
      "id": "8f8a6f7c-637a-4f61-a3c8-28a855ddba62",
      "execution_count": null,
      "outputs": [
        {
          "output_type": "stream",
          "name": "stdout",
          "text": [
            "[0.9990152104759369, 0.9990152104759373, 0.9990152104759419, 0.9990152104759871, 0.9990152104764388, 0.9990152104809561]\n"
          ]
        }
      ]
    },
    {
      "source": [
        "Vamos usar agora utilizar a  regressão Lasso  - ela cria um modelo que reduzirá alguns dos coeficientes da equação de regressão, podendo chegar a zero.\n",
        "Quando falamos de Regressão Lasso estamos tratando de uma regressão semelhante à linear, só que aqui o que ocorre é a minimização da soma dos resíduos quadrados somados a uma constante lambda multiplicada pela soma dos coeficientes em módulo."
      ],
      "metadata": {
        "id": "36ce8b18-9f96-4074-b84b-ecbb9923319b"
      },
      "cell_type": "markdown",
      "id": "36ce8b18-9f96-4074-b84b-ecbb9923319b"
    },
    {
      "source": [
        "\n"
      ],
      "metadata": {
        "id": "0b702d65-e22f-4a02-9919-d7528aed6506"
      },
      "cell_type": "markdown",
      "id": "0b702d65-e22f-4a02-9919-d7528aed6506"
    },
    {
      "source": [
        "Podemos usar a regressão lasso para ver a importancia das variaveis preditoras no modelo\n",
        "Vamos ver isso no sklearn:"
      ],
      "metadata": {
        "id": "de4b6247-9843-464a-8b32-36e075461863"
      },
      "cell_type": "markdown",
      "id": "de4b6247-9843-464a-8b32-36e075461863"
    },
    {
      "source": [
        "colunas_preditoras = publicidade.drop('sales', axis=1)\n",
        "colunas_preditoras.columns"
      ],
      "metadata": {
        "executionTime": 45,
        "lastSuccessfullyExecutedCode": "colunas_preditoras = publicidade.drop('sales', axis=1)\ncolunas_preditoras.columns",
        "colab": {
          "base_uri": "https://localhost:8080/"
        },
        "id": "16a49ad9-2108-4859-9407-e3d1be20bad8",
        "outputId": "76f77f37-8e25-4f00-c90d-525e281d1f69"
      },
      "cell_type": "code",
      "id": "16a49ad9-2108-4859-9407-e3d1be20bad8",
      "execution_count": null,
      "outputs": [
        {
          "output_type": "execute_result",
          "data": {
            "text/plain": [
              "Index(['tv', 'radio', 'social_media'], dtype='object')"
            ]
          },
          "metadata": {},
          "execution_count": 45
        }
      ]
    },
    {
      "source": [],
      "metadata": {
        "id": "cada9ad8-ec1b-4eca-8e3d-6dccd18bcb99"
      },
      "cell_type": "markdown",
      "id": "cada9ad8-ec1b-4eca-8e3d-6dccd18bcb99"
    },
    {
      "source": [
        "# Importando Lasso\n",
        "from sklearn.linear_model import Lasso\n",
        "\n",
        "# Instanciando a\n",
        "lasso = Lasso(alpha = 0.3) # alpha é o lambda na equação acima\n",
        "\n",
        "# Fit the model to the data\n",
        "lasso.fit(X,y)\n",
        "\n",
        "# Compute and print the coefficients\n",
        "lasso_coef = lasso.coef_\n",
        "print(lasso_coef)\n",
        "plt.bar(colunas_preditoras.columns, lasso_coef)\n",
        "plt.xticks(rotation=45)\n",
        "plt.show()"
      ],
      "metadata": {
        "executionTime": 43,
        "lastSuccessfullyExecutedCode": "# Importando Lasso\nfrom sklearn.linear_model import Lasso\n\n# Instanciando a\nlasso = Lasso(alpha = 0.3) # alpha é o lambda na equação acima\n\n# Fit the model to the data\nlasso.fit(X,y)\n\n# Compute and print the coefficients\nlasso_coef = lasso.coef_\nprint(lasso_coef)\nplt.bar(colunas_preditoras.columns, lasso_coef)\nplt.xticks(rotation=45)\nplt.show()",
        "colab": {
          "base_uri": "https://localhost:8080/",
          "height": 327
        },
        "id": "9de66bec-645a-49f0-9132-901152d797a5",
        "outputId": "0070714e-3685-42cd-de23-e7fb05e01f88"
      },
      "cell_type": "code",
      "id": "9de66bec-645a-49f0-9132-901152d797a5",
      "execution_count": null,
      "outputs": [
        {
          "output_type": "stream",
          "name": "stdout",
          "text": [
            "[ 3.56256962 -0.00397035  0.00496385]\n"
          ]
        },
        {
          "output_type": "display_data",
          "data": {
            "text/plain": [
              "<Figure size 432x288 with 1 Axes>"
            ],
            "image/png": "[encoded data removed]"
          },
          "metadata": {
            "needs_background": "light"
          }
        }
      ]
    },
    {
      "source": [
        "Veja como a figura deixa claro que o gasto com propaganda na TV é a característica mais importante do conjunto de dados para prever os valores das vendas!"
      ],
      "metadata": {
        "id": "4aad7166-e621-42ee-9d2b-4873edd8f628"
      },
      "cell_type": "markdown",
      "id": "4aad7166-e621-42ee-9d2b-4873edd8f628"
    },
    {
      "cell_type": "markdown",
      "source": [],
      "metadata": {
        "id": "Cx4t3xIbANLS"
      },
      "id": "Cx4t3xIbANLS"
    },
    {
      "cell_type": "code",
      "source": [],
      "metadata": {
        "id": "kx-2vc9nAVaq"
      },
      "id": "kx-2vc9nAVaq",
      "execution_count": null,
      "outputs": []
    }
  ],
  "metadata": {
    "colab": {
      "provenance": []
    },
    "kernelspec": {
      "display_name": "Python 3 (ipykernel)",
      "language": "python",
      "name": "python3"
    },
    "language_info": {
      "name": "python",
      "version": "3.8.10",
      "mimetype": "text/x-python",
      "codemirror_mode": {
        "name": "ipython",
        "version": 3
      },
      "pygments_lexer": "ipython3",
      "nbconvert_exporter": "python",
      "file_extension": ".py"
    },
    "editor": "DataCamp Workspace"
  },
  "nbformat": 4,
  "nbformat_minor": 5
}