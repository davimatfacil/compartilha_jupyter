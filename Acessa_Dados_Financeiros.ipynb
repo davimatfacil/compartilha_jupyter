{
 "cells": [
  {
   "cell_type": "markdown",
   "metadata": {},
   "source": [
    "#### prof. Davi Rocha\n",
    "\n",
    "## Acessando dados de ações "
   ]
  },
  {
   "cell_type": "markdown",
   "metadata": {},
   "source": [
    "### Introdução\n",
    "\n",
    "O objetivo é acessar uma base de dados financeiros usando o yahoo finanças e fazer as primeiras estatísticas e gráficos."
   ]
  },
  {
   "cell_type": "markdown",
   "metadata": {},
   "source": [
    "### Importação de bibliotecas"
   ]
  },
  {
   "cell_type": "code",
   "execution_count": 46,
   "metadata": {},
   "outputs": [],
   "source": [
    "import pandas as pd  #para manipular dataframes\n",
    "import numpy as np  # para calculos numéricos/estatisticos/matematicos\n",
    "\n",
    "from pandas_datareader import data  #para baixar dados da internet\n",
    "import matplotlib.pyplot as plt  #para graficos padrao\n",
    "import seaborn as sns #graficos mais atraentes \n"
   ]
  },
  {
   "cell_type": "markdown",
   "metadata": {},
   "source": [
    "Vamos aqui fazer uma importação de dados financeiros usando o yahoo finanças"
   ]
  },
  {
   "cell_type": "markdown",
   "metadata": {},
   "source": [
    "### Base de dados de uma ação\n",
    "\n",
    "Vamos aqui baixar dados de apenas uma ação. Vamos acessar as ações da Magazine Luiza.\n",
    "Os dados serão acessados do site https://br.financas.yahoo.com/  \n",
    "\n",
    "Especificamente, essa base pode ser encontrada aqui: https://br.financas.yahoo.com/quote/MGLU3.SA?p=MGLU3.SA&.tsrc=fin-srch\n",
    "\n",
    "\n",
    " "
   ]
  },
  {
   "cell_type": "code",
   "execution_count": 47,
   "metadata": {},
   "outputs": [],
   "source": [
    "#dados de ações da Magazine Luiza no site do yahoo finanças a partir de jan/2015\n",
    "luiza_df = data.DataReader(name='MGLU3.SA', data_source='yahoo', start='2015-01-01')"
   ]
  },
  {
   "cell_type": "code",
   "execution_count": 48,
   "metadata": {},
   "outputs": [
    {
     "data": {
      "text/html": [
       "<div>\n",
       "<style scoped>\n",
       "    .dataframe tbody tr th:only-of-type {\n",
       "        vertical-align: middle;\n",
       "    }\n",
       "\n",
       "    .dataframe tbody tr th {\n",
       "        vertical-align: top;\n",
       "    }\n",
       "\n",
       "    .dataframe thead th {\n",
       "        text-align: right;\n",
       "    }\n",
       "</style>\n",
       "<table border=\"1\" class=\"dataframe\">\n",
       "  <thead>\n",
       "    <tr style=\"text-align: right;\">\n",
       "      <th></th>\n",
       "      <th>High</th>\n",
       "      <th>Low</th>\n",
       "      <th>Open</th>\n",
       "      <th>Close</th>\n",
       "      <th>Volume</th>\n",
       "      <th>Adj Close</th>\n",
       "    </tr>\n",
       "    <tr>\n",
       "      <th>Date</th>\n",
       "      <th></th>\n",
       "      <th></th>\n",
       "      <th></th>\n",
       "      <th></th>\n",
       "      <th></th>\n",
       "      <th></th>\n",
       "    </tr>\n",
       "  </thead>\n",
       "  <tbody>\n",
       "    <tr>\n",
       "      <th>2015-01-02</th>\n",
       "      <td>0.243750</td>\n",
       "      <td>0.231562</td>\n",
       "      <td>0.243750</td>\n",
       "      <td>0.232812</td>\n",
       "      <td>6323200.0</td>\n",
       "      <td>0.215415</td>\n",
       "    </tr>\n",
       "    <tr>\n",
       "      <th>2015-01-05</th>\n",
       "      <td>0.240625</td>\n",
       "      <td>0.229687</td>\n",
       "      <td>0.235625</td>\n",
       "      <td>0.237187</td>\n",
       "      <td>10326400.0</td>\n",
       "      <td>0.219463</td>\n",
       "    </tr>\n",
       "    <tr>\n",
       "      <th>2015-01-06</th>\n",
       "      <td>0.238437</td>\n",
       "      <td>0.233125</td>\n",
       "      <td>0.238437</td>\n",
       "      <td>0.234062</td>\n",
       "      <td>12572800.0</td>\n",
       "      <td>0.216571</td>\n",
       "    </tr>\n",
       "    <tr>\n",
       "      <th>2015-01-07</th>\n",
       "      <td>0.242187</td>\n",
       "      <td>0.234687</td>\n",
       "      <td>0.237500</td>\n",
       "      <td>0.241875</td>\n",
       "      <td>6454400.0</td>\n",
       "      <td>0.223800</td>\n",
       "    </tr>\n",
       "    <tr>\n",
       "      <th>2015-01-08</th>\n",
       "      <td>0.242187</td>\n",
       "      <td>0.237500</td>\n",
       "      <td>0.239375</td>\n",
       "      <td>0.240000</td>\n",
       "      <td>8393600.0</td>\n",
       "      <td>0.222066</td>\n",
       "    </tr>\n",
       "    <tr>\n",
       "      <th>...</th>\n",
       "      <td>...</td>\n",
       "      <td>...</td>\n",
       "      <td>...</td>\n",
       "      <td>...</td>\n",
       "      <td>...</td>\n",
       "      <td>...</td>\n",
       "    </tr>\n",
       "    <tr>\n",
       "      <th>2021-01-21</th>\n",
       "      <td>25.650000</td>\n",
       "      <td>24.850000</td>\n",
       "      <td>25.400000</td>\n",
       "      <td>25.490000</td>\n",
       "      <td>33038900.0</td>\n",
       "      <td>25.490000</td>\n",
       "    </tr>\n",
       "    <tr>\n",
       "      <th>2021-01-22</th>\n",
       "      <td>26.299999</td>\n",
       "      <td>25.100000</td>\n",
       "      <td>25.129999</td>\n",
       "      <td>26.000000</td>\n",
       "      <td>33782100.0</td>\n",
       "      <td>26.000000</td>\n",
       "    </tr>\n",
       "    <tr>\n",
       "      <th>2021-01-26</th>\n",
       "      <td>27.070000</td>\n",
       "      <td>25.670000</td>\n",
       "      <td>26.250000</td>\n",
       "      <td>25.750000</td>\n",
       "      <td>44474300.0</td>\n",
       "      <td>25.750000</td>\n",
       "    </tr>\n",
       "    <tr>\n",
       "      <th>2021-01-27</th>\n",
       "      <td>26.389999</td>\n",
       "      <td>25.350000</td>\n",
       "      <td>25.719999</td>\n",
       "      <td>26.180000</td>\n",
       "      <td>34797100.0</td>\n",
       "      <td>26.180000</td>\n",
       "    </tr>\n",
       "    <tr>\n",
       "      <th>2021-01-28</th>\n",
       "      <td>26.070000</td>\n",
       "      <td>25.389999</td>\n",
       "      <td>25.870001</td>\n",
       "      <td>25.959999</td>\n",
       "      <td>12046800.0</td>\n",
       "      <td>25.959999</td>\n",
       "    </tr>\n",
       "  </tbody>\n",
       "</table>\n",
       "<p>1506 rows × 6 columns</p>\n",
       "</div>"
      ],
      "text/plain": [
       "                 High        Low       Open      Close      Volume  Adj Close\n",
       "Date                                                                         \n",
       "2015-01-02   0.243750   0.231562   0.243750   0.232812   6323200.0   0.215415\n",
       "2015-01-05   0.240625   0.229687   0.235625   0.237187  10326400.0   0.219463\n",
       "2015-01-06   0.238437   0.233125   0.238437   0.234062  12572800.0   0.216571\n",
       "2015-01-07   0.242187   0.234687   0.237500   0.241875   6454400.0   0.223800\n",
       "2015-01-08   0.242187   0.237500   0.239375   0.240000   8393600.0   0.222066\n",
       "...               ...        ...        ...        ...         ...        ...\n",
       "2021-01-21  25.650000  24.850000  25.400000  25.490000  33038900.0  25.490000\n",
       "2021-01-22  26.299999  25.100000  25.129999  26.000000  33782100.0  26.000000\n",
       "2021-01-26  27.070000  25.670000  26.250000  25.750000  44474300.0  25.750000\n",
       "2021-01-27  26.389999  25.350000  25.719999  26.180000  34797100.0  26.180000\n",
       "2021-01-28  26.070000  25.389999  25.870001  25.959999  12046800.0  25.959999\n",
       "\n",
       "[1506 rows x 6 columns]"
      ]
     },
     "execution_count": 48,
     "metadata": {},
     "output_type": "execute_result"
    }
   ],
   "source": [
    "#Visualização dos dados\n",
    "\n",
    "luiza_df"
   ]
  },
  {
   "cell_type": "markdown",
   "metadata": {},
   "source": [
    "Observe que pelas informações acima temos 1505 preços de ações e 6 colunas. Vamos entender as colunas analizando a linha do dia 2 de janeiro."
   ]
  },
  {
   "cell_type": "markdown",
   "metadata": {},
   "source": [
    "O preço de abertura da ação nesse dia foi de R$ 0.243750. \n",
    "\n",
    "O preço de fechamento foi R$ 0.232812\n",
    "\n",
    "A ação no dia atingiu a máxima de R$ 0.243750\n",
    "\n",
    "E atingiu a mínima de R$ 0.231562\n",
    "\n",
    "Volume é a quantidade de ações negociadas no dia, no dia 2 tivemos 6.323.200 ações.\n",
    "\n",
    "O fechamento ajustado é o preço de fechamento após os ajustes para todos os desdobramentos e distribuições de dividendos aplicáveis. "
   ]
  },
  {
   "cell_type": "code",
   "execution_count": 50,
   "metadata": {},
   "outputs": [
    {
     "name": "stdout",
     "output_type": "stream",
     "text": [
      "<class 'pandas.core.frame.DataFrame'>\n",
      "DatetimeIndex: 1506 entries, 2015-01-02 to 2021-01-28\n",
      "Data columns (total 6 columns):\n",
      " #   Column     Non-Null Count  Dtype  \n",
      "---  ------     --------------  -----  \n",
      " 0   High       1506 non-null   float64\n",
      " 1   Low        1506 non-null   float64\n",
      " 2   Open       1506 non-null   float64\n",
      " 3   Close      1506 non-null   float64\n",
      " 4   Volume     1506 non-null   float64\n",
      " 5   Adj Close  1506 non-null   float64\n",
      "dtypes: float64(6)\n",
      "memory usage: 82.4 KB\n"
     ]
    }
   ],
   "source": [
    "luiza_df.info() #informações sobre os tipos de dados\n",
    "#Observe que todos são continuos e que não há valores nulos"
   ]
  },
  {
   "cell_type": "code",
   "execution_count": 51,
   "metadata": {},
   "outputs": [
    {
     "data": {
      "text/html": [
       "<div>\n",
       "<style scoped>\n",
       "    .dataframe tbody tr th:only-of-type {\n",
       "        vertical-align: middle;\n",
       "    }\n",
       "\n",
       "    .dataframe tbody tr th {\n",
       "        vertical-align: top;\n",
       "    }\n",
       "\n",
       "    .dataframe thead th {\n",
       "        text-align: right;\n",
       "    }\n",
       "</style>\n",
       "<table border=\"1\" class=\"dataframe\">\n",
       "  <thead>\n",
       "    <tr style=\"text-align: right;\">\n",
       "      <th></th>\n",
       "      <th>High</th>\n",
       "      <th>Low</th>\n",
       "      <th>Open</th>\n",
       "      <th>Close</th>\n",
       "      <th>Volume</th>\n",
       "      <th>Adj Close</th>\n",
       "    </tr>\n",
       "    <tr>\n",
       "      <th>Date</th>\n",
       "      <th></th>\n",
       "      <th></th>\n",
       "      <th></th>\n",
       "      <th></th>\n",
       "      <th></th>\n",
       "      <th></th>\n",
       "    </tr>\n",
       "  </thead>\n",
       "  <tbody>\n",
       "    <tr>\n",
       "      <th>2015-01-02</th>\n",
       "      <td>0.243750</td>\n",
       "      <td>0.231562</td>\n",
       "      <td>0.243750</td>\n",
       "      <td>0.232812</td>\n",
       "      <td>6323200.0</td>\n",
       "      <td>0.215415</td>\n",
       "    </tr>\n",
       "    <tr>\n",
       "      <th>2015-01-05</th>\n",
       "      <td>0.240625</td>\n",
       "      <td>0.229687</td>\n",
       "      <td>0.235625</td>\n",
       "      <td>0.237187</td>\n",
       "      <td>10326400.0</td>\n",
       "      <td>0.219463</td>\n",
       "    </tr>\n",
       "    <tr>\n",
       "      <th>2015-01-06</th>\n",
       "      <td>0.238437</td>\n",
       "      <td>0.233125</td>\n",
       "      <td>0.238437</td>\n",
       "      <td>0.234062</td>\n",
       "      <td>12572800.0</td>\n",
       "      <td>0.216571</td>\n",
       "    </tr>\n",
       "    <tr>\n",
       "      <th>2015-01-07</th>\n",
       "      <td>0.242187</td>\n",
       "      <td>0.234687</td>\n",
       "      <td>0.237500</td>\n",
       "      <td>0.241875</td>\n",
       "      <td>6454400.0</td>\n",
       "      <td>0.223800</td>\n",
       "    </tr>\n",
       "    <tr>\n",
       "      <th>2015-01-08</th>\n",
       "      <td>0.242187</td>\n",
       "      <td>0.237500</td>\n",
       "      <td>0.239375</td>\n",
       "      <td>0.240000</td>\n",
       "      <td>8393600.0</td>\n",
       "      <td>0.222066</td>\n",
       "    </tr>\n",
       "  </tbody>\n",
       "</table>\n",
       "</div>"
      ],
      "text/plain": [
       "                High       Low      Open     Close      Volume  Adj Close\n",
       "Date                                                                     \n",
       "2015-01-02  0.243750  0.231562  0.243750  0.232812   6323200.0   0.215415\n",
       "2015-01-05  0.240625  0.229687  0.235625  0.237187  10326400.0   0.219463\n",
       "2015-01-06  0.238437  0.233125  0.238437  0.234062  12572800.0   0.216571\n",
       "2015-01-07  0.242187  0.234687  0.237500  0.241875   6454400.0   0.223800\n",
       "2015-01-08  0.242187  0.237500  0.239375  0.240000   8393600.0   0.222066"
      ]
     },
     "execution_count": 51,
     "metadata": {},
     "output_type": "execute_result"
    }
   ],
   "source": [
    "luiza_df.head() # ver 5 primeiras linhas"
   ]
  },
  {
   "cell_type": "code",
   "execution_count": 52,
   "metadata": {},
   "outputs": [
    {
     "data": {
      "text/html": [
       "<div>\n",
       "<style scoped>\n",
       "    .dataframe tbody tr th:only-of-type {\n",
       "        vertical-align: middle;\n",
       "    }\n",
       "\n",
       "    .dataframe tbody tr th {\n",
       "        vertical-align: top;\n",
       "    }\n",
       "\n",
       "    .dataframe thead th {\n",
       "        text-align: right;\n",
       "    }\n",
       "</style>\n",
       "<table border=\"1\" class=\"dataframe\">\n",
       "  <thead>\n",
       "    <tr style=\"text-align: right;\">\n",
       "      <th></th>\n",
       "      <th>High</th>\n",
       "      <th>Low</th>\n",
       "      <th>Open</th>\n",
       "      <th>Close</th>\n",
       "      <th>Volume</th>\n",
       "      <th>Adj Close</th>\n",
       "    </tr>\n",
       "    <tr>\n",
       "      <th>Date</th>\n",
       "      <th></th>\n",
       "      <th></th>\n",
       "      <th></th>\n",
       "      <th></th>\n",
       "      <th></th>\n",
       "      <th></th>\n",
       "    </tr>\n",
       "  </thead>\n",
       "  <tbody>\n",
       "    <tr>\n",
       "      <th>2021-01-21</th>\n",
       "      <td>25.650000</td>\n",
       "      <td>24.850000</td>\n",
       "      <td>25.400000</td>\n",
       "      <td>25.490000</td>\n",
       "      <td>33038900.0</td>\n",
       "      <td>25.490000</td>\n",
       "    </tr>\n",
       "    <tr>\n",
       "      <th>2021-01-22</th>\n",
       "      <td>26.299999</td>\n",
       "      <td>25.100000</td>\n",
       "      <td>25.129999</td>\n",
       "      <td>26.000000</td>\n",
       "      <td>33782100.0</td>\n",
       "      <td>26.000000</td>\n",
       "    </tr>\n",
       "    <tr>\n",
       "      <th>2021-01-26</th>\n",
       "      <td>27.070000</td>\n",
       "      <td>25.670000</td>\n",
       "      <td>26.250000</td>\n",
       "      <td>25.750000</td>\n",
       "      <td>44474300.0</td>\n",
       "      <td>25.750000</td>\n",
       "    </tr>\n",
       "    <tr>\n",
       "      <th>2021-01-27</th>\n",
       "      <td>26.389999</td>\n",
       "      <td>25.350000</td>\n",
       "      <td>25.719999</td>\n",
       "      <td>26.180000</td>\n",
       "      <td>34797100.0</td>\n",
       "      <td>26.180000</td>\n",
       "    </tr>\n",
       "    <tr>\n",
       "      <th>2021-01-28</th>\n",
       "      <td>26.070000</td>\n",
       "      <td>25.389999</td>\n",
       "      <td>25.870001</td>\n",
       "      <td>25.959999</td>\n",
       "      <td>12046800.0</td>\n",
       "      <td>25.959999</td>\n",
       "    </tr>\n",
       "  </tbody>\n",
       "</table>\n",
       "</div>"
      ],
      "text/plain": [
       "                 High        Low       Open      Close      Volume  Adj Close\n",
       "Date                                                                         \n",
       "2021-01-21  25.650000  24.850000  25.400000  25.490000  33038900.0  25.490000\n",
       "2021-01-22  26.299999  25.100000  25.129999  26.000000  33782100.0  26.000000\n",
       "2021-01-26  27.070000  25.670000  26.250000  25.750000  44474300.0  25.750000\n",
       "2021-01-27  26.389999  25.350000  25.719999  26.180000  34797100.0  26.180000\n",
       "2021-01-28  26.070000  25.389999  25.870001  25.959999  12046800.0  25.959999"
      ]
     },
     "execution_count": 52,
     "metadata": {},
     "output_type": "execute_result"
    }
   ],
   "source": [
    "luiza_df.tail()  # 5 ultimas linhas"
   ]
  },
  {
   "cell_type": "code",
   "execution_count": 53,
   "metadata": {},
   "outputs": [
    {
     "data": {
      "text/html": [
       "<div>\n",
       "<style scoped>\n",
       "    .dataframe tbody tr th:only-of-type {\n",
       "        vertical-align: middle;\n",
       "    }\n",
       "\n",
       "    .dataframe tbody tr th {\n",
       "        vertical-align: top;\n",
       "    }\n",
       "\n",
       "    .dataframe thead th {\n",
       "        text-align: right;\n",
       "    }\n",
       "</style>\n",
       "<table border=\"1\" class=\"dataframe\">\n",
       "  <thead>\n",
       "    <tr style=\"text-align: right;\">\n",
       "      <th></th>\n",
       "      <th>High</th>\n",
       "      <th>Low</th>\n",
       "      <th>Open</th>\n",
       "      <th>Close</th>\n",
       "      <th>Volume</th>\n",
       "      <th>Adj Close</th>\n",
       "    </tr>\n",
       "  </thead>\n",
       "  <tbody>\n",
       "    <tr>\n",
       "      <th>count</th>\n",
       "      <td>1506.000000</td>\n",
       "      <td>1506.000000</td>\n",
       "      <td>1506.000000</td>\n",
       "      <td>1506.000000</td>\n",
       "      <td>1.506000e+03</td>\n",
       "      <td>1506.000000</td>\n",
       "    </tr>\n",
       "    <tr>\n",
       "      <th>mean</th>\n",
       "      <td>5.525381</td>\n",
       "      <td>5.300631</td>\n",
       "      <td>5.415150</td>\n",
       "      <td>5.416609</td>\n",
       "      <td>4.460031e+07</td>\n",
       "      <td>5.331361</td>\n",
       "    </tr>\n",
       "    <tr>\n",
       "      <th>std</th>\n",
       "      <td>7.186460</td>\n",
       "      <td>6.905499</td>\n",
       "      <td>7.047692</td>\n",
       "      <td>7.050316</td>\n",
       "      <td>3.342848e+07</td>\n",
       "      <td>7.021804</td>\n",
       "    </tr>\n",
       "    <tr>\n",
       "      <th>min</th>\n",
       "      <td>0.031757</td>\n",
       "      <td>0.030390</td>\n",
       "      <td>0.031445</td>\n",
       "      <td>0.030585</td>\n",
       "      <td>0.000000e+00</td>\n",
       "      <td>0.029213</td>\n",
       "    </tr>\n",
       "    <tr>\n",
       "      <th>25%</th>\n",
       "      <td>0.215781</td>\n",
       "      <td>0.206094</td>\n",
       "      <td>0.209004</td>\n",
       "      <td>0.212813</td>\n",
       "      <td>2.478480e+07</td>\n",
       "      <td>0.199041</td>\n",
       "    </tr>\n",
       "    <tr>\n",
       "      <th>50%</th>\n",
       "      <td>2.515937</td>\n",
       "      <td>2.420156</td>\n",
       "      <td>2.475781</td>\n",
       "      <td>2.465937</td>\n",
       "      <td>3.735840e+07</td>\n",
       "      <td>2.375753</td>\n",
       "    </tr>\n",
       "    <tr>\n",
       "      <th>75%</th>\n",
       "      <td>7.791406</td>\n",
       "      <td>7.404531</td>\n",
       "      <td>7.578125</td>\n",
       "      <td>7.560000</td>\n",
       "      <td>5.450050e+07</td>\n",
       "      <td>7.369948</td>\n",
       "    </tr>\n",
       "    <tr>\n",
       "      <th>max</th>\n",
       "      <td>28.309999</td>\n",
       "      <td>26.740000</td>\n",
       "      <td>28.150000</td>\n",
       "      <td>27.450001</td>\n",
       "      <td>4.304640e+08</td>\n",
       "      <td>27.421442</td>\n",
       "    </tr>\n",
       "  </tbody>\n",
       "</table>\n",
       "</div>"
      ],
      "text/plain": [
       "              High          Low         Open        Close        Volume  \\\n",
       "count  1506.000000  1506.000000  1506.000000  1506.000000  1.506000e+03   \n",
       "mean      5.525381     5.300631     5.415150     5.416609  4.460031e+07   \n",
       "std       7.186460     6.905499     7.047692     7.050316  3.342848e+07   \n",
       "min       0.031757     0.030390     0.031445     0.030585  0.000000e+00   \n",
       "25%       0.215781     0.206094     0.209004     0.212813  2.478480e+07   \n",
       "50%       2.515937     2.420156     2.475781     2.465937  3.735840e+07   \n",
       "75%       7.791406     7.404531     7.578125     7.560000  5.450050e+07   \n",
       "max      28.309999    26.740000    28.150000    27.450001  4.304640e+08   \n",
       "\n",
       "         Adj Close  \n",
       "count  1506.000000  \n",
       "mean      5.331361  \n",
       "std       7.021804  \n",
       "min       0.029213  \n",
       "25%       0.199041  \n",
       "50%       2.375753  \n",
       "75%       7.369948  \n",
       "max      27.421442  "
      ]
     },
     "execution_count": 53,
     "metadata": {},
     "output_type": "execute_result"
    }
   ],
   "source": [
    "luiza_df.describe()  # estatisticas dos 5  numeros, media e desvio padrao"
   ]
  },
  {
   "cell_type": "markdown",
   "metadata": {},
   "source": [
    "Perguntas:\n",
    "\n",
    "Em quais datas ocorreram o máximo e minimo de fechamento apontadas acima?"
   ]
  },
  {
   "cell_type": "code",
   "execution_count": 54,
   "metadata": {},
   "outputs": [
    {
     "data": {
      "text/html": [
       "<div>\n",
       "<style scoped>\n",
       "    .dataframe tbody tr th:only-of-type {\n",
       "        vertical-align: middle;\n",
       "    }\n",
       "\n",
       "    .dataframe tbody tr th {\n",
       "        vertical-align: top;\n",
       "    }\n",
       "\n",
       "    .dataframe thead th {\n",
       "        text-align: right;\n",
       "    }\n",
       "</style>\n",
       "<table border=\"1\" class=\"dataframe\">\n",
       "  <thead>\n",
       "    <tr style=\"text-align: right;\">\n",
       "      <th></th>\n",
       "      <th>High</th>\n",
       "      <th>Low</th>\n",
       "      <th>Open</th>\n",
       "      <th>Close</th>\n",
       "      <th>Volume</th>\n",
       "      <th>Adj Close</th>\n",
       "    </tr>\n",
       "    <tr>\n",
       "      <th>Date</th>\n",
       "      <th></th>\n",
       "      <th></th>\n",
       "      <th></th>\n",
       "      <th></th>\n",
       "      <th></th>\n",
       "      <th></th>\n",
       "    </tr>\n",
       "  </thead>\n",
       "  <tbody>\n",
       "    <tr>\n",
       "      <th>2020-11-05</th>\n",
       "      <td>27.700001</td>\n",
       "      <td>26.74</td>\n",
       "      <td>26.879999</td>\n",
       "      <td>27.450001</td>\n",
       "      <td>46382700.0</td>\n",
       "      <td>27.421442</td>\n",
       "    </tr>\n",
       "  </tbody>\n",
       "</table>\n",
       "</div>"
      ],
      "text/plain": [
       "                 High    Low       Open      Close      Volume  Adj Close\n",
       "Date                                                                     \n",
       "2020-11-05  27.700001  26.74  26.879999  27.450001  46382700.0  27.421442"
      ]
     },
     "execution_count": 54,
     "metadata": {},
     "output_type": "execute_result"
    }
   ],
   "source": [
    "#Maximo:\n",
    "luiza_df[luiza_df['Close']==luiza_df['Close'].max()]"
   ]
  },
  {
   "cell_type": "code",
   "execution_count": 55,
   "metadata": {},
   "outputs": [
    {
     "data": {
      "text/html": [
       "<div>\n",
       "<style scoped>\n",
       "    .dataframe tbody tr th:only-of-type {\n",
       "        vertical-align: middle;\n",
       "    }\n",
       "\n",
       "    .dataframe tbody tr th {\n",
       "        vertical-align: top;\n",
       "    }\n",
       "\n",
       "    .dataframe thead th {\n",
       "        text-align: right;\n",
       "    }\n",
       "</style>\n",
       "<table border=\"1\" class=\"dataframe\">\n",
       "  <thead>\n",
       "    <tr style=\"text-align: right;\">\n",
       "      <th></th>\n",
       "      <th>High</th>\n",
       "      <th>Low</th>\n",
       "      <th>Open</th>\n",
       "      <th>Close</th>\n",
       "      <th>Volume</th>\n",
       "      <th>Adj Close</th>\n",
       "    </tr>\n",
       "    <tr>\n",
       "      <th>Date</th>\n",
       "      <th></th>\n",
       "      <th></th>\n",
       "      <th></th>\n",
       "      <th></th>\n",
       "      <th></th>\n",
       "      <th></th>\n",
       "    </tr>\n",
       "  </thead>\n",
       "  <tbody>\n",
       "    <tr>\n",
       "      <th>2015-12-14</th>\n",
       "      <td>0.031757</td>\n",
       "      <td>0.03039</td>\n",
       "      <td>0.031445</td>\n",
       "      <td>0.030585</td>\n",
       "      <td>78899200.0</td>\n",
       "      <td>0.029213</td>\n",
       "    </tr>\n",
       "  </tbody>\n",
       "</table>\n",
       "</div>"
      ],
      "text/plain": [
       "                High      Low      Open     Close      Volume  Adj Close\n",
       "Date                                                                    \n",
       "2015-12-14  0.031757  0.03039  0.031445  0.030585  78899200.0   0.029213"
      ]
     },
     "execution_count": 55,
     "metadata": {},
     "output_type": "execute_result"
    }
   ],
   "source": [
    "#Minimo:\n",
    "luiza_df[luiza_df['Close']==luiza_df['Close'].min()]"
   ]
  },
  {
   "cell_type": "markdown",
   "metadata": {},
   "source": [
    "Há dados nulos?"
   ]
  },
  {
   "cell_type": "code",
   "execution_count": 56,
   "metadata": {},
   "outputs": [
    {
     "data": {
      "text/plain": [
       "High         0\n",
       "Low          0\n",
       "Open         0\n",
       "Close        0\n",
       "Volume       0\n",
       "Adj Close    0\n",
       "dtype: int64"
      ]
     },
     "execution_count": 56,
     "metadata": {},
     "output_type": "execute_result"
    }
   ],
   "source": [
    "luiza_df.isnull().sum()"
   ]
  },
  {
   "cell_type": "code",
   "execution_count": 57,
   "metadata": {},
   "outputs": [
    {
     "data": {
      "text/plain": [
       "(1506, 6)"
      ]
     },
     "execution_count": 57,
     "metadata": {},
     "output_type": "execute_result"
    }
   ],
   "source": [
    "#formato\n",
    "\n",
    "luiza_df.shape"
   ]
  },
  {
   "cell_type": "markdown",
   "metadata": {},
   "source": [
    "### Visualização dos dados de fechamento\n"
   ]
  },
  {
   "cell_type": "code",
   "execution_count": 58,
   "metadata": {},
   "outputs": [
    {
     "data": {
      "image/png": "[encoded data removed]",
      "text/plain": [
       "<Figure size 432x288 with 1 Axes>"
      ]
     },
     "metadata": {
      "needs_background": "light"
     },
     "output_type": "display_data"
    }
   ],
   "source": [
    "sns.distplot(luiza_df['Close'])\n",
    "plt.show()"
   ]
  },
  {
   "cell_type": "markdown",
   "metadata": {},
   "source": [
    "Perceba que a distribuição é assimétrica a direita, logo a média é maior que a mediana devido aos valores extremos. O melhor representante dos dados seria a mediana e o boxplot pode nos mostrar se esses valores extremos são outliers.\n",
    "Vejamos:"
   ]
  },
  {
   "cell_type": "code",
   "execution_count": 60,
   "metadata": {},
   "outputs": [
    {
     "data": {
      "image/png": "[encoded data removed]",
      "text/plain": [
       "<Figure size 432x288 with 1 Axes>"
      ]
     },
     "metadata": {
      "needs_background": "light"
     },
     "output_type": "display_data"
    }
   ],
   "source": [
    "sns.boxplot(luiza_df['Close'])\n",
    "plt.show()"
   ]
  },
  {
   "cell_type": "markdown",
   "metadata": {},
   "source": [
    "Veja como o boxplot mostra que os valores de fechamento dessa ação se concentram aproximadamente abaixo de R$7,00 assim como observamos também no histograma."
   ]
  },
  {
   "cell_type": "markdown",
   "metadata": {},
   "source": [
    "Era isso que eu queria mostrar. Espero que seja útil!"
   ]
  },
  {
   "cell_type": "markdown",
   "metadata": {},
   "source": [
    "**Keep calm and analysing data!**"
   ]
  },
  {
   "cell_type": "code",
   "execution_count": null,
   "metadata": {},
   "outputs": [],
   "source": []
  }
 ],
 "metadata": {
  "kernelspec": {
   "display_name": "Python 3",
   "language": "python",
   "name": "python3"
  },
  "language_info": {
   "codemirror_mode": {
    "name": "ipython",
    "version": 3
   },
   "file_extension": ".py",
   "mimetype": "text/x-python",
   "name": "python",
   "nbconvert_exporter": "python",
   "pygments_lexer": "ipython3",
   "version": "3.7.4"
  }
 },
 "nbformat": 4,
 "nbformat_minor": 2
}
