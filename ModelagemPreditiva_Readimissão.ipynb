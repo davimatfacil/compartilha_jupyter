{
  "cells": [
    {
      "cell_type": "markdown",
      "id": "e12b6563",
      "metadata": {
        "id": "e12b6563"
      },
      "source": [
        "#### prof. Davi rocha"
      ]
    },
    {
      "cell_type": "markdown",
      "id": "42a7f5ad",
      "metadata": {
        "id": "42a7f5ad"
      },
      "source": [
        "Nosso objetivo neste projeto será prever se um paciente poderá ser readmitido em uma clínica no período de 30 dias após alta. Para isso, faremos a construção de diversos modelos preditivos usando registros eletrônicos de saúde de uma clínica fictícia.\n",
        "\n",
        "Esse projeto terá como base uma pesquisa realizada em 2018, chamada:\n",
        "\n",
        "Using Electronic Health Records and Machine Learning to Make Medical-Related Predictions from Non-Medical Data\n",
        "\n",
        "https://ieeexplore.ieee.org/document/8614004"
      ]
    },
    {
      "cell_type": "markdown",
      "id": "bca6fbf1",
      "metadata": {
        "id": "bca6fbf1"
      },
      "source": [
        "### Registros Eletrônicos de Saúde (Electronic Health Records)"
      ]
    },
    {
      "cell_type": "markdown",
      "id": "4ac0d786",
      "metadata": {
        "id": "4ac0d786"
      },
      "source": [
        "Um Registro Eletrônico de Saúde (Electronic Health Records - EHR) é uma versão digital da ficha de papel de um paciente. Os EHRs são registros em tempo real, centrados no paciente, que tornam as informações disponíveis instantânea e seguramente para usuários autorizados. Embora um EHR contenha os históricos médicos e de tratamento dos pacientes, um sistema de EHR é construído para ir além dos dados clínicos coletados no consultório de um prestador de serviços e pode incluir uma visão mais ampla do atendimento de um paciente. Os EHRs são uma parte vital da TI em saúde e podem:\n",
        "\n",
        "- Conter o histórico médico do paciente, diagnósticos, medicamentos, planos de tratamento, datas de imunização, alergias, imagens de radiologia e resultados laboratoriais e de testes.\n",
        "\n",
        "\n",
        "- Permitir acesso a ferramentas baseadas em evidências que os provedores podem usar para tomar decisões sobre o atendimento de um paciente.\n",
        "\n",
        "\n",
        "- Automatiza e simplifica o fluxo de trabalho do provedor.\n",
        "\n",
        "Um dos principais recursos de um EHR é que as informações de saúde podem ser criadas e gerenciadas por provedores autorizados em um formato digital capaz de ser compartilhado com outros provedores em mais de uma organização de saúde. Os EHRs são construídos para compartilhar informações com outros prestadores de cuidados de saúde e organizações - como laboratórios, especialistas, instalações de imagens médicas, farmácias, instalações de emergência e clínicas de escolas e locais de trabalho - para que eles contenham informações de todos os clínicos envolvidos no atendimento de um paciente."
      ]
    },
    {
      "cell_type": "markdown",
      "id": "f8a9cdf6",
      "metadata": {
        "id": "f8a9cdf6"
      },
      "source": [
        " ##  1) Carregando os Dados e Compreendendo as Variáveis"
      ]
    },
    {
      "cell_type": "code",
      "execution_count": null,
      "id": "c57ae834",
      "metadata": {
        "id": "c57ae834"
      },
      "outputs": [],
      "source": [
        "import numpy as np\n",
        "import pandas as pd\n",
        "import matplotlib.pyplot as plt\n",
        "import seaborn as sns\n",
        "import warnings\n",
        "warnings.simplefilter(action='ignore', category=FutureWarning)\n",
        "warnings.filterwarnings(\"ignore\", category=FutureWarning)\n",
        "%matplotlib inline\n",
        "plt.rcParams['figure.figsize'] = (16.0,4.0) #mesmo tamanho paronizado para os graficos"
      ]
    },
    {
      "cell_type": "code",
      "execution_count": null,
      "id": "9eaec2b8",
      "metadata": {
        "id": "9eaec2b8",
        "outputId": "8597bb96-e528-42bd-fdbd-c1ca8cd9a334"
      },
      "outputs": [
        {
          "data": {
            "text/html": [
              "<div>\n",
              "<style scoped>\n",
              "    .dataframe tbody tr th:only-of-type {\n",
              "        vertical-align: middle;\n",
              "    }\n",
              "\n",
              "    .dataframe tbody tr th {\n",
              "        vertical-align: top;\n",
              "    }\n",
              "\n",
              "    .dataframe thead th {\n",
              "        text-align: right;\n",
              "    }\n",
              "</style>\n",
              "<table border=\"1\" class=\"dataframe\">\n",
              "  <thead>\n",
              "    <tr style=\"text-align: right;\">\n",
              "      <th></th>\n",
              "      <th>IDADE</th>\n",
              "      <th>SEXO_F</th>\n",
              "      <th>SEXO_M</th>\n",
              "      <th>ADM_CORRENTE_DIAS</th>\n",
              "      <th>RECEB_MEDICAMENTOS</th>\n",
              "      <th>FEZ_EXAMES</th>\n",
              "      <th>DEPEND_QUIMICO</th>\n",
              "      <th>FUMANTE</th>\n",
              "      <th>ALCOOLISMO</th>\n",
              "      <th>NUM_DIAS_INT_PREVIA</th>\n",
              "      <th>ADM_PREVIA_DIAS</th>\n",
              "      <th>NUM_DIAS_LIC_MEDICA</th>\n",
              "      <th>READMISSAO_30_DIAS</th>\n",
              "    </tr>\n",
              "    <tr>\n",
              "      <th>ID</th>\n",
              "      <th></th>\n",
              "      <th></th>\n",
              "      <th></th>\n",
              "      <th></th>\n",
              "      <th></th>\n",
              "      <th></th>\n",
              "      <th></th>\n",
              "      <th></th>\n",
              "      <th></th>\n",
              "      <th></th>\n",
              "      <th></th>\n",
              "      <th></th>\n",
              "      <th></th>\n",
              "    </tr>\n",
              "  </thead>\n",
              "  <tbody>\n",
              "    <tr>\n",
              "      <th>0</th>\n",
              "      <td>62.0</td>\n",
              "      <td>1</td>\n",
              "      <td>0</td>\n",
              "      <td>1</td>\n",
              "      <td>0</td>\n",
              "      <td>1</td>\n",
              "      <td>0</td>\n",
              "      <td>0</td>\n",
              "      <td>0</td>\n",
              "      <td>0</td>\n",
              "      <td>0</td>\n",
              "      <td>0</td>\n",
              "      <td>1</td>\n",
              "    </tr>\n",
              "    <tr>\n",
              "      <th>1</th>\n",
              "      <td>24.0</td>\n",
              "      <td>0</td>\n",
              "      <td>1</td>\n",
              "      <td>2</td>\n",
              "      <td>0</td>\n",
              "      <td>0</td>\n",
              "      <td>1</td>\n",
              "      <td>0</td>\n",
              "      <td>0</td>\n",
              "      <td>0</td>\n",
              "      <td>0</td>\n",
              "      <td>0</td>\n",
              "      <td>0</td>\n",
              "    </tr>\n",
              "    <tr>\n",
              "      <th>2</th>\n",
              "      <td>77.0</td>\n",
              "      <td>0</td>\n",
              "      <td>1</td>\n",
              "      <td>2</td>\n",
              "      <td>0</td>\n",
              "      <td>0</td>\n",
              "      <td>1</td>\n",
              "      <td>0</td>\n",
              "      <td>0</td>\n",
              "      <td>2</td>\n",
              "      <td>2</td>\n",
              "      <td>0</td>\n",
              "      <td>0</td>\n",
              "    </tr>\n",
              "    <tr>\n",
              "      <th>3</th>\n",
              "      <td>68.0</td>\n",
              "      <td>0</td>\n",
              "      <td>1</td>\n",
              "      <td>7</td>\n",
              "      <td>0</td>\n",
              "      <td>0</td>\n",
              "      <td>1</td>\n",
              "      <td>0</td>\n",
              "      <td>0</td>\n",
              "      <td>2</td>\n",
              "      <td>2</td>\n",
              "      <td>0</td>\n",
              "      <td>0</td>\n",
              "    </tr>\n",
              "    <tr>\n",
              "      <th>4</th>\n",
              "      <td>83.0</td>\n",
              "      <td>0</td>\n",
              "      <td>1</td>\n",
              "      <td>2</td>\n",
              "      <td>0</td>\n",
              "      <td>0</td>\n",
              "      <td>1</td>\n",
              "      <td>0</td>\n",
              "      <td>0</td>\n",
              "      <td>1</td>\n",
              "      <td>1</td>\n",
              "      <td>0</td>\n",
              "      <td>0</td>\n",
              "    </tr>\n",
              "  </tbody>\n",
              "</table>\n",
              "</div>"
            ],
            "text/plain": [
              "    IDADE  SEXO_F  SEXO_M  ADM_CORRENTE_DIAS  RECEB_MEDICAMENTOS  FEZ_EXAMES  \\\n",
              "ID                                                                             \n",
              "0    62.0       1       0                  1                   0           1   \n",
              "1    24.0       0       1                  2                   0           0   \n",
              "2    77.0       0       1                  2                   0           0   \n",
              "3    68.0       0       1                  7                   0           0   \n",
              "4    83.0       0       1                  2                   0           0   \n",
              "\n",
              "    DEPEND_QUIMICO  FUMANTE  ALCOOLISMO  NUM_DIAS_INT_PREVIA  ADM_PREVIA_DIAS  \\\n",
              "ID                                                                              \n",
              "0                0        0           0                    0                0   \n",
              "1                1        0           0                    0                0   \n",
              "2                1        0           0                    2                2   \n",
              "3                1        0           0                    2                2   \n",
              "4                1        0           0                    1                1   \n",
              "\n",
              "    NUM_DIAS_LIC_MEDICA  READMISSAO_30_DIAS  \n",
              "ID                                           \n",
              "0                     0                   1  \n",
              "1                     0                   0  \n",
              "2                     0                   0  \n",
              "3                     0                   0  \n",
              "4                     0                   0  "
            ]
          },
          "execution_count": 63,
          "metadata": {},
          "output_type": "execute_result"
        }
      ],
      "source": [
        "dados = pd.read_csv('dados/dataset.csv',index_col=[0])\n",
        "dados.head()"
      ]
    },
    {
      "cell_type": "markdown",
      "id": "d887d6ea",
      "metadata": {
        "id": "d887d6ea"
      },
      "source": [
        "Dicionário de Dados\n",
        "\n",
        "- IDADE - Idade do paciente (numérica)\n",
        "- SEXO_F - paciente do sexo feminino (categórica)\n",
        "- SEXO_M - paciente do sexo masculino (categórica)\n",
        "- ADM_CORRENTE_DIAS - Dias desde a admissão atual (numérica)\n",
        "- RECEB_MEDICAMENTOS - Recebeu medicamentos na última internação (categórica)\n",
        "- FEZ_EXAMES - Fez exames na última internação (categórica)\n",
        "- DEPEND_QUIMICO - Dependendo químico (categórica)\n",
        "- FUMANTE - Fumante (categórica)\n",
        "- ALCOOLISMO - Alcoolismo (categórica)\n",
        "- NUM_DIAS_INT_PREVIA - Número de internações anteriores (numérica)\n",
        "- ADM_PREVIA_DIAS - Dias da admissão anterior (numérica)\n",
        "- NUM_DIAS_LIC_MEDICA - Licença médica (numérica)\n",
        "- READMISSAO_30_DIAS - Readmissão dentro de 30 dias após a alta. Variável target. 0 - Não / 1 - Sim"
      ]
    },
    {
      "cell_type": "code",
      "execution_count": null,
      "id": "6bb1908c",
      "metadata": {
        "id": "6bb1908c",
        "outputId": "a60ca44c-37f4-45de-9afc-56c898040a5f"
      },
      "outputs": [
        {
          "data": {
            "text/plain": [
              "(117180, 13)"
            ]
          },
          "execution_count": 64,
          "metadata": {},
          "output_type": "execute_result"
        }
      ],
      "source": [
        "# shape dos dados\n",
        "dados.shape"
      ]
    },
    {
      "cell_type": "markdown",
      "id": "a6834644",
      "metadata": {
        "id": "a6834644"
      },
      "source": [
        "Há 117180 linhas e 13 colunas"
      ]
    },
    {
      "cell_type": "code",
      "execution_count": null,
      "id": "0c674b91",
      "metadata": {
        "id": "0c674b91",
        "outputId": "aeabc186-70a6-4cf7-bc69-93f7f102ff97"
      },
      "outputs": [
        {
          "name": "stdout",
          "output_type": "stream",
          "text": [
            "<class 'pandas.core.frame.DataFrame'>\n",
            "Int64Index: 117180 entries, 0 to 129999\n",
            "Data columns (total 13 columns):\n",
            " #   Column               Non-Null Count   Dtype  \n",
            "---  ------               --------------   -----  \n",
            " 0   IDADE                117180 non-null  float64\n",
            " 1   SEXO_F               117180 non-null  int64  \n",
            " 2   SEXO_M               117180 non-null  int64  \n",
            " 3   ADM_CORRENTE_DIAS    117180 non-null  int64  \n",
            " 4   RECEB_MEDICAMENTOS   117180 non-null  int64  \n",
            " 5   FEZ_EXAMES           117180 non-null  int64  \n",
            " 6   DEPEND_QUIMICO       117180 non-null  int64  \n",
            " 7   FUMANTE              117180 non-null  int64  \n",
            " 8   ALCOOLISMO           117180 non-null  int64  \n",
            " 9   NUM_DIAS_INT_PREVIA  117180 non-null  int64  \n",
            " 10  ADM_PREVIA_DIAS      117180 non-null  int64  \n",
            " 11  NUM_DIAS_LIC_MEDICA  117180 non-null  int64  \n",
            " 12  READMISSAO_30_DIAS   117180 non-null  int64  \n",
            "dtypes: float64(1), int64(12)\n",
            "memory usage: 12.5 MB\n"
          ]
        }
      ],
      "source": [
        "#Tipos de dados e outras informações\n",
        "dados.info()"
      ]
    },
    {
      "cell_type": "markdown",
      "id": "48920ce5",
      "metadata": {
        "id": "48920ce5"
      },
      "source": [
        "#### Da analise acima já concluímos que não há nulos e que  todas as nossas variaveis foram classificads como numéricas pelo pandas."
      ]
    },
    {
      "cell_type": "code",
      "execution_count": null,
      "id": "a3e0ccba",
      "metadata": {
        "id": "a3e0ccba",
        "outputId": "b3c04a1e-6e6a-4a92-c2ba-3ecdc5f09ae0"
      },
      "outputs": [
        {
          "data": {
            "text/html": [
              "<div>\n",
              "<style scoped>\n",
              "    .dataframe tbody tr th:only-of-type {\n",
              "        vertical-align: middle;\n",
              "    }\n",
              "\n",
              "    .dataframe tbody tr th {\n",
              "        vertical-align: top;\n",
              "    }\n",
              "\n",
              "    .dataframe thead th {\n",
              "        text-align: right;\n",
              "    }\n",
              "</style>\n",
              "<table border=\"1\" class=\"dataframe\">\n",
              "  <thead>\n",
              "    <tr style=\"text-align: right;\">\n",
              "      <th></th>\n",
              "      <th>IDADE</th>\n",
              "      <th>SEXO_F</th>\n",
              "      <th>SEXO_M</th>\n",
              "      <th>ADM_CORRENTE_DIAS</th>\n",
              "      <th>RECEB_MEDICAMENTOS</th>\n",
              "      <th>FEZ_EXAMES</th>\n",
              "      <th>DEPEND_QUIMICO</th>\n",
              "      <th>FUMANTE</th>\n",
              "      <th>ALCOOLISMO</th>\n",
              "      <th>NUM_DIAS_INT_PREVIA</th>\n",
              "      <th>ADM_PREVIA_DIAS</th>\n",
              "      <th>NUM_DIAS_LIC_MEDICA</th>\n",
              "      <th>READMISSAO_30_DIAS</th>\n",
              "    </tr>\n",
              "  </thead>\n",
              "  <tbody>\n",
              "    <tr>\n",
              "      <th>count</th>\n",
              "      <td>117180.000000</td>\n",
              "      <td>117180.000000</td>\n",
              "      <td>117180.000000</td>\n",
              "      <td>117180.000000</td>\n",
              "      <td>117180.000000</td>\n",
              "      <td>117180.000000</td>\n",
              "      <td>117180.000000</td>\n",
              "      <td>117180.000000</td>\n",
              "      <td>117180.000000</td>\n",
              "      <td>117180.000000</td>\n",
              "      <td>117180.000000</td>\n",
              "      <td>117180.000000</td>\n",
              "      <td>117180.000000</td>\n",
              "    </tr>\n",
              "    <tr>\n",
              "      <th>mean</th>\n",
              "      <td>65.066522</td>\n",
              "      <td>0.428239</td>\n",
              "      <td>0.571761</td>\n",
              "      <td>4.707680</td>\n",
              "      <td>0.160266</td>\n",
              "      <td>0.237020</td>\n",
              "      <td>0.597440</td>\n",
              "      <td>0.005274</td>\n",
              "      <td>0.008269</td>\n",
              "      <td>5.301988</td>\n",
              "      <td>12.328179</td>\n",
              "      <td>0.314456</td>\n",
              "      <td>0.189384</td>\n",
              "    </tr>\n",
              "    <tr>\n",
              "      <th>std</th>\n",
              "      <td>17.965229</td>\n",
              "      <td>0.494826</td>\n",
              "      <td>0.494826</td>\n",
              "      <td>6.257739</td>\n",
              "      <td>0.366854</td>\n",
              "      <td>0.425256</td>\n",
              "      <td>0.490416</td>\n",
              "      <td>0.072430</td>\n",
              "      <td>0.090559</td>\n",
              "      <td>14.324146</td>\n",
              "      <td>26.846820</td>\n",
              "      <td>3.366208</td>\n",
              "      <td>0.391815</td>\n",
              "    </tr>\n",
              "    <tr>\n",
              "      <th>min</th>\n",
              "      <td>0.000000</td>\n",
              "      <td>0.000000</td>\n",
              "      <td>0.000000</td>\n",
              "      <td>1.000000</td>\n",
              "      <td>0.000000</td>\n",
              "      <td>0.000000</td>\n",
              "      <td>0.000000</td>\n",
              "      <td>0.000000</td>\n",
              "      <td>0.000000</td>\n",
              "      <td>0.000000</td>\n",
              "      <td>0.000000</td>\n",
              "      <td>0.000000</td>\n",
              "      <td>0.000000</td>\n",
              "    </tr>\n",
              "    <tr>\n",
              "      <th>25%</th>\n",
              "      <td>56.000000</td>\n",
              "      <td>0.000000</td>\n",
              "      <td>0.000000</td>\n",
              "      <td>1.000000</td>\n",
              "      <td>0.000000</td>\n",
              "      <td>0.000000</td>\n",
              "      <td>0.000000</td>\n",
              "      <td>0.000000</td>\n",
              "      <td>0.000000</td>\n",
              "      <td>0.000000</td>\n",
              "      <td>0.000000</td>\n",
              "      <td>0.000000</td>\n",
              "      <td>0.000000</td>\n",
              "    </tr>\n",
              "    <tr>\n",
              "      <th>50%</th>\n",
              "      <td>69.000000</td>\n",
              "      <td>0.000000</td>\n",
              "      <td>1.000000</td>\n",
              "      <td>2.000000</td>\n",
              "      <td>0.000000</td>\n",
              "      <td>0.000000</td>\n",
              "      <td>1.000000</td>\n",
              "      <td>0.000000</td>\n",
              "      <td>0.000000</td>\n",
              "      <td>0.000000</td>\n",
              "      <td>0.000000</td>\n",
              "      <td>0.000000</td>\n",
              "      <td>0.000000</td>\n",
              "    </tr>\n",
              "    <tr>\n",
              "      <th>75%</th>\n",
              "      <td>78.000000</td>\n",
              "      <td>1.000000</td>\n",
              "      <td>1.000000</td>\n",
              "      <td>6.000000</td>\n",
              "      <td>0.000000</td>\n",
              "      <td>0.000000</td>\n",
              "      <td>1.000000</td>\n",
              "      <td>0.000000</td>\n",
              "      <td>0.000000</td>\n",
              "      <td>3.000000</td>\n",
              "      <td>12.000000</td>\n",
              "      <td>0.000000</td>\n",
              "      <td>0.000000</td>\n",
              "    </tr>\n",
              "    <tr>\n",
              "      <th>max</th>\n",
              "      <td>114.000000</td>\n",
              "      <td>1.000000</td>\n",
              "      <td>1.000000</td>\n",
              "      <td>307.000000</td>\n",
              "      <td>1.000000</td>\n",
              "      <td>1.000000</td>\n",
              "      <td>1.000000</td>\n",
              "      <td>1.000000</td>\n",
              "      <td>1.000000</td>\n",
              "      <td>170.000000</td>\n",
              "      <td>627.000000</td>\n",
              "      <td>315.000000</td>\n",
              "      <td>1.000000</td>\n",
              "    </tr>\n",
              "  </tbody>\n",
              "</table>\n",
              "</div>"
            ],
            "text/plain": [
              "               IDADE         SEXO_F         SEXO_M  ADM_CORRENTE_DIAS  \\\n",
              "count  117180.000000  117180.000000  117180.000000      117180.000000   \n",
              "mean       65.066522       0.428239       0.571761           4.707680   \n",
              "std        17.965229       0.494826       0.494826           6.257739   \n",
              "min         0.000000       0.000000       0.000000           1.000000   \n",
              "25%        56.000000       0.000000       0.000000           1.000000   \n",
              "50%        69.000000       0.000000       1.000000           2.000000   \n",
              "75%        78.000000       1.000000       1.000000           6.000000   \n",
              "max       114.000000       1.000000       1.000000         307.000000   \n",
              "\n",
              "       RECEB_MEDICAMENTOS     FEZ_EXAMES  DEPEND_QUIMICO        FUMANTE  \\\n",
              "count       117180.000000  117180.000000   117180.000000  117180.000000   \n",
              "mean             0.160266       0.237020        0.597440       0.005274   \n",
              "std              0.366854       0.425256        0.490416       0.072430   \n",
              "min              0.000000       0.000000        0.000000       0.000000   \n",
              "25%              0.000000       0.000000        0.000000       0.000000   \n",
              "50%              0.000000       0.000000        1.000000       0.000000   \n",
              "75%              0.000000       0.000000        1.000000       0.000000   \n",
              "max              1.000000       1.000000        1.000000       1.000000   \n",
              "\n",
              "          ALCOOLISMO  NUM_DIAS_INT_PREVIA  ADM_PREVIA_DIAS  \\\n",
              "count  117180.000000        117180.000000    117180.000000   \n",
              "mean        0.008269             5.301988        12.328179   \n",
              "std         0.090559            14.324146        26.846820   \n",
              "min         0.000000             0.000000         0.000000   \n",
              "25%         0.000000             0.000000         0.000000   \n",
              "50%         0.000000             0.000000         0.000000   \n",
              "75%         0.000000             3.000000        12.000000   \n",
              "max         1.000000           170.000000       627.000000   \n",
              "\n",
              "       NUM_DIAS_LIC_MEDICA  READMISSAO_30_DIAS  \n",
              "count        117180.000000       117180.000000  \n",
              "mean              0.314456            0.189384  \n",
              "std               3.366208            0.391815  \n",
              "min               0.000000            0.000000  \n",
              "25%               0.000000            0.000000  \n",
              "50%               0.000000            0.000000  \n",
              "75%               0.000000            0.000000  \n",
              "max             315.000000            1.000000  "
            ]
          },
          "execution_count": 66,
          "metadata": {},
          "output_type": "execute_result"
        }
      ],
      "source": [
        "#Rsumo estatistico\n",
        "dados.describe()"
      ]
    },
    {
      "cell_type": "code",
      "execution_count": null,
      "id": "49af209c",
      "metadata": {
        "id": "49af209c",
        "outputId": "d16d5f44-8f4f-4c2c-ad1d-940f964aa88f"
      },
      "outputs": [
        {
          "data": {
            "text/html": [
              "<div>\n",
              "<style scoped>\n",
              "    .dataframe tbody tr th:only-of-type {\n",
              "        vertical-align: middle;\n",
              "    }\n",
              "\n",
              "    .dataframe tbody tr th {\n",
              "        vertical-align: top;\n",
              "    }\n",
              "\n",
              "    .dataframe thead th {\n",
              "        text-align: right;\n",
              "    }\n",
              "</style>\n",
              "<table border=\"1\" class=\"dataframe\">\n",
              "  <thead>\n",
              "    <tr style=\"text-align: right;\">\n",
              "      <th></th>\n",
              "      <th>IDADE</th>\n",
              "      <th>SEXO_F</th>\n",
              "      <th>SEXO_M</th>\n",
              "      <th>ADM_CORRENTE_DIAS</th>\n",
              "      <th>RECEB_MEDICAMENTOS</th>\n",
              "      <th>FEZ_EXAMES</th>\n",
              "      <th>DEPEND_QUIMICO</th>\n",
              "      <th>FUMANTE</th>\n",
              "      <th>ALCOOLISMO</th>\n",
              "      <th>NUM_DIAS_INT_PREVIA</th>\n",
              "      <th>ADM_PREVIA_DIAS</th>\n",
              "      <th>NUM_DIAS_LIC_MEDICA</th>\n",
              "      <th>READMISSAO_30_DIAS</th>\n",
              "    </tr>\n",
              "    <tr>\n",
              "      <th>ID</th>\n",
              "      <th></th>\n",
              "      <th></th>\n",
              "      <th></th>\n",
              "      <th></th>\n",
              "      <th></th>\n",
              "      <th></th>\n",
              "      <th></th>\n",
              "      <th></th>\n",
              "      <th></th>\n",
              "      <th></th>\n",
              "      <th></th>\n",
              "      <th></th>\n",
              "      <th></th>\n",
              "    </tr>\n",
              "  </thead>\n",
              "  <tbody>\n",
              "    <tr>\n",
              "      <th>73</th>\n",
              "      <td>82.0</td>\n",
              "      <td>1</td>\n",
              "      <td>0</td>\n",
              "      <td>1</td>\n",
              "      <td>1</td>\n",
              "      <td>0</td>\n",
              "      <td>0</td>\n",
              "      <td>0</td>\n",
              "      <td>0</td>\n",
              "      <td>0</td>\n",
              "      <td>0</td>\n",
              "      <td>0</td>\n",
              "      <td>0</td>\n",
              "    </tr>\n",
              "    <tr>\n",
              "      <th>88</th>\n",
              "      <td>38.0</td>\n",
              "      <td>0</td>\n",
              "      <td>1</td>\n",
              "      <td>2</td>\n",
              "      <td>0</td>\n",
              "      <td>0</td>\n",
              "      <td>1</td>\n",
              "      <td>0</td>\n",
              "      <td>0</td>\n",
              "      <td>0</td>\n",
              "      <td>0</td>\n",
              "      <td>0</td>\n",
              "      <td>0</td>\n",
              "    </tr>\n",
              "    <tr>\n",
              "      <th>183</th>\n",
              "      <td>40.0</td>\n",
              "      <td>1</td>\n",
              "      <td>0</td>\n",
              "      <td>5</td>\n",
              "      <td>0</td>\n",
              "      <td>0</td>\n",
              "      <td>1</td>\n",
              "      <td>0</td>\n",
              "      <td>0</td>\n",
              "      <td>0</td>\n",
              "      <td>0</td>\n",
              "      <td>0</td>\n",
              "      <td>0</td>\n",
              "    </tr>\n",
              "    <tr>\n",
              "      <th>185</th>\n",
              "      <td>70.0</td>\n",
              "      <td>0</td>\n",
              "      <td>1</td>\n",
              "      <td>1</td>\n",
              "      <td>1</td>\n",
              "      <td>0</td>\n",
              "      <td>0</td>\n",
              "      <td>0</td>\n",
              "      <td>0</td>\n",
              "      <td>1</td>\n",
              "      <td>1</td>\n",
              "      <td>0</td>\n",
              "      <td>0</td>\n",
              "    </tr>\n",
              "    <tr>\n",
              "      <th>263</th>\n",
              "      <td>64.0</td>\n",
              "      <td>0</td>\n",
              "      <td>1</td>\n",
              "      <td>2</td>\n",
              "      <td>0</td>\n",
              "      <td>0</td>\n",
              "      <td>1</td>\n",
              "      <td>0</td>\n",
              "      <td>0</td>\n",
              "      <td>0</td>\n",
              "      <td>0</td>\n",
              "      <td>0</td>\n",
              "      <td>0</td>\n",
              "    </tr>\n",
              "    <tr>\n",
              "      <th>...</th>\n",
              "      <td>...</td>\n",
              "      <td>...</td>\n",
              "      <td>...</td>\n",
              "      <td>...</td>\n",
              "      <td>...</td>\n",
              "      <td>...</td>\n",
              "      <td>...</td>\n",
              "      <td>...</td>\n",
              "      <td>...</td>\n",
              "      <td>...</td>\n",
              "      <td>...</td>\n",
              "      <td>...</td>\n",
              "      <td>...</td>\n",
              "    </tr>\n",
              "    <tr>\n",
              "      <th>129994</th>\n",
              "      <td>79.0</td>\n",
              "      <td>0</td>\n",
              "      <td>1</td>\n",
              "      <td>6</td>\n",
              "      <td>0</td>\n",
              "      <td>0</td>\n",
              "      <td>1</td>\n",
              "      <td>0</td>\n",
              "      <td>0</td>\n",
              "      <td>0</td>\n",
              "      <td>0</td>\n",
              "      <td>0</td>\n",
              "      <td>0</td>\n",
              "    </tr>\n",
              "    <tr>\n",
              "      <th>129995</th>\n",
              "      <td>79.0</td>\n",
              "      <td>0</td>\n",
              "      <td>1</td>\n",
              "      <td>1</td>\n",
              "      <td>1</td>\n",
              "      <td>0</td>\n",
              "      <td>0</td>\n",
              "      <td>0</td>\n",
              "      <td>0</td>\n",
              "      <td>1</td>\n",
              "      <td>1</td>\n",
              "      <td>0</td>\n",
              "      <td>0</td>\n",
              "    </tr>\n",
              "    <tr>\n",
              "      <th>129997</th>\n",
              "      <td>52.0</td>\n",
              "      <td>0</td>\n",
              "      <td>1</td>\n",
              "      <td>4</td>\n",
              "      <td>1</td>\n",
              "      <td>0</td>\n",
              "      <td>0</td>\n",
              "      <td>0</td>\n",
              "      <td>0</td>\n",
              "      <td>0</td>\n",
              "      <td>0</td>\n",
              "      <td>0</td>\n",
              "      <td>0</td>\n",
              "    </tr>\n",
              "    <tr>\n",
              "      <th>129998</th>\n",
              "      <td>70.0</td>\n",
              "      <td>1</td>\n",
              "      <td>0</td>\n",
              "      <td>1</td>\n",
              "      <td>0</td>\n",
              "      <td>0</td>\n",
              "      <td>1</td>\n",
              "      <td>0</td>\n",
              "      <td>0</td>\n",
              "      <td>2</td>\n",
              "      <td>2</td>\n",
              "      <td>0</td>\n",
              "      <td>0</td>\n",
              "    </tr>\n",
              "    <tr>\n",
              "      <th>129999</th>\n",
              "      <td>77.0</td>\n",
              "      <td>0</td>\n",
              "      <td>1</td>\n",
              "      <td>4</td>\n",
              "      <td>0</td>\n",
              "      <td>0</td>\n",
              "      <td>1</td>\n",
              "      <td>0</td>\n",
              "      <td>0</td>\n",
              "      <td>0</td>\n",
              "      <td>0</td>\n",
              "      <td>0</td>\n",
              "      <td>0</td>\n",
              "    </tr>\n",
              "  </tbody>\n",
              "</table>\n",
              "<p>60839 rows × 13 columns</p>\n",
              "</div>"
            ],
            "text/plain": [
              "        IDADE  SEXO_F  SEXO_M  ADM_CORRENTE_DIAS  RECEB_MEDICAMENTOS  \\\n",
              "ID                                                                     \n",
              "73       82.0       1       0                  1                   1   \n",
              "88       38.0       0       1                  2                   0   \n",
              "183      40.0       1       0                  5                   0   \n",
              "185      70.0       0       1                  1                   1   \n",
              "263      64.0       0       1                  2                   0   \n",
              "...       ...     ...     ...                ...                 ...   \n",
              "129994   79.0       0       1                  6                   0   \n",
              "129995   79.0       0       1                  1                   1   \n",
              "129997   52.0       0       1                  4                   1   \n",
              "129998   70.0       1       0                  1                   0   \n",
              "129999   77.0       0       1                  4                   0   \n",
              "\n",
              "        FEZ_EXAMES  DEPEND_QUIMICO  FUMANTE  ALCOOLISMO  NUM_DIAS_INT_PREVIA  \\\n",
              "ID                                                                             \n",
              "73               0               0        0           0                    0   \n",
              "88               0               1        0           0                    0   \n",
              "183              0               1        0           0                    0   \n",
              "185              0               0        0           0                    1   \n",
              "263              0               1        0           0                    0   \n",
              "...            ...             ...      ...         ...                  ...   \n",
              "129994           0               1        0           0                    0   \n",
              "129995           0               0        0           0                    1   \n",
              "129997           0               0        0           0                    0   \n",
              "129998           0               1        0           0                    2   \n",
              "129999           0               1        0           0                    0   \n",
              "\n",
              "        ADM_PREVIA_DIAS  NUM_DIAS_LIC_MEDICA  READMISSAO_30_DIAS  \n",
              "ID                                                                \n",
              "73                    0                    0                   0  \n",
              "88                    0                    0                   0  \n",
              "183                   0                    0                   0  \n",
              "185                   1                    0                   0  \n",
              "263                   0                    0                   0  \n",
              "...                 ...                  ...                 ...  \n",
              "129994                0                    0                   0  \n",
              "129995                1                    0                   0  \n",
              "129997                0                    0                   0  \n",
              "129998                2                    0                   0  \n",
              "129999                0                    0                   0  \n",
              "\n",
              "[60839 rows x 13 columns]"
            ]
          },
          "execution_count": 67,
          "metadata": {},
          "output_type": "execute_result"
        }
      ],
      "source": [
        "#Há linhas duplicadas\n",
        "\n",
        "dados[dados.duplicated()]"
      ]
    },
    {
      "cell_type": "code",
      "execution_count": null,
      "id": "68bb4ec5",
      "metadata": {
        "id": "68bb4ec5",
        "outputId": "89a64365-5826-4eaf-9e28-8c813108f721"
      },
      "outputs": [
        {
          "data": {
            "text/plain": [
              "60839"
            ]
          },
          "execution_count": 68,
          "metadata": {},
          "output_type": "execute_result"
        }
      ],
      "source": [
        "dados.duplicated().sum()"
      ]
    },
    {
      "cell_type": "markdown",
      "id": "88880a89",
      "metadata": {
        "id": "88880a89"
      },
      "source": [
        "A analise acima indicou que há 60839 dados duplicados,porém podem se apcientes que possuem algumas caracteristicas identicas, por exemplo: dois pacientes podem ter a mesma idade, sexo, dias de internação, mesma quantide de exames, ETC. Pode ocorrer!"
      ]
    },
    {
      "cell_type": "markdown",
      "id": "39bd36f6",
      "metadata": {
        "id": "39bd36f6"
      },
      "source": [
        "Vamos manter esses dados duplicados e verificar como os modelos performam! Pois não temos certeza, com as informações que temos se são dados duplicados por erro de coleta ou se existem pacientes com as mesmas caracteristicas       "
      ]
    },
    {
      "cell_type": "code",
      "execution_count": null,
      "id": "aef6601e",
      "metadata": {
        "id": "aef6601e"
      },
      "outputs": [],
      "source": [
        "# Função para visualizar a distribuição de cada variável\n",
        "def cria_histograma(dataset, features, rows, cols):\n",
        "    fig = plt.figure(figsize = (20,20))\n",
        "\n",
        "    for i, feature in enumerate(features):\n",
        "        ax = fig.add_subplot(rows, cols, i+1)\n",
        "        dataset[feature].hist(bins = 20, ax = ax, facecolor = 'midnightblue')\n",
        "        ax.set_title(feature + \" Distribuição\", color = 'DarkRed')\n",
        "\n",
        "    fig.tight_layout()\n",
        "    plt.show()"
      ]
    },
    {
      "cell_type": "code",
      "execution_count": null,
      "id": "1b9150fd",
      "metadata": {
        "id": "1b9150fd",
        "outputId": "d2b4f65c-ea31-425e-cbc7-1339ebfe8625"
      },
      "outputs": [
        {
          "data": {
            "image/png": "[encoded data removed]",
            "text/plain": [
              "<Figure size 1440x1440 with 13 Axes>"
            ]
          },
          "metadata": {
            "needs_background": "light"
          },
          "output_type": "display_data"
        }
      ],
      "source": [
        "# Executa a função\n",
        "cria_histograma(dados, dados.columns, 6, 3)"
      ]
    },
    {
      "cell_type": "markdown",
      "id": "75c3d666",
      "metadata": {
        "id": "75c3d666"
      },
      "source": [
        "#### Analise dos histogrmas:\n",
        "\n",
        "- idade:\n",
        "\n",
        "a) chama a atenção idades com valor zero, será que criannças com menos de um ano foram internadas? Ou erro de digitação?\n",
        "\n",
        "b) existem idades maiores que 100. Seráum outlier?\n",
        "\n",
        "Observe que esses itens a) e b) já apareceram no resumo estatístico(describe)\n",
        "\n",
        "- sexo_F e sexo_M parecem estar ok\n",
        "\n",
        "- em realçao a medicamentos parece que a maioria dos pacientes nao recebeu medicamento e a maioria também nao fez exames, será que está correto?\n",
        "\n",
        "- na variavel dependente quimico cham a atenção que o grafico diz que a maioria é dependente quimico. Porém a pergunta que fica é dependente de que, remedios, drogas?\n",
        "\n",
        "- nesse dataset diz que a maioria nao fuma e a maioria também não bebe. isso leva a inferir(semprovas) que talvez a depdendencia quimica vista anteriormentye seja de remedios mesmo... mas nao temos certeza. Geralmente quem usa drogas também fuma e bebe, ou pelo menos um dos dois...\n",
        "\n",
        "\n",
        "\n",
        "- READMISSAO_30_DIAS:\n",
        "\n",
        "dados desbalanceados, há mais dados em que não ocorreram readmissão"
      ]
    },
    {
      "cell_type": "markdown",
      "id": "28a1d7fa",
      "metadata": {
        "id": "28a1d7fa"
      },
      "source": [
        "### Checando Outliers\n",
        "\n",
        "Um outlier é um ponto ou conjunto de pontos que são muito diferentes de outros pontos, valores extremos. Às vezes, eles podem ser muito altos ou muito baixos. Geralmente, é uma boa ideia detectar e remover os valores discrepantes.\n",
        "\n",
        "Os valores discrepantes são uma das principais razões para um modelo menos preciso.\n",
        "\n",
        "Por isso, é uma boa ideia removê-los."
      ]
    },
    {
      "cell_type": "markdown",
      "id": "b7b009ce",
      "metadata": {
        "id": "b7b009ce"
      },
      "source": [
        "Na estatística descritiva, um gráfico de caixa (Boxplot) é um método para representar graficamente grupos de dados numéricos através de seus quartis. Os gráficos de caixa também podem ter linhas que se estendem verticalmente (ou horizontalmente) a partir das caixas (bigodes), indicando variabilidade fora dos quartis superior e inferior. Os outliers podem ser plotados como pontos individuais.\n",
        "\n",
        "A definição acima sugere que, se houver um outlier, ele será plotado como ponto no boxplot.\n",
        "\n",
        "O gráfico abaixo mostra dois pontos bem acima de 100 anos, estes são outliers, pois não estão incluídos na caixa, ou seja, nenhum lugar perto dos quartis. O mesmo raciocínio para os pontos abaixo de 20 anos."
      ]
    },
    {
      "cell_type": "code",
      "execution_count": null,
      "id": "cc2f7542",
      "metadata": {
        "id": "cc2f7542",
        "outputId": "e3892742-0d73-450a-8775-7f934a3c1a92"
      },
      "outputs": [
        {
          "data": {
            "image/png": "[encoded data removed]",
            "text/plain": [
              "<Figure size 1152x288 with 1 Axes>"
            ]
          },
          "metadata": {
            "needs_background": "light"
          },
          "output_type": "display_data"
        }
      ],
      "source": [
        "# Visualizando os outliers da variável IDADE\n",
        "sns.boxplot(x = dados['IDADE'])\n",
        "plt.show()"
      ]
    },
    {
      "cell_type": "raw",
      "id": "dee5be8b",
      "metadata": {
        "id": "dee5be8b"
      },
      "source": []
    },
    {
      "cell_type": "markdown",
      "id": "99f2b260",
      "metadata": {
        "id": "99f2b260"
      },
      "source": [
        "Pergunta: Já que a mediana das idades pe de cerca de 70 anos, porque há nesses dados pessoas menores que 20 anos?\n",
        "Que tipos de pessoas essa clinica atende, será que não atende só adultos? Será um erro de coleta de dados?\n",
        "essa é a hora que precisariamos do conhecedor de negocio !!"
      ]
    },
    {
      "cell_type": "markdown",
      "id": "4976704d",
      "metadata": {
        "id": "4976704d"
      },
      "source": [
        "Vamos tomar uma decisao aqui: Vamos retirar todas as linhas que tenham idade maior que 110 anos e menor que 5 anos.\n",
        "\n",
        "Vamos testar assim, se necessário, apos avaliar o modelo podemos voltar e incluir esses dados ou aumentar o range de dados"
      ]
    },
    {
      "cell_type": "code",
      "execution_count": null,
      "id": "99052812",
      "metadata": {
        "id": "99052812",
        "outputId": "058e70d9-d7e0-438c-8f20-fb484a453da5"
      },
      "outputs": [
        {
          "data": {
            "text/html": [
              "<div>\n",
              "<style scoped>\n",
              "    .dataframe tbody tr th:only-of-type {\n",
              "        vertical-align: middle;\n",
              "    }\n",
              "\n",
              "    .dataframe tbody tr th {\n",
              "        vertical-align: top;\n",
              "    }\n",
              "\n",
              "    .dataframe thead th {\n",
              "        text-align: right;\n",
              "    }\n",
              "</style>\n",
              "<table border=\"1\" class=\"dataframe\">\n",
              "  <thead>\n",
              "    <tr style=\"text-align: right;\">\n",
              "      <th></th>\n",
              "      <th>IDADE</th>\n",
              "      <th>SEXO_F</th>\n",
              "      <th>SEXO_M</th>\n",
              "      <th>ADM_CORRENTE_DIAS</th>\n",
              "      <th>RECEB_MEDICAMENTOS</th>\n",
              "      <th>FEZ_EXAMES</th>\n",
              "      <th>DEPEND_QUIMICO</th>\n",
              "      <th>FUMANTE</th>\n",
              "      <th>ALCOOLISMO</th>\n",
              "      <th>NUM_DIAS_INT_PREVIA</th>\n",
              "      <th>ADM_PREVIA_DIAS</th>\n",
              "      <th>NUM_DIAS_LIC_MEDICA</th>\n",
              "      <th>READMISSAO_30_DIAS</th>\n",
              "    </tr>\n",
              "    <tr>\n",
              "      <th>ID</th>\n",
              "      <th></th>\n",
              "      <th></th>\n",
              "      <th></th>\n",
              "      <th></th>\n",
              "      <th></th>\n",
              "      <th></th>\n",
              "      <th></th>\n",
              "      <th></th>\n",
              "      <th></th>\n",
              "      <th></th>\n",
              "      <th></th>\n",
              "      <th></th>\n",
              "      <th></th>\n",
              "    </tr>\n",
              "  </thead>\n",
              "  <tbody>\n",
              "    <tr>\n",
              "      <th>5204</th>\n",
              "      <td>0.0</td>\n",
              "      <td>0</td>\n",
              "      <td>1</td>\n",
              "      <td>3</td>\n",
              "      <td>1</td>\n",
              "      <td>0</td>\n",
              "      <td>0</td>\n",
              "      <td>0</td>\n",
              "      <td>0</td>\n",
              "      <td>0</td>\n",
              "      <td>0</td>\n",
              "      <td>0</td>\n",
              "      <td>0</td>\n",
              "    </tr>\n",
              "    <tr>\n",
              "      <th>9588</th>\n",
              "      <td>0.0</td>\n",
              "      <td>1</td>\n",
              "      <td>0</td>\n",
              "      <td>1</td>\n",
              "      <td>0</td>\n",
              "      <td>1</td>\n",
              "      <td>0</td>\n",
              "      <td>0</td>\n",
              "      <td>0</td>\n",
              "      <td>0</td>\n",
              "      <td>0</td>\n",
              "      <td>0</td>\n",
              "      <td>0</td>\n",
              "    </tr>\n",
              "    <tr>\n",
              "      <th>12103</th>\n",
              "      <td>2.0</td>\n",
              "      <td>1</td>\n",
              "      <td>0</td>\n",
              "      <td>1</td>\n",
              "      <td>1</td>\n",
              "      <td>0</td>\n",
              "      <td>0</td>\n",
              "      <td>0</td>\n",
              "      <td>0</td>\n",
              "      <td>1</td>\n",
              "      <td>3</td>\n",
              "      <td>0</td>\n",
              "      <td>0</td>\n",
              "    </tr>\n",
              "    <tr>\n",
              "      <th>19961</th>\n",
              "      <td>0.0</td>\n",
              "      <td>0</td>\n",
              "      <td>1</td>\n",
              "      <td>13</td>\n",
              "      <td>0</td>\n",
              "      <td>0</td>\n",
              "      <td>1</td>\n",
              "      <td>0</td>\n",
              "      <td>0</td>\n",
              "      <td>0</td>\n",
              "      <td>0</td>\n",
              "      <td>0</td>\n",
              "      <td>0</td>\n",
              "    </tr>\n",
              "    <tr>\n",
              "      <th>21779</th>\n",
              "      <td>0.0</td>\n",
              "      <td>0</td>\n",
              "      <td>1</td>\n",
              "      <td>2</td>\n",
              "      <td>0</td>\n",
              "      <td>0</td>\n",
              "      <td>1</td>\n",
              "      <td>0</td>\n",
              "      <td>0</td>\n",
              "      <td>0</td>\n",
              "      <td>0</td>\n",
              "      <td>0</td>\n",
              "      <td>0</td>\n",
              "    </tr>\n",
              "  </tbody>\n",
              "</table>\n",
              "</div>"
            ],
            "text/plain": [
              "       IDADE  SEXO_F  SEXO_M  ADM_CORRENTE_DIAS  RECEB_MEDICAMENTOS  \\\n",
              "ID                                                                    \n",
              "5204     0.0       0       1                  3                   1   \n",
              "9588     0.0       1       0                  1                   0   \n",
              "12103    2.0       1       0                  1                   1   \n",
              "19961    0.0       0       1                 13                   0   \n",
              "21779    0.0       0       1                  2                   0   \n",
              "\n",
              "       FEZ_EXAMES  DEPEND_QUIMICO  FUMANTE  ALCOOLISMO  NUM_DIAS_INT_PREVIA  \\\n",
              "ID                                                                            \n",
              "5204            0               0        0           0                    0   \n",
              "9588            1               0        0           0                    0   \n",
              "12103           0               0        0           0                    1   \n",
              "19961           0               1        0           0                    0   \n",
              "21779           0               1        0           0                    0   \n",
              "\n",
              "       ADM_PREVIA_DIAS  NUM_DIAS_LIC_MEDICA  READMISSAO_30_DIAS  \n",
              "ID                                                               \n",
              "5204                 0                    0                   0  \n",
              "9588                 0                    0                   0  \n",
              "12103                3                    0                   0  \n",
              "19961                0                    0                   0  \n",
              "21779                0                    0                   0  "
            ]
          },
          "execution_count": 72,
          "metadata": {},
          "output_type": "execute_result"
        }
      ],
      "source": [
        "outliers_idade = dados[(dados['IDADE']> 110) | (dados['IDADE']<5)]\n",
        "outliers_idade.head()"
      ]
    },
    {
      "cell_type": "code",
      "execution_count": null,
      "id": "0f179acf",
      "metadata": {
        "id": "0f179acf",
        "outputId": "fdd38cb0-8625-4786-f776-8cb5b692ab4f"
      },
      "outputs": [
        {
          "data": {
            "image/png": "[encoded data removed]",
            "text/plain": [
              "<Figure size 1152x288 with 1 Axes>"
            ]
          },
          "metadata": {
            "needs_background": "light"
          },
          "output_type": "display_data"
        }
      ],
      "source": [
        "#Histograma antes da retirda\n",
        "dados.IDADE.hist();"
      ]
    },
    {
      "cell_type": "code",
      "execution_count": null,
      "id": "b0a11bad",
      "metadata": {
        "id": "b0a11bad"
      },
      "outputs": [],
      "source": [
        "dados = dados.drop(outliers_idade.index)"
      ]
    },
    {
      "cell_type": "code",
      "execution_count": null,
      "id": "6f9ee47e",
      "metadata": {
        "id": "6f9ee47e",
        "outputId": "0d9ea90d-9fb6-4b8e-f7bb-5e0cf0171175"
      },
      "outputs": [
        {
          "data": {
            "image/png": "[encoded data removed]",
            "text/plain": [
              "<Figure size 1152x288 with 1 Axes>"
            ]
          },
          "metadata": {
            "needs_background": "light"
          },
          "output_type": "display_data"
        }
      ],
      "source": [
        "#Histograma apos  retirada\n",
        "dados.IDADE.hist();"
      ]
    },
    {
      "cell_type": "code",
      "execution_count": null,
      "id": "e39656cd",
      "metadata": {
        "id": "e39656cd",
        "outputId": "cc6e45f2-da15-48b3-9ede-c696abadd1da"
      },
      "outputs": [
        {
          "data": {
            "image/png": "[encoded data removed]",
            "text/plain": [
              "<Figure size 1152x288 with 1 Axes>"
            ]
          },
          "metadata": {
            "needs_background": "light"
          },
          "output_type": "display_data"
        }
      ],
      "source": [
        "# Visualizando os outliers da variável ADM_CORRENTE_DIAS\n",
        "sns.boxplot(x = dados['ADM_CORRENTE_DIAS'])\n",
        "plt.show()"
      ]
    },
    {
      "cell_type": "code",
      "execution_count": null,
      "id": "7103ed6c",
      "metadata": {
        "id": "7103ed6c"
      },
      "outputs": [],
      "source": [
        "#Vamos remover outliers:\n",
        "\n",
        "dados = dados.drop(dados[(dados['ADM_CORRENTE_DIAS']>180)].index)"
      ]
    },
    {
      "cell_type": "code",
      "execution_count": null,
      "id": "462ade97",
      "metadata": {
        "id": "462ade97",
        "outputId": "dab74be1-8839-407c-b871-3b5971411c24"
      },
      "outputs": [
        {
          "data": {
            "image/png": "[encoded data removed]",
            "text/plain": [
              "<Figure size 1152x288 with 1 Axes>"
            ]
          },
          "metadata": {
            "needs_background": "light"
          },
          "output_type": "display_data"
        }
      ],
      "source": [
        "# Visualizando os outliers da variável ADM_CORRENTE_DIAS\n",
        "sns.boxplot(x = dados['ADM_CORRENTE_DIAS'])\n",
        "plt.show()"
      ]
    },
    {
      "cell_type": "code",
      "execution_count": null,
      "id": "c25f2fe1",
      "metadata": {
        "id": "c25f2fe1",
        "outputId": "a2dc5fec-e7d8-447c-bbbf-eacbd13750db"
      },
      "outputs": [
        {
          "data": {
            "image/png": "[encoded data removed]",
            "text/plain": [
              "<Figure size 1152x288 with 1 Axes>"
            ]
          },
          "metadata": {
            "needs_background": "light"
          },
          "output_type": "display_data"
        }
      ],
      "source": [
        "# Visualizando os outliers da variável NUM_DIAS_INT_PREVIA\n",
        "sns.boxplot(x = dados['NUM_DIAS_INT_PREVIA'])\n",
        "plt.show()"
      ]
    },
    {
      "cell_type": "code",
      "execution_count": null,
      "id": "eaa88ae1",
      "metadata": {
        "id": "eaa88ae1",
        "outputId": "4383eff2-f185-4c45-d04b-67ae5acd06ad"
      },
      "outputs": [
        {
          "data": {
            "text/plain": [
              "<AxesSubplot:xlabel='ADM_PREVIA_DIAS'>"
            ]
          },
          "execution_count": 80,
          "metadata": {},
          "output_type": "execute_result"
        },
        {
          "data": {
            "image/png": "[encoded data removed]",
            "text/plain": [
              "<Figure size 1152x288 with 1 Axes>"
            ]
          },
          "metadata": {
            "needs_background": "light"
          },
          "output_type": "display_data"
        }
      ],
      "source": [
        "# Visualizando os outliers da variável ADM_PREVIA_DIAS\n",
        "sns.boxplot(x = dados['ADM_PREVIA_DIAS'])"
      ]
    },
    {
      "cell_type": "code",
      "execution_count": null,
      "id": "c893bf8a",
      "metadata": {
        "id": "c893bf8a",
        "outputId": "e096bba5-ba10-4bb0-8a15-769818383c32"
      },
      "outputs": [
        {
          "data": {
            "text/plain": [
              "<AxesSubplot:xlabel='ADM_PREVIA_DIAS'>"
            ]
          },
          "execution_count": 81,
          "metadata": {},
          "output_type": "execute_result"
        },
        {
          "data": {
            "image/png": "[encoded data removed]",
            "text/plain": [
              "<Figure size 1152x288 with 1 Axes>"
            ]
          },
          "metadata": {
            "needs_background": "light"
          },
          "output_type": "display_data"
        }
      ],
      "source": [
        "\n",
        "dados = dados.drop(dados[(dados['ADM_PREVIA_DIAS']>400)].index)\n",
        "sns.boxplot(x = dados['ADM_PREVIA_DIAS'])"
      ]
    },
    {
      "cell_type": "code",
      "execution_count": null,
      "id": "18c6180d",
      "metadata": {
        "id": "18c6180d",
        "outputId": "c3669d9c-a201-4a19-d5a5-e63b15199a12"
      },
      "outputs": [
        {
          "data": {
            "image/png": "[encoded data removed]",
            "text/plain": [
              "<Figure size 1152x288 with 1 Axes>"
            ]
          },
          "metadata": {
            "needs_background": "light"
          },
          "output_type": "display_data"
        }
      ],
      "source": [
        "# Visualizando os outliers da variável NUM_DIAS_LIC_MEDICA\n",
        "sns.boxplot(x = dados['NUM_DIAS_LIC_MEDICA'])\n",
        "plt.show()"
      ]
    },
    {
      "cell_type": "code",
      "execution_count": null,
      "id": "40e170d6",
      "metadata": {
        "id": "40e170d6",
        "outputId": "d7349025-480f-4f94-e00a-b6dfb69233f2"
      },
      "outputs": [
        {
          "data": {
            "text/plain": [
              "<AxesSubplot:xlabel='NUM_DIAS_LIC_MEDICA'>"
            ]
          },
          "execution_count": 83,
          "metadata": {},
          "output_type": "execute_result"
        },
        {
          "data": {
            "image/png": "[encoded data removed]",
            "text/plain": [
              "<Figure size 1152x288 with 1 Axes>"
            ]
          },
          "metadata": {
            "needs_background": "light"
          },
          "output_type": "display_data"
        }
      ],
      "source": [
        "dados = dados.drop(dados[(dados['NUM_DIAS_LIC_MEDICA']>150)].index)\n",
        "sns.boxplot(x = dados['NUM_DIAS_LIC_MEDICA'])"
      ]
    },
    {
      "cell_type": "markdown",
      "id": "7744685f",
      "metadata": {
        "id": "7744685f"
      },
      "source": [
        "### Correlação e Associação"
      ]
    },
    {
      "cell_type": "code",
      "execution_count": null,
      "id": "a914347f",
      "metadata": {
        "id": "a914347f"
      },
      "outputs": [],
      "source": [
        "# Criando uma cópia do dataset original\n",
        "dados_teste = dados.copy()"
      ]
    },
    {
      "cell_type": "code",
      "execution_count": null,
      "id": "7d240401",
      "metadata": {
        "id": "7d240401",
        "outputId": "7898160d-f15b-47c4-e863-3b94bddfbd48"
      },
      "outputs": [
        {
          "data": {
            "text/html": [
              "<div>\n",
              "<style scoped>\n",
              "    .dataframe tbody tr th:only-of-type {\n",
              "        vertical-align: middle;\n",
              "    }\n",
              "\n",
              "    .dataframe tbody tr th {\n",
              "        vertical-align: top;\n",
              "    }\n",
              "\n",
              "    .dataframe thead th {\n",
              "        text-align: right;\n",
              "    }\n",
              "</style>\n",
              "<table border=\"1\" class=\"dataframe\">\n",
              "  <thead>\n",
              "    <tr style=\"text-align: right;\">\n",
              "      <th></th>\n",
              "      <th>IDADE</th>\n",
              "      <th>SEXO_F</th>\n",
              "      <th>SEXO_M</th>\n",
              "      <th>ADM_CORRENTE_DIAS</th>\n",
              "      <th>RECEB_MEDICAMENTOS</th>\n",
              "      <th>FEZ_EXAMES</th>\n",
              "      <th>DEPEND_QUIMICO</th>\n",
              "      <th>FUMANTE</th>\n",
              "      <th>ALCOOLISMO</th>\n",
              "      <th>NUM_DIAS_INT_PREVIA</th>\n",
              "      <th>ADM_PREVIA_DIAS</th>\n",
              "      <th>NUM_DIAS_LIC_MEDICA</th>\n",
              "      <th>READMISSAO_30_DIAS</th>\n",
              "    </tr>\n",
              "    <tr>\n",
              "      <th>ID</th>\n",
              "      <th></th>\n",
              "      <th></th>\n",
              "      <th></th>\n",
              "      <th></th>\n",
              "      <th></th>\n",
              "      <th></th>\n",
              "      <th></th>\n",
              "      <th></th>\n",
              "      <th></th>\n",
              "      <th></th>\n",
              "      <th></th>\n",
              "      <th></th>\n",
              "      <th></th>\n",
              "    </tr>\n",
              "  </thead>\n",
              "  <tbody>\n",
              "    <tr>\n",
              "      <th>0</th>\n",
              "      <td>62.0</td>\n",
              "      <td>1</td>\n",
              "      <td>0</td>\n",
              "      <td>1</td>\n",
              "      <td>0</td>\n",
              "      <td>1</td>\n",
              "      <td>0</td>\n",
              "      <td>0</td>\n",
              "      <td>0</td>\n",
              "      <td>0</td>\n",
              "      <td>0</td>\n",
              "      <td>0</td>\n",
              "      <td>1</td>\n",
              "    </tr>\n",
              "    <tr>\n",
              "      <th>1</th>\n",
              "      <td>24.0</td>\n",
              "      <td>0</td>\n",
              "      <td>1</td>\n",
              "      <td>2</td>\n",
              "      <td>0</td>\n",
              "      <td>0</td>\n",
              "      <td>1</td>\n",
              "      <td>0</td>\n",
              "      <td>0</td>\n",
              "      <td>0</td>\n",
              "      <td>0</td>\n",
              "      <td>0</td>\n",
              "      <td>0</td>\n",
              "    </tr>\n",
              "    <tr>\n",
              "      <th>2</th>\n",
              "      <td>77.0</td>\n",
              "      <td>0</td>\n",
              "      <td>1</td>\n",
              "      <td>2</td>\n",
              "      <td>0</td>\n",
              "      <td>0</td>\n",
              "      <td>1</td>\n",
              "      <td>0</td>\n",
              "      <td>0</td>\n",
              "      <td>2</td>\n",
              "      <td>2</td>\n",
              "      <td>0</td>\n",
              "      <td>0</td>\n",
              "    </tr>\n",
              "    <tr>\n",
              "      <th>3</th>\n",
              "      <td>68.0</td>\n",
              "      <td>0</td>\n",
              "      <td>1</td>\n",
              "      <td>7</td>\n",
              "      <td>0</td>\n",
              "      <td>0</td>\n",
              "      <td>1</td>\n",
              "      <td>0</td>\n",
              "      <td>0</td>\n",
              "      <td>2</td>\n",
              "      <td>2</td>\n",
              "      <td>0</td>\n",
              "      <td>0</td>\n",
              "    </tr>\n",
              "    <tr>\n",
              "      <th>4</th>\n",
              "      <td>83.0</td>\n",
              "      <td>0</td>\n",
              "      <td>1</td>\n",
              "      <td>2</td>\n",
              "      <td>0</td>\n",
              "      <td>0</td>\n",
              "      <td>1</td>\n",
              "      <td>0</td>\n",
              "      <td>0</td>\n",
              "      <td>1</td>\n",
              "      <td>1</td>\n",
              "      <td>0</td>\n",
              "      <td>0</td>\n",
              "    </tr>\n",
              "  </tbody>\n",
              "</table>\n",
              "</div>"
            ],
            "text/plain": [
              "    IDADE  SEXO_F  SEXO_M  ADM_CORRENTE_DIAS  RECEB_MEDICAMENTOS  FEZ_EXAMES  \\\n",
              "ID                                                                             \n",
              "0    62.0       1       0                  1                   0           1   \n",
              "1    24.0       0       1                  2                   0           0   \n",
              "2    77.0       0       1                  2                   0           0   \n",
              "3    68.0       0       1                  7                   0           0   \n",
              "4    83.0       0       1                  2                   0           0   \n",
              "\n",
              "    DEPEND_QUIMICO  FUMANTE  ALCOOLISMO  NUM_DIAS_INT_PREVIA  ADM_PREVIA_DIAS  \\\n",
              "ID                                                                              \n",
              "0                0        0           0                    0                0   \n",
              "1                1        0           0                    0                0   \n",
              "2                1        0           0                    2                2   \n",
              "3                1        0           0                    2                2   \n",
              "4                1        0           0                    1                1   \n",
              "\n",
              "    NUM_DIAS_LIC_MEDICA  READMISSAO_30_DIAS  \n",
              "ID                                           \n",
              "0                     0                   1  \n",
              "1                     0                   0  \n",
              "2                     0                   0  \n",
              "3                     0                   0  \n",
              "4                     0                   0  "
            ]
          },
          "execution_count": 85,
          "metadata": {},
          "output_type": "execute_result"
        }
      ],
      "source": [
        "dados_teste.head()"
      ]
    },
    {
      "cell_type": "code",
      "execution_count": null,
      "id": "cde20fb1",
      "metadata": {
        "id": "cde20fb1",
        "outputId": "5a4899fe-3b5a-4a2c-f914-d0a92d6ad587"
      },
      "outputs": [
        {
          "data": {
            "text/plain": [
              "IDADE                  float64\n",
              "SEXO_F                   int64\n",
              "SEXO_M                   int64\n",
              "ADM_CORRENTE_DIAS        int64\n",
              "RECEB_MEDICAMENTOS       int64\n",
              "FEZ_EXAMES               int64\n",
              "DEPEND_QUIMICO           int64\n",
              "FUMANTE                  int64\n",
              "ALCOOLISMO               int64\n",
              "NUM_DIAS_INT_PREVIA      int64\n",
              "ADM_PREVIA_DIAS          int64\n",
              "NUM_DIAS_LIC_MEDICA      int64\n",
              "READMISSAO_30_DIAS       int64\n",
              "dtype: object"
            ]
          },
          "execution_count": 86,
          "metadata": {},
          "output_type": "execute_result"
        }
      ],
      "source": [
        "dados_teste.dtypes"
      ]
    },
    {
      "cell_type": "code",
      "execution_count": null,
      "id": "dfe18156",
      "metadata": {
        "id": "dfe18156"
      },
      "outputs": [],
      "source": [
        "# Convertendo as variáveis categóricas para o tipo categórico em Python\n",
        "# Como queremos apenas avaliar a associação com a variável resposta estamos trabalhando com uma cópia do dataset original.\n",
        "dados_teste['SEXO_F'] = dados_teste['SEXO_F'].astype('category')\n",
        "dados_teste['SEXO_M'] = dados_teste['SEXO_M'].astype('category')\n",
        "dados_teste['RECEB_MEDICAMENTOS'] = dados_teste['RECEB_MEDICAMENTOS'].astype('category')\n",
        "dados_teste['FEZ_EXAMES'] = dados_teste['FEZ_EXAMES'].astype('category')\n",
        "dados_teste['DEPEND_QUIMICO'] = dados_teste['DEPEND_QUIMICO'].astype('category')\n",
        "dados_teste['FUMANTE'] = dados_teste['FUMANTE'].astype('category')\n",
        "dados_teste['ALCOOLISMO'] = dados_teste['ALCOOLISMO'].astype('category')\n",
        "dados_teste['READMISSAO_30_DIAS'] = dados_teste['READMISSAO_30_DIAS'].astype('category')"
      ]
    },
    {
      "cell_type": "code",
      "execution_count": null,
      "id": "5116441a",
      "metadata": {
        "id": "5116441a",
        "outputId": "186e42ce-f259-4968-af44-0736e373b778"
      },
      "outputs": [
        {
          "data": {
            "text/plain": [
              "IDADE                   float64\n",
              "SEXO_F                 category\n",
              "SEXO_M                 category\n",
              "ADM_CORRENTE_DIAS         int64\n",
              "RECEB_MEDICAMENTOS     category\n",
              "FEZ_EXAMES             category\n",
              "DEPEND_QUIMICO         category\n",
              "FUMANTE                category\n",
              "ALCOOLISMO             category\n",
              "NUM_DIAS_INT_PREVIA       int64\n",
              "ADM_PREVIA_DIAS           int64\n",
              "NUM_DIAS_LIC_MEDICA       int64\n",
              "READMISSAO_30_DIAS     category\n",
              "dtype: object"
            ]
          },
          "execution_count": 88,
          "metadata": {},
          "output_type": "execute_result"
        }
      ],
      "source": [
        "dados_teste.dtypes"
      ]
    },
    {
      "cell_type": "code",
      "execution_count": null,
      "id": "d6e0b7cb",
      "metadata": {
        "id": "d6e0b7cb",
        "outputId": "e406e1fa-b05e-44b2-ea81-21f85130da1c"
      },
      "outputs": [
        {
          "data": {
            "image/png": "[encoded data removed]",
            "text/plain": [
              "<Figure size 1152x288 with 2 Axes>"
            ]
          },
          "metadata": {
            "needs_background": "light"
          },
          "output_type": "display_data"
        }
      ],
      "source": [
        "# Coeficiente de correlação é calculado para variáveis numéricas\n",
        "dados_teste_corr = dados_teste.corr()\n",
        "sns.heatmap(dados_teste_corr)\n",
        "plt.show()"
      ]
    },
    {
      "cell_type": "markdown",
      "id": "7bdae583",
      "metadata": {
        "id": "7bdae583"
      },
      "source": [
        "Parace que a variavei Idade por exemplo nao tem correlação comas outras variaveis"
      ]
    },
    {
      "cell_type": "code",
      "execution_count": null,
      "id": "2b6169df",
      "metadata": {
        "id": "2b6169df"
      },
      "outputs": [],
      "source": [
        "# Função para calcular a associação entre variáveis categóricas\n",
        "\n",
        "# Pacote stats do Scipy\n",
        "import scipy.stats as ss\n",
        "\n",
        "# https://docs.scipy.org/doc/scipy/reference/generated/scipy.stats.chi2_contingency.html\n",
        "\n",
        "# Em Estatística, Cramér-V é uma medida de associação entre duas variáveis categóricas, fornecendo um valor\n",
        "# entre 0 e +1 (inclusive). É baseado na estatística do qui-quadrado (chi2) de Pearson e foi publicado\n",
        "# por Harald Cramér em 1946.\n",
        "\n",
        "# A Associação é um resultado no intervalo de [0,1], em que 0 significa nenhuma associação e 1 é associação completa.\n",
        "\n",
        "# Função\n",
        "def cramers_v(x, y):\n",
        "    confusion_matrix = pd.crosstab(x, y)\n",
        "\n",
        "    # Teste qui-quadrado de independência de variáveis em uma tabela de contingência.\n",
        "    chi2 = ss.chi2_contingency(confusion_matrix)[0]\n",
        "    n = confusion_matrix.sum().sum()\n",
        "    phi2 = chi2/n\n",
        "    r,k = confusion_matrix.shape\n",
        "    phi2corr = max(0, phi2-((k-1)*(r-1))/(n-1))\n",
        "    rcorr = r-((r-1)**2)/(n-1)\n",
        "    kcorr = k-((k-1)**2)/(n-1)\n",
        "    return np.sqrt(phi2corr/min((kcorr-1),(rcorr-1)))"
      ]
    },
    {
      "cell_type": "code",
      "execution_count": null,
      "id": "2426590e",
      "metadata": {
        "id": "2426590e"
      },
      "outputs": [],
      "source": [
        "# Coleta as variáveis categóricas do dataset\n",
        "from pandas.api.types import is_categorical_dtype\n",
        "from pandas.api.types import is_numeric_dtype\n",
        "\n",
        "categorical_vars = []\n",
        "\n",
        "for column in dados_teste:\n",
        "    if is_categorical_dtype(dados_teste[column]):\n",
        "        categorical_vars.append(column)"
      ]
    },
    {
      "cell_type": "code",
      "execution_count": null,
      "id": "a46d2957",
      "metadata": {
        "id": "a46d2957",
        "outputId": "c633dd0d-40d7-47ca-b349-7a20fed1c8fc"
      },
      "outputs": [
        {
          "data": {
            "text/plain": [
              "['SEXO_F',\n",
              " 'SEXO_M',\n",
              " 'RECEB_MEDICAMENTOS',\n",
              " 'FEZ_EXAMES',\n",
              " 'DEPEND_QUIMICO',\n",
              " 'FUMANTE',\n",
              " 'ALCOOLISMO',\n",
              " 'READMISSAO_30_DIAS']"
            ]
          },
          "execution_count": 92,
          "metadata": {},
          "output_type": "execute_result"
        }
      ],
      "source": [
        "categorical_vars"
      ]
    },
    {
      "cell_type": "code",
      "execution_count": null,
      "id": "a381ef12",
      "metadata": {
        "id": "a381ef12",
        "outputId": "15b2776e-e92f-4057-a1e6-b06e3df6b367"
      },
      "outputs": [
        {
          "name": "stdout",
          "output_type": "stream",
          "text": [
            "\n",
            "A Associação é um resultado no intervalo de [0,1], em que 0 significa nenhuma associação e 1 é associação completa.\n",
            "\n",
            "\n",
            "Associação da Variável SEXO_F com a variável resposta: 0.08140312484489556\n",
            "Associação da Variável SEXO_M com a variável resposta: 0.08140312484489556\n",
            "Associação da Variável RECEB_MEDICAMENTOS com a variável resposta: 0.14274972262281213\n",
            "Associação da Variável FEZ_EXAMES com a variável resposta: 0.3512134549958696\n",
            "Associação da Variável DEPEND_QUIMICO com a variável resposta: 0.21078933128660998\n",
            "Associação da Variável FUMANTE com a variável resposta: 0.08791877346862986\n",
            "Associação da Variável ALCOOLISMO com a variável resposta: 0.0151160465712889\n",
            "Associação da Variável READMISSAO_30_DIAS com a variável resposta: 0.9999721770541886\n"
          ]
        }
      ],
      "source": [
        "y = 'READMISSAO_30_DIAS'\n",
        "\n",
        "print('\\nA Associação é um resultado no intervalo de [0,1], em que 0 significa nenhuma associação e 1 é associação completa.')\n",
        "print('\\n')\n",
        "\n",
        "for var in categorical_vars:\n",
        "    print('Associação da Variável ' + var + ' com a variável resposta:',\n",
        "          cramers_v(dados_teste[var], dados_teste[y]))"
      ]
    },
    {
      "cell_type": "markdown",
      "id": "85fa1053",
      "metadata": {
        "id": "85fa1053"
      },
      "source": [
        "### Pré-Processamento"
      ]
    },
    {
      "cell_type": "code",
      "execution_count": null,
      "id": "76ea4e19",
      "metadata": {
        "id": "76ea4e19",
        "outputId": "6fdf9713-b2bb-4414-c189-19fd2eda683e"
      },
      "outputs": [
        {
          "data": {
            "text/html": [
              "<div>\n",
              "<style scoped>\n",
              "    .dataframe tbody tr th:only-of-type {\n",
              "        vertical-align: middle;\n",
              "    }\n",
              "\n",
              "    .dataframe tbody tr th {\n",
              "        vertical-align: top;\n",
              "    }\n",
              "\n",
              "    .dataframe thead th {\n",
              "        text-align: right;\n",
              "    }\n",
              "</style>\n",
              "<table border=\"1\" class=\"dataframe\">\n",
              "  <thead>\n",
              "    <tr style=\"text-align: right;\">\n",
              "      <th></th>\n",
              "      <th>IDADE</th>\n",
              "      <th>SEXO_F</th>\n",
              "      <th>SEXO_M</th>\n",
              "      <th>ADM_CORRENTE_DIAS</th>\n",
              "      <th>RECEB_MEDICAMENTOS</th>\n",
              "      <th>FEZ_EXAMES</th>\n",
              "      <th>DEPEND_QUIMICO</th>\n",
              "      <th>FUMANTE</th>\n",
              "      <th>ALCOOLISMO</th>\n",
              "      <th>NUM_DIAS_INT_PREVIA</th>\n",
              "      <th>ADM_PREVIA_DIAS</th>\n",
              "      <th>NUM_DIAS_LIC_MEDICA</th>\n",
              "      <th>READMISSAO_30_DIAS</th>\n",
              "    </tr>\n",
              "    <tr>\n",
              "      <th>ID</th>\n",
              "      <th></th>\n",
              "      <th></th>\n",
              "      <th></th>\n",
              "      <th></th>\n",
              "      <th></th>\n",
              "      <th></th>\n",
              "      <th></th>\n",
              "      <th></th>\n",
              "      <th></th>\n",
              "      <th></th>\n",
              "      <th></th>\n",
              "      <th></th>\n",
              "      <th></th>\n",
              "    </tr>\n",
              "  </thead>\n",
              "  <tbody>\n",
              "    <tr>\n",
              "      <th>0</th>\n",
              "      <td>62.0</td>\n",
              "      <td>1</td>\n",
              "      <td>0</td>\n",
              "      <td>1</td>\n",
              "      <td>0</td>\n",
              "      <td>1</td>\n",
              "      <td>0</td>\n",
              "      <td>0</td>\n",
              "      <td>0</td>\n",
              "      <td>0</td>\n",
              "      <td>0</td>\n",
              "      <td>0</td>\n",
              "      <td>1</td>\n",
              "    </tr>\n",
              "    <tr>\n",
              "      <th>1</th>\n",
              "      <td>24.0</td>\n",
              "      <td>0</td>\n",
              "      <td>1</td>\n",
              "      <td>2</td>\n",
              "      <td>0</td>\n",
              "      <td>0</td>\n",
              "      <td>1</td>\n",
              "      <td>0</td>\n",
              "      <td>0</td>\n",
              "      <td>0</td>\n",
              "      <td>0</td>\n",
              "      <td>0</td>\n",
              "      <td>0</td>\n",
              "    </tr>\n",
              "    <tr>\n",
              "      <th>2</th>\n",
              "      <td>77.0</td>\n",
              "      <td>0</td>\n",
              "      <td>1</td>\n",
              "      <td>2</td>\n",
              "      <td>0</td>\n",
              "      <td>0</td>\n",
              "      <td>1</td>\n",
              "      <td>0</td>\n",
              "      <td>0</td>\n",
              "      <td>2</td>\n",
              "      <td>2</td>\n",
              "      <td>0</td>\n",
              "      <td>0</td>\n",
              "    </tr>\n",
              "    <tr>\n",
              "      <th>3</th>\n",
              "      <td>68.0</td>\n",
              "      <td>0</td>\n",
              "      <td>1</td>\n",
              "      <td>7</td>\n",
              "      <td>0</td>\n",
              "      <td>0</td>\n",
              "      <td>1</td>\n",
              "      <td>0</td>\n",
              "      <td>0</td>\n",
              "      <td>2</td>\n",
              "      <td>2</td>\n",
              "      <td>0</td>\n",
              "      <td>0</td>\n",
              "    </tr>\n",
              "    <tr>\n",
              "      <th>4</th>\n",
              "      <td>83.0</td>\n",
              "      <td>0</td>\n",
              "      <td>1</td>\n",
              "      <td>2</td>\n",
              "      <td>0</td>\n",
              "      <td>0</td>\n",
              "      <td>1</td>\n",
              "      <td>0</td>\n",
              "      <td>0</td>\n",
              "      <td>1</td>\n",
              "      <td>1</td>\n",
              "      <td>0</td>\n",
              "      <td>0</td>\n",
              "    </tr>\n",
              "  </tbody>\n",
              "</table>\n",
              "</div>"
            ],
            "text/plain": [
              "    IDADE  SEXO_F  SEXO_M  ADM_CORRENTE_DIAS  RECEB_MEDICAMENTOS  FEZ_EXAMES  \\\n",
              "ID                                                                             \n",
              "0    62.0       1       0                  1                   0           1   \n",
              "1    24.0       0       1                  2                   0           0   \n",
              "2    77.0       0       1                  2                   0           0   \n",
              "3    68.0       0       1                  7                   0           0   \n",
              "4    83.0       0       1                  2                   0           0   \n",
              "\n",
              "    DEPEND_QUIMICO  FUMANTE  ALCOOLISMO  NUM_DIAS_INT_PREVIA  ADM_PREVIA_DIAS  \\\n",
              "ID                                                                              \n",
              "0                0        0           0                    0                0   \n",
              "1                1        0           0                    0                0   \n",
              "2                1        0           0                    2                2   \n",
              "3                1        0           0                    2                2   \n",
              "4                1        0           0                    1                1   \n",
              "\n",
              "    NUM_DIAS_LIC_MEDICA  READMISSAO_30_DIAS  \n",
              "ID                                           \n",
              "0                     0                   1  \n",
              "1                     0                   0  \n",
              "2                     0                   0  \n",
              "3                     0                   0  \n",
              "4                     0                   0  "
            ]
          },
          "execution_count": 94,
          "metadata": {},
          "output_type": "execute_result"
        }
      ],
      "source": [
        "dados.head()"
      ]
    },
    {
      "cell_type": "markdown",
      "id": "4594ac5a",
      "metadata": {
        "id": "4594ac5a"
      },
      "source": [
        "Vamos verificar se a variavel resposta esta desbalanceada"
      ]
    },
    {
      "cell_type": "code",
      "execution_count": null,
      "id": "1dc2a03a",
      "metadata": {
        "id": "1dc2a03a",
        "outputId": "2d901107-10b0-436f-8b72-3122e12f91c1"
      },
      "outputs": [
        {
          "data": {
            "text/plain": [
              "0    94827\n",
              "1    22173\n",
              "Name: READMISSAO_30_DIAS, dtype: int64"
            ]
          },
          "execution_count": 95,
          "metadata": {},
          "output_type": "execute_result"
        }
      ],
      "source": [
        "# Verificando se a variável resposta está balanceada\n",
        "target_count = dados.READMISSAO_30_DIAS.value_counts()\n",
        "target_count"
      ]
    },
    {
      "cell_type": "markdown",
      "id": "3e703b66",
      "metadata": {
        "id": "3e703b66"
      },
      "source": [
        "Pelo que vimos acima sim!! há muito mais valores para a não readmissão"
      ]
    },
    {
      "cell_type": "markdown",
      "id": "afd18092",
      "metadata": {
        "id": "afd18092"
      },
      "source": [
        "Podemos verificar isso visualmente:"
      ]
    },
    {
      "cell_type": "code",
      "execution_count": null,
      "id": "12b9d1d9",
      "metadata": {
        "id": "12b9d1d9",
        "outputId": "1577ed72-efff-4ce8-e709-30a6369919ca"
      },
      "outputs": [
        {
          "data": {
            "image/png": "[encoded data removed]",
            "text/plain": [
              "<Figure size 1152x288 with 1 Axes>"
            ]
          },
          "metadata": {
            "needs_background": "light"
          },
          "output_type": "display_data"
        }
      ],
      "source": [
        "sns.countplot(dados.READMISSAO_30_DIAS, palette ='OrRd')\n",
        "plt.box(False)\n",
        "plt.xlabel('Readmissão em 30 Dias Não (0) / Sim (1)', fontsize = 11)\n",
        "plt.ylabel('Total Pacientes', fontsize = 11)\n",
        "plt.title('Contagem de Classes\\n')\n",
        "plt.show()"
      ]
    },
    {
      "cell_type": "markdown",
      "id": "ae4a2d29",
      "metadata": {
        "id": "ae4a2d29"
      },
      "source": [
        "O modelo não pode ser treinado com a clsse desbalanceada, pois senão ele vai fazer previsões majoritariamente da classe\n",
        "que possue maior quantidade de valor que é a não readmissão(0), porém estamos iteressados na readmissão, porisso precisamos balancear os dados"
      ]
    },
    {
      "cell_type": "code",
      "execution_count": null,
      "id": "616b6ecf",
      "metadata": {
        "id": "616b6ecf",
        "outputId": "d236dd8e-d034-41d4-e0b1-746a3b2c5c7e"
      },
      "outputs": [
        {
          "data": {
            "text/html": [
              "<div>\n",
              "<style scoped>\n",
              "    .dataframe tbody tr th:only-of-type {\n",
              "        vertical-align: middle;\n",
              "    }\n",
              "\n",
              "    .dataframe tbody tr th {\n",
              "        vertical-align: top;\n",
              "    }\n",
              "\n",
              "    .dataframe thead th {\n",
              "        text-align: right;\n",
              "    }\n",
              "</style>\n",
              "<table border=\"1\" class=\"dataframe\">\n",
              "  <thead>\n",
              "    <tr style=\"text-align: right;\">\n",
              "      <th></th>\n",
              "      <th>IDADE</th>\n",
              "      <th>SEXO_F</th>\n",
              "      <th>SEXO_M</th>\n",
              "      <th>ADM_CORRENTE_DIAS</th>\n",
              "      <th>RECEB_MEDICAMENTOS</th>\n",
              "      <th>FEZ_EXAMES</th>\n",
              "      <th>DEPEND_QUIMICO</th>\n",
              "      <th>FUMANTE</th>\n",
              "      <th>ALCOOLISMO</th>\n",
              "      <th>NUM_DIAS_INT_PREVIA</th>\n",
              "      <th>ADM_PREVIA_DIAS</th>\n",
              "      <th>NUM_DIAS_LIC_MEDICA</th>\n",
              "    </tr>\n",
              "    <tr>\n",
              "      <th>ID</th>\n",
              "      <th></th>\n",
              "      <th></th>\n",
              "      <th></th>\n",
              "      <th></th>\n",
              "      <th></th>\n",
              "      <th></th>\n",
              "      <th></th>\n",
              "      <th></th>\n",
              "      <th></th>\n",
              "      <th></th>\n",
              "      <th></th>\n",
              "      <th></th>\n",
              "    </tr>\n",
              "  </thead>\n",
              "  <tbody>\n",
              "    <tr>\n",
              "      <th>0</th>\n",
              "      <td>62.0</td>\n",
              "      <td>1</td>\n",
              "      <td>0</td>\n",
              "      <td>1</td>\n",
              "      <td>0</td>\n",
              "      <td>1</td>\n",
              "      <td>0</td>\n",
              "      <td>0</td>\n",
              "      <td>0</td>\n",
              "      <td>0</td>\n",
              "      <td>0</td>\n",
              "      <td>0</td>\n",
              "    </tr>\n",
              "    <tr>\n",
              "      <th>1</th>\n",
              "      <td>24.0</td>\n",
              "      <td>0</td>\n",
              "      <td>1</td>\n",
              "      <td>2</td>\n",
              "      <td>0</td>\n",
              "      <td>0</td>\n",
              "      <td>1</td>\n",
              "      <td>0</td>\n",
              "      <td>0</td>\n",
              "      <td>0</td>\n",
              "      <td>0</td>\n",
              "      <td>0</td>\n",
              "    </tr>\n",
              "    <tr>\n",
              "      <th>2</th>\n",
              "      <td>77.0</td>\n",
              "      <td>0</td>\n",
              "      <td>1</td>\n",
              "      <td>2</td>\n",
              "      <td>0</td>\n",
              "      <td>0</td>\n",
              "      <td>1</td>\n",
              "      <td>0</td>\n",
              "      <td>0</td>\n",
              "      <td>2</td>\n",
              "      <td>2</td>\n",
              "      <td>0</td>\n",
              "    </tr>\n",
              "    <tr>\n",
              "      <th>3</th>\n",
              "      <td>68.0</td>\n",
              "      <td>0</td>\n",
              "      <td>1</td>\n",
              "      <td>7</td>\n",
              "      <td>0</td>\n",
              "      <td>0</td>\n",
              "      <td>1</td>\n",
              "      <td>0</td>\n",
              "      <td>0</td>\n",
              "      <td>2</td>\n",
              "      <td>2</td>\n",
              "      <td>0</td>\n",
              "    </tr>\n",
              "    <tr>\n",
              "      <th>4</th>\n",
              "      <td>83.0</td>\n",
              "      <td>0</td>\n",
              "      <td>1</td>\n",
              "      <td>2</td>\n",
              "      <td>0</td>\n",
              "      <td>0</td>\n",
              "      <td>1</td>\n",
              "      <td>0</td>\n",
              "      <td>0</td>\n",
              "      <td>1</td>\n",
              "      <td>1</td>\n",
              "      <td>0</td>\n",
              "    </tr>\n",
              "    <tr>\n",
              "      <th>...</th>\n",
              "      <td>...</td>\n",
              "      <td>...</td>\n",
              "      <td>...</td>\n",
              "      <td>...</td>\n",
              "      <td>...</td>\n",
              "      <td>...</td>\n",
              "      <td>...</td>\n",
              "      <td>...</td>\n",
              "      <td>...</td>\n",
              "      <td>...</td>\n",
              "      <td>...</td>\n",
              "      <td>...</td>\n",
              "    </tr>\n",
              "    <tr>\n",
              "      <th>129995</th>\n",
              "      <td>79.0</td>\n",
              "      <td>0</td>\n",
              "      <td>1</td>\n",
              "      <td>1</td>\n",
              "      <td>1</td>\n",
              "      <td>0</td>\n",
              "      <td>0</td>\n",
              "      <td>0</td>\n",
              "      <td>0</td>\n",
              "      <td>1</td>\n",
              "      <td>1</td>\n",
              "      <td>0</td>\n",
              "    </tr>\n",
              "    <tr>\n",
              "      <th>129996</th>\n",
              "      <td>61.0</td>\n",
              "      <td>0</td>\n",
              "      <td>1</td>\n",
              "      <td>1</td>\n",
              "      <td>0</td>\n",
              "      <td>1</td>\n",
              "      <td>0</td>\n",
              "      <td>0</td>\n",
              "      <td>0</td>\n",
              "      <td>1</td>\n",
              "      <td>9</td>\n",
              "      <td>0</td>\n",
              "    </tr>\n",
              "    <tr>\n",
              "      <th>129997</th>\n",
              "      <td>52.0</td>\n",
              "      <td>0</td>\n",
              "      <td>1</td>\n",
              "      <td>4</td>\n",
              "      <td>1</td>\n",
              "      <td>0</td>\n",
              "      <td>0</td>\n",
              "      <td>0</td>\n",
              "      <td>0</td>\n",
              "      <td>0</td>\n",
              "      <td>0</td>\n",
              "      <td>0</td>\n",
              "    </tr>\n",
              "    <tr>\n",
              "      <th>129998</th>\n",
              "      <td>70.0</td>\n",
              "      <td>1</td>\n",
              "      <td>0</td>\n",
              "      <td>1</td>\n",
              "      <td>0</td>\n",
              "      <td>0</td>\n",
              "      <td>1</td>\n",
              "      <td>0</td>\n",
              "      <td>0</td>\n",
              "      <td>2</td>\n",
              "      <td>2</td>\n",
              "      <td>0</td>\n",
              "    </tr>\n",
              "    <tr>\n",
              "      <th>129999</th>\n",
              "      <td>77.0</td>\n",
              "      <td>0</td>\n",
              "      <td>1</td>\n",
              "      <td>4</td>\n",
              "      <td>0</td>\n",
              "      <td>0</td>\n",
              "      <td>1</td>\n",
              "      <td>0</td>\n",
              "      <td>0</td>\n",
              "      <td>0</td>\n",
              "      <td>0</td>\n",
              "      <td>0</td>\n",
              "    </tr>\n",
              "  </tbody>\n",
              "</table>\n",
              "<p>117000 rows × 12 columns</p>\n",
              "</div>"
            ],
            "text/plain": [
              "        IDADE  SEXO_F  SEXO_M  ADM_CORRENTE_DIAS  RECEB_MEDICAMENTOS  \\\n",
              "ID                                                                     \n",
              "0        62.0       1       0                  1                   0   \n",
              "1        24.0       0       1                  2                   0   \n",
              "2        77.0       0       1                  2                   0   \n",
              "3        68.0       0       1                  7                   0   \n",
              "4        83.0       0       1                  2                   0   \n",
              "...       ...     ...     ...                ...                 ...   \n",
              "129995   79.0       0       1                  1                   1   \n",
              "129996   61.0       0       1                  1                   0   \n",
              "129997   52.0       0       1                  4                   1   \n",
              "129998   70.0       1       0                  1                   0   \n",
              "129999   77.0       0       1                  4                   0   \n",
              "\n",
              "        FEZ_EXAMES  DEPEND_QUIMICO  FUMANTE  ALCOOLISMO  NUM_DIAS_INT_PREVIA  \\\n",
              "ID                                                                             \n",
              "0                1               0        0           0                    0   \n",
              "1                0               1        0           0                    0   \n",
              "2                0               1        0           0                    2   \n",
              "3                0               1        0           0                    2   \n",
              "4                0               1        0           0                    1   \n",
              "...            ...             ...      ...         ...                  ...   \n",
              "129995           0               0        0           0                    1   \n",
              "129996           1               0        0           0                    1   \n",
              "129997           0               0        0           0                    0   \n",
              "129998           0               1        0           0                    2   \n",
              "129999           0               1        0           0                    0   \n",
              "\n",
              "        ADM_PREVIA_DIAS  NUM_DIAS_LIC_MEDICA  \n",
              "ID                                            \n",
              "0                     0                    0  \n",
              "1                     0                    0  \n",
              "2                     2                    0  \n",
              "3                     2                    0  \n",
              "4                     1                    0  \n",
              "...                 ...                  ...  \n",
              "129995                1                    0  \n",
              "129996                9                    0  \n",
              "129997                0                    0  \n",
              "129998                2                    0  \n",
              "129999                0                    0  \n",
              "\n",
              "[117000 rows x 12 columns]"
            ]
          },
          "execution_count": 97,
          "metadata": {},
          "output_type": "execute_result"
        }
      ],
      "source": [
        "# Variáveis Explicativas\n",
        "dados.iloc[:, 0:12]"
      ]
    },
    {
      "cell_type": "code",
      "execution_count": null,
      "id": "b8ecf3a5",
      "metadata": {
        "id": "b8ecf3a5",
        "outputId": "718a4709-fd5f-4276-957b-71ddbf885a4f"
      },
      "outputs": [
        {
          "data": {
            "text/plain": [
              "ID\n",
              "0         1\n",
              "1         0\n",
              "2         0\n",
              "3         0\n",
              "4         0\n",
              "         ..\n",
              "129995    0\n",
              "129996    1\n",
              "129997    0\n",
              "129998    0\n",
              "129999    0\n",
              "Name: READMISSAO_30_DIAS, Length: 117000, dtype: int64"
            ]
          },
          "execution_count": 98,
          "metadata": {},
          "output_type": "execute_result"
        }
      ],
      "source": [
        "dados.iloc[:,-1]"
      ]
    },
    {
      "cell_type": "code",
      "execution_count": null,
      "id": "abb9613b",
      "metadata": {
        "id": "abb9613b"
      },
      "outputs": [],
      "source": [
        "# Importa a função\n",
        "# Se necessário, instale o pacote:\n",
        "# pip install imblearn\n",
        "from imblearn.over_sampling import SMOTE\n",
        "\n",
        "# Seed para reproduzir o mesmo resultado\n",
        "seed = 100\n",
        "\n",
        "# Separa X e y\n",
        "X = dados.iloc[:, 0:12]\n",
        "y = dados.iloc[:, -1]\n",
        "\n",
        "# Cria o balanceador SMOTE\n",
        "smote_bal = SMOTE(random_state = seed)\n",
        "\n",
        "# Aplica o balanceador\n",
        "X_res, y_res = smote_bal.fit_resample(X, y)"
      ]
    },
    {
      "cell_type": "code",
      "execution_count": null,
      "id": "676df6cb",
      "metadata": {
        "id": "676df6cb",
        "outputId": "bab1e474-3b05-4067-bbc7-eaddfb337206"
      },
      "outputs": [
        {
          "data": {
            "image/png": "[encoded data removed]",
            "text/plain": [
              "<Figure size 1152x288 with 1 Axes>"
            ]
          },
          "metadata": {
            "needs_background": "light"
          },
          "output_type": "display_data"
        }
      ],
      "source": [
        "# Plot\n",
        "sns.countplot(y_res, palette = \"OrRd\")\n",
        "plt.box(False)\n",
        "plt.xlabel('Readmissão em 30 Dias Não (0) / Sim (1)', fontsize = 11)\n",
        "plt.ylabel('Total Pacientes', fontsize = 11)\n",
        "plt.title('Contagem de Classes\\n')\n",
        "plt.show()"
      ]
    },
    {
      "cell_type": "code",
      "execution_count": null,
      "id": "2ab54472",
      "metadata": {
        "id": "2ab54472"
      },
      "outputs": [],
      "source": [
        "X = X_res\n",
        "Y = y_res"
      ]
    },
    {
      "cell_type": "code",
      "execution_count": null,
      "id": "49393beb",
      "metadata": {
        "id": "49393beb",
        "outputId": "e6966ef7-f564-4b57-8ad5-43d21427d0c1"
      },
      "outputs": [
        {
          "data": {
            "text/plain": [
              "(189654, 12)"
            ]
          },
          "execution_count": 102,
          "metadata": {},
          "output_type": "execute_result"
        }
      ],
      "source": [
        "X.shape"
      ]
    },
    {
      "cell_type": "code",
      "execution_count": null,
      "id": "2e8dc471",
      "metadata": {
        "id": "2e8dc471",
        "outputId": "7579acf5-818e-49ec-98c1-7f6d5ef74612"
      },
      "outputs": [
        {
          "data": {
            "text/plain": [
              "(189654,)"
            ]
          },
          "execution_count": 103,
          "metadata": {},
          "output_type": "execute_result"
        }
      ],
      "source": [
        "Y.shape"
      ]
    },
    {
      "cell_type": "code",
      "execution_count": null,
      "id": "a6d4f223",
      "metadata": {
        "id": "a6d4f223"
      },
      "outputs": [],
      "source": [
        "# Divisão dos dados em treino e teste\n",
        "from sklearn.model_selection import train_test_split\n",
        "\n",
        "test_size = 0.1\n",
        "X_treino, X_teste, Y_treino, Y_teste = train_test_split(X, Y, test_size = test_size, random_state = 7)"
      ]
    },
    {
      "cell_type": "markdown",
      "id": "585838fc",
      "metadata": {
        "id": "585838fc"
      },
      "source": [
        "## Construção dos Modelos Preditivos"
      ]
    },
    {
      "cell_type": "code",
      "execution_count": null,
      "id": "c6ea5188",
      "metadata": {
        "id": "c6ea5188"
      },
      "outputs": [],
      "source": [
        "# Imports\n",
        "import keras\n",
        "import tensorflow\n",
        "import sklearn\n",
        "import scikitplot as skplt\n",
        "import matplotlib.pyplot as plt\n",
        "from sklearn.linear_model import LogisticRegression\n",
        "from sklearn.ensemble import RandomForestClassifier\n",
        "from sklearn.naive_bayes import GaussianNB, BernoulliNB, MultinomialNB\n",
        "from sklearn.neighbors import KNeighborsClassifier\n",
        "from keras.models import Sequential\n",
        "from keras.layers import Dense, Dropout\n",
        "from sklearn.model_selection import cross_validate\n",
        "from sklearn.metrics import confusion_matrix, roc_auc_score\n",
        "from sklearn.metrics import classification_report, matthews_corrcoef, accuracy_score\n",
        "from sklearn.metrics import roc_curve, auc"
      ]
    },
    {
      "cell_type": "code",
      "execution_count": null,
      "id": "6955e971",
      "metadata": {
        "id": "6955e971",
        "outputId": "276ec150-2333-458b-cce7-67af4243af11"
      },
      "outputs": [
        {
          "data": {
            "text/plain": [
              "'2.10.0'"
            ]
          },
          "execution_count": 106,
          "metadata": {},
          "output_type": "execute_result"
        }
      ],
      "source": [
        "tensorflow.__version__"
      ]
    },
    {
      "cell_type": "code",
      "execution_count": null,
      "id": "9f99346e",
      "metadata": {
        "id": "9f99346e",
        "outputId": "20cdf706-10d9-46cd-b75d-0bc756de2444"
      },
      "outputs": [
        {
          "data": {
            "text/plain": [
              "'2.10.0'"
            ]
          },
          "execution_count": 107,
          "metadata": {},
          "output_type": "execute_result"
        }
      ],
      "source": [
        "keras.__version__"
      ]
    },
    {
      "cell_type": "code",
      "execution_count": null,
      "id": "7a9b4e5f",
      "metadata": {
        "id": "7a9b4e5f",
        "outputId": "2fb96487-7c03-4c8e-e8ab-da4144d994a0"
      },
      "outputs": [
        {
          "data": {
            "text/plain": [
              "'1.1.2'"
            ]
          },
          "execution_count": 108,
          "metadata": {},
          "output_type": "execute_result"
        }
      ],
      "source": [
        "sklearn.__version__"
      ]
    },
    {
      "cell_type": "markdown",
      "id": "b2e5fea3",
      "metadata": {
        "id": "b2e5fea3"
      },
      "source": [
        "#### Versão 1 - Regressão Logística"
      ]
    },
    {
      "cell_type": "code",
      "execution_count": null,
      "id": "3e88ed91",
      "metadata": {
        "id": "3e88ed91",
        "outputId": "71ab0b57-223e-41aa-c869-c3fc78fb3d58"
      },
      "outputs": [
        {
          "data": {
            "text/html": [
              "<style>#sk-container-id-2 {color: black;background-color: white;}#sk-container-id-2 pre{padding: 0;}#sk-container-id-2 div.sk-toggleable {background-color: white;}#sk-container-id-2 label.sk-toggleable__label {cursor: pointer;display: block;width: 100%;margin-bottom: 0;padding: 0.3em;box-sizing: border-box;text-align: center;}#sk-container-id-2 label.sk-toggleable__label-arrow:before {content: \"▸\";float: left;margin-right: 0.25em;color: #696969;}#sk-container-id-2 label.sk-toggleable__label-arrow:hover:before {color: black;}#sk-container-id-2 div.sk-estimator:hover label.sk-toggleable__label-arrow:before {color: black;}#sk-container-id-2 div.sk-toggleable__content {max-height: 0;max-width: 0;overflow: hidden;text-align: left;background-color: #f0f8ff;}#sk-container-id-2 div.sk-toggleable__content pre {margin: 0.2em;color: black;border-radius: 0.25em;background-color: #f0f8ff;}#sk-container-id-2 input.sk-toggleable__control:checked~div.sk-toggleable__content {max-height: 200px;max-width: 100%;overflow: auto;}#sk-container-id-2 input.sk-toggleable__control:checked~label.sk-toggleable__label-arrow:before {content: \"▾\";}#sk-container-id-2 div.sk-estimator input.sk-toggleable__control:checked~label.sk-toggleable__label {background-color: #d4ebff;}#sk-container-id-2 div.sk-label input.sk-toggleable__control:checked~label.sk-toggleable__label {background-color: #d4ebff;}#sk-container-id-2 input.sk-hidden--visually {border: 0;clip: rect(1px 1px 1px 1px);clip: rect(1px, 1px, 1px, 1px);height: 1px;margin: -1px;overflow: hidden;padding: 0;position: absolute;width: 1px;}#sk-container-id-2 div.sk-estimator {font-family: monospace;background-color: #f0f8ff;border: 1px dotted black;border-radius: 0.25em;box-sizing: border-box;margin-bottom: 0.5em;}#sk-container-id-2 div.sk-estimator:hover {background-color: #d4ebff;}#sk-container-id-2 div.sk-parallel-item::after {content: \"\";width: 100%;border-bottom: 1px solid gray;flex-grow: 1;}#sk-container-id-2 div.sk-label:hover label.sk-toggleable__label {background-color: #d4ebff;}#sk-container-id-2 div.sk-serial::before {content: \"\";position: absolute;border-left: 1px solid gray;box-sizing: border-box;top: 0;bottom: 0;left: 50%;z-index: 0;}#sk-container-id-2 div.sk-serial {display: flex;flex-direction: column;align-items: center;background-color: white;padding-right: 0.2em;padding-left: 0.2em;position: relative;}#sk-container-id-2 div.sk-item {position: relative;z-index: 1;}#sk-container-id-2 div.sk-parallel {display: flex;align-items: stretch;justify-content: center;background-color: white;position: relative;}#sk-container-id-2 div.sk-item::before, #sk-container-id-2 div.sk-parallel-item::before {content: \"\";position: absolute;border-left: 1px solid gray;box-sizing: border-box;top: 0;bottom: 0;left: 50%;z-index: -1;}#sk-container-id-2 div.sk-parallel-item {display: flex;flex-direction: column;z-index: 1;position: relative;background-color: white;}#sk-container-id-2 div.sk-parallel-item:first-child::after {align-self: flex-end;width: 50%;}#sk-container-id-2 div.sk-parallel-item:last-child::after {align-self: flex-start;width: 50%;}#sk-container-id-2 div.sk-parallel-item:only-child::after {width: 0;}#sk-container-id-2 div.sk-dashed-wrapped {border: 1px dashed gray;margin: 0 0.4em 0.5em 0.4em;box-sizing: border-box;padding-bottom: 0.4em;background-color: white;}#sk-container-id-2 div.sk-label label {font-family: monospace;font-weight: bold;display: inline-block;line-height: 1.2em;}#sk-container-id-2 div.sk-label-container {text-align: center;}#sk-container-id-2 div.sk-container {/* jupyter's `normalize.less` sets `[hidden] { display: none; }` but bootstrap.min.css set `[hidden] { display: none !important; }` so we also need the `!important` here to be able to override the default hidden behavior on the sphinx rendered scikit-learn.org. See: https://github.com/scikit-learn/scikit-learn/issues/21755 */display: inline-block !important;position: relative;}#sk-container-id-2 div.sk-text-repr-fallback {display: none;}</style><div id=\"sk-container-id-2\" class=\"sk-top-container\"><div class=\"sk-text-repr-fallback\"><pre>LogisticRegression(max_iter=800)</pre><b>In a Jupyter environment, please rerun this cell to show the HTML representation or trust the notebook. <br />On GitHub, the HTML representation is unable to render, please try loading this page with nbviewer.org.</b></div><div class=\"sk-container\" hidden><div class=\"sk-item\"><div class=\"sk-estimator sk-toggleable\"><input class=\"sk-toggleable__control sk-hidden--visually\" id=\"sk-estimator-id-2\" type=\"checkbox\" checked><label for=\"sk-estimator-id-2\" class=\"sk-toggleable__label sk-toggleable__label-arrow\">LogisticRegression</label><div class=\"sk-toggleable__content\"><pre>LogisticRegression(max_iter=800)</pre></div></div></div></div></div>"
            ],
            "text/plain": [
              "LogisticRegression(max_iter=800)"
            ]
          },
          "execution_count": 109,
          "metadata": {},
          "output_type": "execute_result"
        }
      ],
      "source": [
        "# Cria e treina o modelo\n",
        "modelo_v1 = LogisticRegression(max_iter = 800)\n",
        "modelo_v1.fit(X_treino, Y_treino)"
      ]
    },
    {
      "cell_type": "code",
      "execution_count": null,
      "id": "83eb05c3",
      "metadata": {
        "id": "83eb05c3",
        "outputId": "5d909965-9888-40df-9c1b-7eeeb8aa9715"
      },
      "outputs": [
        {
          "data": {
            "text/plain": [
              "array([[0.73300947, 0.26699053],\n",
              "       [0.17975549, 0.82024451],\n",
              "       [0.00108831, 0.99891169],\n",
              "       ...,\n",
              "       [0.19824588, 0.80175412],\n",
              "       [0.00142387, 0.99857613],\n",
              "       [0.20299727, 0.79700273]])"
            ]
          },
          "execution_count": 110,
          "metadata": {},
          "output_type": "execute_result"
        }
      ],
      "source": [
        "# Previsões (probabilidades)\n",
        "previsoes_v1 = modelo_v1.predict_proba(X_teste)\n",
        "previsoes_v1"
      ]
    },
    {
      "cell_type": "code",
      "execution_count": null,
      "id": "751151e5",
      "metadata": {
        "id": "751151e5",
        "outputId": "5910cc66-db74-4584-c0c0-5abb2f5a4344"
      },
      "outputs": [
        {
          "data": {
            "text/plain": [
              "array([0, 1, 1, ..., 1, 1, 1], dtype=int64)"
            ]
          },
          "execution_count": 111,
          "metadata": {},
          "output_type": "execute_result"
        }
      ],
      "source": [
        "# Previsões (classes)\n",
        "previsoes_v1 = modelo_v1.predict(X_teste)\n",
        "previsoes_v1"
      ]
    },
    {
      "cell_type": "markdown",
      "id": "66fa7801",
      "metadata": {
        "id": "66fa7801"
      },
      "source": [
        "### Matriz de Confusão(resumo)\n",
        "\n",
        "A matriz de confusão é uma ferramenta fundamental na avaliação de modelos de classificação. Ela permite analisar o desempenho de um modelo ao comparar as previsões feitas pelo modelo com os valores reais dos dados.\n",
        "\n",
        "Uma matriz de confusão é composta por quatro elementos principais:\n",
        "\n",
        "- **Verdadeiro Positivo (VP)**: Número de vezes em que o modelo previu corretamente uma classe positiva.\n",
        "\n",
        "- **Verdadeiro Negativo (VN)**: Número de vezes em que o modelo previu corretamente uma classe negativa.\n",
        "\n",
        "- **Falso Positivo (FP)**: Número de vezes em que o modelo previu erroneamente uma classe positiva quando a verdadeira classe era negativa.\n",
        "\n",
        "- **Falso Negativo (FN)**: Número de vezes em que o modelo previu erroneamente uma classe negativa quando a verdadeira classe era positiva.\n",
        "\n",
        "A matriz de confusão é geralmente apresentada na seguinte forma:\n",
        "\n",
        "|           | Classe Positiva | Classe Negativa |\n",
        "|-----------|-----------------|-----------------|\n",
        "| Positivo  | VP              | FP              |\n",
        "| Negativo  | FN              | VN              |\n",
        "\n",
        "A partir da matriz de confusão, é possível calcular várias métricas de avaliação, incluindo:\n",
        "\n",
        "- **Acurácia (Accuracy)**: (VP + VN) / (VP + VN + FP + FN)\n",
        "\n",
        "- **Precisão (Precision)**: VP / (VP + FP)\n",
        "\n",
        "- **Revocação (Recall)**: VP / (VP + FN)\n",
        "\n",
        "- **F1-Score**: 2 * (Precision * Recall) / (Precision + Recall)\n",
        "\n",
        "Abaixo calculamos a matriz de confusão para os nosso modelo:\n"
      ]
    },
    {
      "cell_type": "code",
      "execution_count": null,
      "id": "27c5f40d",
      "metadata": {
        "id": "27c5f40d",
        "outputId": "576c767a-0b69-44d0-8296-92efa812ead3"
      },
      "outputs": [
        {
          "name": "stdout",
          "output_type": "stream",
          "text": [
            "[[7814 1688]\n",
            " [2666 6798]]\n"
          ]
        }
      ],
      "source": [
        "matriz_v1 = confusion_matrix(Y_teste, previsoes_v1)\n",
        "print(matriz_v1)"
      ]
    },
    {
      "cell_type": "markdown",
      "id": "1ca1000f",
      "metadata": {
        "id": "1ca1000f"
      },
      "source": [
        "### Relatório de Classificação (classification_report)\n",
        "\n",
        "O `classification_report` é uma função da biblioteca scikit-learn que fornece uma análise detalhada das métricas de avaliação para um modelo de classificação. Ele é uma ferramenta valiosa para entender o desempenho do modelo em cada classe individualmente, além de fornecer uma visão geral das métricas agregadas.\n",
        "\n",
        "O `classification_report` inclui as seguintes métricas para cada classe:\n",
        "\n",
        "- **Precision**: A proporção de instâncias positivas previstas corretamente em relação ao total de instâncias previstas como positivas (VP / (VP + FP)).\n",
        "\n",
        "- **Recall (Sensibilidade)**: A proporção de instâncias positivas previstas corretamente em relação ao total de instâncias reais positivas (VP / (VP + FN)).\n",
        "\n",
        "- **F1-Score**: A média harmônica entre a precisão e o recall (2 * (Precision * Recall) / (Precision + Recall)).\n",
        "\n",
        "- **Suporte**: O número total de instâncias de cada classe no conjunto de dados.\n",
        "\n",
        "- **Acurácia**: A proporção de todas as previsões corretas em relação ao total de instâncias (VP + VN) / (VP + VN + FP + FN).\n",
        "\n",
        "O relatório é organizado em forma de tabela, onde cada linha representa uma classe e as métricas são calculadas para essa classe específica. A última linha, geralmente rotulada como \"média\" ou \"macro avg\", fornece as médias das métricas para todas as classes.\n",
        "\n",
        "O `classification_report` ajuda a identificar quais classes estão sendo bem classificadas pelo modelo e quais podem estar apresentando problemas. Isso é especialmente útil quando as classes têm distribuições desiguais no conjunto de dados.\n",
        "\n",
        "Abaixo usamos o `classification_report` para o nosso modelo:"
      ]
    },
    {
      "cell_type": "code",
      "execution_count": null,
      "id": "e760cde6",
      "metadata": {
        "id": "e760cde6",
        "outputId": "7c809cea-fdb8-4e20-8122-3a2063e56900"
      },
      "outputs": [
        {
          "name": "stdout",
          "output_type": "stream",
          "text": [
            "                    precision    recall  f1-score   support\n",
            "\n",
            "Não Readmitido (0)       0.75      0.82      0.78      9502\n",
            "    Readmitido (1)       0.80      0.72      0.76      9464\n",
            "\n",
            "          accuracy                           0.77     18966\n",
            "         macro avg       0.77      0.77      0.77     18966\n",
            "      weighted avg       0.77      0.77      0.77     18966\n",
            "\n"
          ]
        }
      ],
      "source": [
        "# Relatório de classificação\n",
        "classe_names = ['Não Readmitido (0)', 'Readmitido (1)']\n",
        "report = classification_report(Y_teste, previsoes_v1, target_names = classe_names)\n",
        "print(report)"
      ]
    },
    {
      "cell_type": "markdown",
      "id": "15616fbe",
      "metadata": {
        "id": "15616fbe"
      },
      "source": [
        "### Área sob a Curva ROC (AUC)\n",
        "\n",
        "A Área sob a Curva ROC (AUC) é uma métrica comum utilizada para avaliar a capacidade discriminativa de modelos de classificação binária. A curva ROC (Receiver Operating Characteristic) é uma representação gráfica que mostra a relação entre a taxa de verdadeiros positivos (Recall) e a taxa de falsos positivos para diferentes limiares de classificação.\n",
        "\n",
        "A AUC mede a área sob a curva ROC e fornece uma medida agregada do desempenho do modelo em todas as possíveis configurações de limiar. Quanto maior a AUC, melhor o modelo é em distinguir entre as classes.\n",
        "\n",
        "Principais pontos sobre a AUC:\n",
        "\n",
        "- A AUC varia entre 0 e 1. Um modelo com AUC igual a 0,5 tem desempenho semelhante ao de um classificador aleatório, enquanto um AUC de 1 indica um classificador perfeito.\n",
        "\n",
        "- A AUC é útil quando as classes têm distribuições desiguais ou quando o custo de falsos positivos e falsos negativos é diferente.\n",
        "\n",
        "- A AUC não depende do limiar de classificação, ou seja, é uma métrica que considera todas as possíveis configurações de limiar.\n"
      ]
    },
    {
      "cell_type": "code",
      "execution_count": null,
      "id": "3159935a",
      "metadata": {
        "id": "3159935a",
        "outputId": "2d7640a0-dd98-48e6-8ad9-b528cfb23b09"
      },
      "outputs": [
        {
          "name": "stdout",
          "output_type": "stream",
          "text": [
            "0.8356819828205407\n"
          ]
        }
      ],
      "source": [
        "y_pred_probs = modelo_v1.predict_proba(X_teste)[:,1] # Usamos [:,1] para buscar as probabilidades da classe positiva.\n",
        "print(roc_auc_score(Y_teste, y_pred_probs))"
      ]
    },
    {
      "cell_type": "markdown",
      "id": "189fd085",
      "metadata": {
        "id": "189fd085"
      },
      "source": [
        "A interpretação da AUC é a seguinte:\n",
        "\n",
        "AUC próximo a 0,5: O modelo não é capaz de distinguir bem entre as classes.\n",
        "\n",
        "AUC entre 0,5 e 0,7: O modelo tem um desempenho moderado na diferenciação das classes.\n",
        "\n",
        "AUC acima de 0,7: O modelo tem um bom desempenho na classificação das classes.\n",
        "\n",
        "A AUC é uma métrica valiosa para avaliar a qualidade geral de um modelo de classificação, fornecendo uma medida robusta da sua capacidade de discriminação."
      ]
    },
    {
      "cell_type": "code",
      "execution_count": null,
      "id": "cafc59af",
      "metadata": {
        "id": "cafc59af",
        "outputId": "82a665ca-7195-401d-ede7-542a6b4b7f75"
      },
      "outputs": [
        {
          "data": {
            "image/png": "[encoded data removed]",
            "text/plain": [
              "<Figure size 1152x288 with 1 Axes>"
            ]
          },
          "metadata": {
            "needs_background": "light"
          },
          "output_type": "display_data"
        }
      ],
      "source": [
        "# Calcula a Curva ROC para cada classe\n",
        "y_probs_v1 = modelo_v1.predict_proba(X_teste)\n",
        "skplt.metrics.plot_roc_curve(Y_teste, y_probs_v1)\n",
        "plt.show()"
      ]
    },
    {
      "cell_type": "code",
      "execution_count": null,
      "id": "54b99918",
      "metadata": {
        "id": "54b99918"
      },
      "outputs": [],
      "source": []
    },
    {
      "cell_type": "code",
      "execution_count": null,
      "id": "db89171d",
      "metadata": {
        "id": "db89171d"
      },
      "outputs": [],
      "source": []
    },
    {
      "cell_type": "code",
      "execution_count": null,
      "id": "6477804b",
      "metadata": {
        "id": "6477804b"
      },
      "outputs": [],
      "source": []
    },
    {
      "cell_type": "code",
      "execution_count": null,
      "id": "81e31f9a",
      "metadata": {
        "id": "81e31f9a"
      },
      "outputs": [],
      "source": []
    },
    {
      "cell_type": "code",
      "execution_count": null,
      "id": "a8d79ae7",
      "metadata": {
        "id": "a8d79ae7"
      },
      "outputs": [],
      "source": []
    }
  ],
  "metadata": {
    "hide_input": false,
    "kernelspec": {
      "display_name": "Python 3 (ipykernel)",
      "language": "python",
      "name": "python3"
    },
    "language_info": {
      "codemirror_mode": {
        "name": "ipython",
        "version": 3
      },
      "file_extension": ".py",
      "mimetype": "text/x-python",
      "name": "python",
      "nbconvert_exporter": "python",
      "pygments_lexer": "ipython3",
      "version": "3.9.7"
    },
    "colab": {
      "provenance": []
    }
  },
  "nbformat": 4,
  "nbformat_minor": 5
}