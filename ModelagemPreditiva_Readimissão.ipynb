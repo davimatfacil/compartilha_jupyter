{
  "cells": [
    {
      "cell_type": "markdown",
      "id": "e12b6563",
      "metadata": {
        "id": "e12b6563"
      },
      "source": [
        "#### prof. Davi rocha"
      ]
    },
    {
      "cell_type": "markdown",
      "id": "42a7f5ad",
      "metadata": {
        "id": "42a7f5ad"
      },
      "source": [
        "Nosso objetivo neste projeto será prever se um paciente poderá ser readmitido em uma clínica no período de 30 dias após alta. Para isso, faremos a construção de diversos modelos preditivos usando registros eletrônicos de saúde de uma clínica fictícia.\n",
        "\n",
        "Esse projeto terá como base uma pesquisa realizada em 2018, chamada:\n",
        "\n",
        "Using Electronic Health Records and Machine Learning to Make Medical-Related Predictions from Non-Medical Data\n",
        "\n",
        "https://ieeexplore.ieee.org/document/8614004"
      ]
    },
    {
      "cell_type": "markdown",
      "id": "bca6fbf1",
      "metadata": {
        "id": "bca6fbf1"
      },
      "source": [
        "### Registros Eletrônicos de Saúde (Electronic Health Records)"
      ]
    },
    {
      "cell_type": "markdown",
      "id": "4ac0d786",
      "metadata": {
        "id": "4ac0d786"
      },
      "source": [
        "Um Registro Eletrônico de Saúde (Electronic Health Records - EHR) é uma versão digital da ficha de papel de um paciente. Os EHRs são registros em tempo real, centrados no paciente, que tornam as informações disponíveis instantânea e seguramente para usuários autorizados. Embora um EHR contenha os históricos médicos e de tratamento dos pacientes, um sistema de EHR é construído para ir além dos dados clínicos coletados no consultório de um prestador de serviços e pode incluir uma visão mais ampla do atendimento de um paciente. Os EHRs são uma parte vital da TI em saúde e podem:\n",
        "\n",
        "- Conter o histórico médico do paciente, diagnósticos, medicamentos, planos de tratamento, datas de imunização, alergias, imagens de radiologia e resultados laboratoriais e de testes.\n",
        "\n",
        "\n",
        "- Permitir acesso a ferramentas baseadas em evidências que os provedores podem usar para tomar decisões sobre o atendimento de um paciente.\n",
        "\n",
        "\n",
        "- Automatiza e simplifica o fluxo de trabalho do provedor.\n",
        "\n",
        "Um dos principais recursos de um EHR é que as informações de saúde podem ser criadas e gerenciadas por provedores autorizados em um formato digital capaz de ser compartilhado com outros provedores em mais de uma organização de saúde. Os EHRs são construídos para compartilhar informações com outros prestadores de cuidados de saúde e organizações - como laboratórios, especialistas, instalações de imagens médicas, farmácias, instalações de emergência e clínicas de escolas e locais de trabalho - para que eles contenham informações de todos os clínicos envolvidos no atendimento de um paciente."
      ]
    },
    {
      "cell_type": "markdown",
      "id": "f8a9cdf6",
      "metadata": {
        "id": "f8a9cdf6"
      },
      "source": [
        " ##  1) Carregando os Dados e Compreendendo as Variáveis"
      ]
    },
    {
      "cell_type": "code",
      "execution_count": null,
      "id": "c57ae834",
      "metadata": {
        "id": "c57ae834"
      },
      "outputs": [],
      "source": [
        "import numpy as np\n",
        "import pandas as pd\n",
        "import matplotlib.pyplot as plt\n",
        "import seaborn as sns\n",
        "%matplotlib inline\n",
        "plt.rcParams['figure.figsize'] = (16.0,4.0) #mesmo tamanho paronizado para os graficos"
      ]
    },
    {
      "cell_type": "code",
      "execution_count": null,
      "id": "9eaec2b8",
      "metadata": {
        "id": "9eaec2b8",
        "outputId": "a1e95790-652f-4fd3-e2a1-3cede39ab924"
      },
      "outputs": [
        {
          "data": {
            "text/html": [
              "<div>\n",
              "<style scoped>\n",
              "    .dataframe tbody tr th:only-of-type {\n",
              "        vertical-align: middle;\n",
              "    }\n",
              "\n",
              "    .dataframe tbody tr th {\n",
              "        vertical-align: top;\n",
              "    }\n",
              "\n",
              "    .dataframe thead th {\n",
              "        text-align: right;\n",
              "    }\n",
              "</style>\n",
              "<table border=\"1\" class=\"dataframe\">\n",
              "  <thead>\n",
              "    <tr style=\"text-align: right;\">\n",
              "      <th></th>\n",
              "      <th>IDADE</th>\n",
              "      <th>SEXO_F</th>\n",
              "      <th>SEXO_M</th>\n",
              "      <th>ADM_CORRENTE_DIAS</th>\n",
              "      <th>RECEB_MEDICAMENTOS</th>\n",
              "      <th>FEZ_EXAMES</th>\n",
              "      <th>DEPEND_QUIMICO</th>\n",
              "      <th>FUMANTE</th>\n",
              "      <th>ALCOOLISMO</th>\n",
              "      <th>NUM_DIAS_INT_PREVIA</th>\n",
              "      <th>ADM_PREVIA_DIAS</th>\n",
              "      <th>NUM_DIAS_LIC_MEDICA</th>\n",
              "      <th>READMISSAO_30_DIAS</th>\n",
              "    </tr>\n",
              "    <tr>\n",
              "      <th>ID</th>\n",
              "      <th></th>\n",
              "      <th></th>\n",
              "      <th></th>\n",
              "      <th></th>\n",
              "      <th></th>\n",
              "      <th></th>\n",
              "      <th></th>\n",
              "      <th></th>\n",
              "      <th></th>\n",
              "      <th></th>\n",
              "      <th></th>\n",
              "      <th></th>\n",
              "      <th></th>\n",
              "    </tr>\n",
              "  </thead>\n",
              "  <tbody>\n",
              "    <tr>\n",
              "      <th>0</th>\n",
              "      <td>62.0</td>\n",
              "      <td>1</td>\n",
              "      <td>0</td>\n",
              "      <td>1</td>\n",
              "      <td>0</td>\n",
              "      <td>1</td>\n",
              "      <td>0</td>\n",
              "      <td>0</td>\n",
              "      <td>0</td>\n",
              "      <td>0</td>\n",
              "      <td>0</td>\n",
              "      <td>0</td>\n",
              "      <td>1</td>\n",
              "    </tr>\n",
              "    <tr>\n",
              "      <th>1</th>\n",
              "      <td>24.0</td>\n",
              "      <td>0</td>\n",
              "      <td>1</td>\n",
              "      <td>2</td>\n",
              "      <td>0</td>\n",
              "      <td>0</td>\n",
              "      <td>1</td>\n",
              "      <td>0</td>\n",
              "      <td>0</td>\n",
              "      <td>0</td>\n",
              "      <td>0</td>\n",
              "      <td>0</td>\n",
              "      <td>0</td>\n",
              "    </tr>\n",
              "    <tr>\n",
              "      <th>2</th>\n",
              "      <td>77.0</td>\n",
              "      <td>0</td>\n",
              "      <td>1</td>\n",
              "      <td>2</td>\n",
              "      <td>0</td>\n",
              "      <td>0</td>\n",
              "      <td>1</td>\n",
              "      <td>0</td>\n",
              "      <td>0</td>\n",
              "      <td>2</td>\n",
              "      <td>2</td>\n",
              "      <td>0</td>\n",
              "      <td>0</td>\n",
              "    </tr>\n",
              "    <tr>\n",
              "      <th>3</th>\n",
              "      <td>68.0</td>\n",
              "      <td>0</td>\n",
              "      <td>1</td>\n",
              "      <td>7</td>\n",
              "      <td>0</td>\n",
              "      <td>0</td>\n",
              "      <td>1</td>\n",
              "      <td>0</td>\n",
              "      <td>0</td>\n",
              "      <td>2</td>\n",
              "      <td>2</td>\n",
              "      <td>0</td>\n",
              "      <td>0</td>\n",
              "    </tr>\n",
              "    <tr>\n",
              "      <th>4</th>\n",
              "      <td>83.0</td>\n",
              "      <td>0</td>\n",
              "      <td>1</td>\n",
              "      <td>2</td>\n",
              "      <td>0</td>\n",
              "      <td>0</td>\n",
              "      <td>1</td>\n",
              "      <td>0</td>\n",
              "      <td>0</td>\n",
              "      <td>1</td>\n",
              "      <td>1</td>\n",
              "      <td>0</td>\n",
              "      <td>0</td>\n",
              "    </tr>\n",
              "  </tbody>\n",
              "</table>\n",
              "</div>"
            ],
            "text/plain": [
              "    IDADE  SEXO_F  SEXO_M  ADM_CORRENTE_DIAS  RECEB_MEDICAMENTOS  FEZ_EXAMES  \\\n",
              "ID                                                                             \n",
              "0    62.0       1       0                  1                   0           1   \n",
              "1    24.0       0       1                  2                   0           0   \n",
              "2    77.0       0       1                  2                   0           0   \n",
              "3    68.0       0       1                  7                   0           0   \n",
              "4    83.0       0       1                  2                   0           0   \n",
              "\n",
              "    DEPEND_QUIMICO  FUMANTE  ALCOOLISMO  NUM_DIAS_INT_PREVIA  ADM_PREVIA_DIAS  \\\n",
              "ID                                                                              \n",
              "0                0        0           0                    0                0   \n",
              "1                1        0           0                    0                0   \n",
              "2                1        0           0                    2                2   \n",
              "3                1        0           0                    2                2   \n",
              "4                1        0           0                    1                1   \n",
              "\n",
              "    NUM_DIAS_LIC_MEDICA  READMISSAO_30_DIAS  \n",
              "ID                                           \n",
              "0                     0                   1  \n",
              "1                     0                   0  \n",
              "2                     0                   0  \n",
              "3                     0                   0  \n",
              "4                     0                   0  "
            ]
          },
          "execution_count": 25,
          "metadata": {},
          "output_type": "execute_result"
        }
      ],
      "source": [
        "dados = pd.read_csv('dados/dataset.csv',index_col=[0])\n",
        "dados.head()"
      ]
    },
    {
      "cell_type": "markdown",
      "id": "d887d6ea",
      "metadata": {
        "id": "d887d6ea"
      },
      "source": [
        "Dicionário de Dados\n",
        "\n",
        "- IDADE - Idade do paciente (numérica)\n",
        "- SEXO_F - paciente do sexo feminino (categórica)\n",
        "- SEXO_M - paciente do sexo masculino (categórica)\n",
        "- ADM_CORRENTE_DIAS - Dias desde a admissão atual (numérica)\n",
        "- RECEB_MEDICAMENTOS - Recebeu medicamentos na última internação (categórica)\n",
        "- FEZ_EXAMES - Fez exames na última internação (categórica)\n",
        "- DEPEND_QUIMICO - Dependendo químico (categórica)\n",
        "- FUMANTE - Fumante (categórica)\n",
        "- ALCOOLISMO - Alcoolismo (categórica)\n",
        "- NUM_DIAS_INT_PREVIA - Número de internações anteriores (numérica)\n",
        "- ADM_PREVIA_DIAS - Dias da admissão anterior (numérica)\n",
        "- NUM_DIAS_LIC_MEDICA - Licença médica (numérica)\n",
        "- READMISSAO_30_DIAS - Readmissão dentro de 30 dias após a alta. Variável target. 0 - Não / 1 - Sim"
      ]
    },
    {
      "cell_type": "code",
      "execution_count": null,
      "id": "6bb1908c",
      "metadata": {
        "id": "6bb1908c",
        "outputId": "42e0d647-41f8-46f4-a028-5ac29c376fe5"
      },
      "outputs": [
        {
          "data": {
            "text/plain": [
              "(117180, 13)"
            ]
          },
          "execution_count": 26,
          "metadata": {},
          "output_type": "execute_result"
        }
      ],
      "source": [
        "# shape dos dados\n",
        "dados.shape"
      ]
    },
    {
      "cell_type": "markdown",
      "id": "a6834644",
      "metadata": {
        "id": "a6834644"
      },
      "source": [
        "Há 117180 linhas e 13 colunas"
      ]
    },
    {
      "cell_type": "code",
      "execution_count": null,
      "id": "0c674b91",
      "metadata": {
        "id": "0c674b91",
        "outputId": "64eb78ed-3497-4d08-ffae-ab01d719e577"
      },
      "outputs": [
        {
          "name": "stdout",
          "output_type": "stream",
          "text": [
            "<class 'pandas.core.frame.DataFrame'>\n",
            "Int64Index: 117180 entries, 0 to 129999\n",
            "Data columns (total 13 columns):\n",
            " #   Column               Non-Null Count   Dtype  \n",
            "---  ------               --------------   -----  \n",
            " 0   IDADE                117180 non-null  float64\n",
            " 1   SEXO_F               117180 non-null  int64  \n",
            " 2   SEXO_M               117180 non-null  int64  \n",
            " 3   ADM_CORRENTE_DIAS    117180 non-null  int64  \n",
            " 4   RECEB_MEDICAMENTOS   117180 non-null  int64  \n",
            " 5   FEZ_EXAMES           117180 non-null  int64  \n",
            " 6   DEPEND_QUIMICO       117180 non-null  int64  \n",
            " 7   FUMANTE              117180 non-null  int64  \n",
            " 8   ALCOOLISMO           117180 non-null  int64  \n",
            " 9   NUM_DIAS_INT_PREVIA  117180 non-null  int64  \n",
            " 10  ADM_PREVIA_DIAS      117180 non-null  int64  \n",
            " 11  NUM_DIAS_LIC_MEDICA  117180 non-null  int64  \n",
            " 12  READMISSAO_30_DIAS   117180 non-null  int64  \n",
            "dtypes: float64(1), int64(12)\n",
            "memory usage: 12.5 MB\n"
          ]
        }
      ],
      "source": [
        "#Tipos de dados e outras informações\n",
        "dados.info()"
      ]
    },
    {
      "cell_type": "markdown",
      "id": "48920ce5",
      "metadata": {
        "id": "48920ce5"
      },
      "source": [
        "#### Da analise acima já concluímos que não há nulos e que  todas as nossas variaveis foram classificads como numéricas pelo pandas."
      ]
    },
    {
      "cell_type": "code",
      "execution_count": null,
      "id": "a3e0ccba",
      "metadata": {
        "id": "a3e0ccba",
        "outputId": "ab8f83fb-cc9d-4935-9607-1024191d3421"
      },
      "outputs": [
        {
          "data": {
            "text/html": [
              "<div>\n",
              "<style scoped>\n",
              "    .dataframe tbody tr th:only-of-type {\n",
              "        vertical-align: middle;\n",
              "    }\n",
              "\n",
              "    .dataframe tbody tr th {\n",
              "        vertical-align: top;\n",
              "    }\n",
              "\n",
              "    .dataframe thead th {\n",
              "        text-align: right;\n",
              "    }\n",
              "</style>\n",
              "<table border=\"1\" class=\"dataframe\">\n",
              "  <thead>\n",
              "    <tr style=\"text-align: right;\">\n",
              "      <th></th>\n",
              "      <th>IDADE</th>\n",
              "      <th>SEXO_F</th>\n",
              "      <th>SEXO_M</th>\n",
              "      <th>ADM_CORRENTE_DIAS</th>\n",
              "      <th>RECEB_MEDICAMENTOS</th>\n",
              "      <th>FEZ_EXAMES</th>\n",
              "      <th>DEPEND_QUIMICO</th>\n",
              "      <th>FUMANTE</th>\n",
              "      <th>ALCOOLISMO</th>\n",
              "      <th>NUM_DIAS_INT_PREVIA</th>\n",
              "      <th>ADM_PREVIA_DIAS</th>\n",
              "      <th>NUM_DIAS_LIC_MEDICA</th>\n",
              "      <th>READMISSAO_30_DIAS</th>\n",
              "    </tr>\n",
              "  </thead>\n",
              "  <tbody>\n",
              "    <tr>\n",
              "      <th>count</th>\n",
              "      <td>117180.000000</td>\n",
              "      <td>117180.000000</td>\n",
              "      <td>117180.000000</td>\n",
              "      <td>117180.000000</td>\n",
              "      <td>117180.000000</td>\n",
              "      <td>117180.000000</td>\n",
              "      <td>117180.000000</td>\n",
              "      <td>117180.000000</td>\n",
              "      <td>117180.000000</td>\n",
              "      <td>117180.000000</td>\n",
              "      <td>117180.000000</td>\n",
              "      <td>117180.000000</td>\n",
              "      <td>117180.000000</td>\n",
              "    </tr>\n",
              "    <tr>\n",
              "      <th>mean</th>\n",
              "      <td>65.066522</td>\n",
              "      <td>0.428239</td>\n",
              "      <td>0.571761</td>\n",
              "      <td>4.707680</td>\n",
              "      <td>0.160266</td>\n",
              "      <td>0.237020</td>\n",
              "      <td>0.597440</td>\n",
              "      <td>0.005274</td>\n",
              "      <td>0.008269</td>\n",
              "      <td>5.301988</td>\n",
              "      <td>12.328179</td>\n",
              "      <td>0.314456</td>\n",
              "      <td>0.189384</td>\n",
              "    </tr>\n",
              "    <tr>\n",
              "      <th>std</th>\n",
              "      <td>17.965229</td>\n",
              "      <td>0.494826</td>\n",
              "      <td>0.494826</td>\n",
              "      <td>6.257739</td>\n",
              "      <td>0.366854</td>\n",
              "      <td>0.425256</td>\n",
              "      <td>0.490416</td>\n",
              "      <td>0.072430</td>\n",
              "      <td>0.090559</td>\n",
              "      <td>14.324146</td>\n",
              "      <td>26.846820</td>\n",
              "      <td>3.366208</td>\n",
              "      <td>0.391815</td>\n",
              "    </tr>\n",
              "    <tr>\n",
              "      <th>min</th>\n",
              "      <td>0.000000</td>\n",
              "      <td>0.000000</td>\n",
              "      <td>0.000000</td>\n",
              "      <td>1.000000</td>\n",
              "      <td>0.000000</td>\n",
              "      <td>0.000000</td>\n",
              "      <td>0.000000</td>\n",
              "      <td>0.000000</td>\n",
              "      <td>0.000000</td>\n",
              "      <td>0.000000</td>\n",
              "      <td>0.000000</td>\n",
              "      <td>0.000000</td>\n",
              "      <td>0.000000</td>\n",
              "    </tr>\n",
              "    <tr>\n",
              "      <th>25%</th>\n",
              "      <td>56.000000</td>\n",
              "      <td>0.000000</td>\n",
              "      <td>0.000000</td>\n",
              "      <td>1.000000</td>\n",
              "      <td>0.000000</td>\n",
              "      <td>0.000000</td>\n",
              "      <td>0.000000</td>\n",
              "      <td>0.000000</td>\n",
              "      <td>0.000000</td>\n",
              "      <td>0.000000</td>\n",
              "      <td>0.000000</td>\n",
              "      <td>0.000000</td>\n",
              "      <td>0.000000</td>\n",
              "    </tr>\n",
              "    <tr>\n",
              "      <th>50%</th>\n",
              "      <td>69.000000</td>\n",
              "      <td>0.000000</td>\n",
              "      <td>1.000000</td>\n",
              "      <td>2.000000</td>\n",
              "      <td>0.000000</td>\n",
              "      <td>0.000000</td>\n",
              "      <td>1.000000</td>\n",
              "      <td>0.000000</td>\n",
              "      <td>0.000000</td>\n",
              "      <td>0.000000</td>\n",
              "      <td>0.000000</td>\n",
              "      <td>0.000000</td>\n",
              "      <td>0.000000</td>\n",
              "    </tr>\n",
              "    <tr>\n",
              "      <th>75%</th>\n",
              "      <td>78.000000</td>\n",
              "      <td>1.000000</td>\n",
              "      <td>1.000000</td>\n",
              "      <td>6.000000</td>\n",
              "      <td>0.000000</td>\n",
              "      <td>0.000000</td>\n",
              "      <td>1.000000</td>\n",
              "      <td>0.000000</td>\n",
              "      <td>0.000000</td>\n",
              "      <td>3.000000</td>\n",
              "      <td>12.000000</td>\n",
              "      <td>0.000000</td>\n",
              "      <td>0.000000</td>\n",
              "    </tr>\n",
              "    <tr>\n",
              "      <th>max</th>\n",
              "      <td>114.000000</td>\n",
              "      <td>1.000000</td>\n",
              "      <td>1.000000</td>\n",
              "      <td>307.000000</td>\n",
              "      <td>1.000000</td>\n",
              "      <td>1.000000</td>\n",
              "      <td>1.000000</td>\n",
              "      <td>1.000000</td>\n",
              "      <td>1.000000</td>\n",
              "      <td>170.000000</td>\n",
              "      <td>627.000000</td>\n",
              "      <td>315.000000</td>\n",
              "      <td>1.000000</td>\n",
              "    </tr>\n",
              "  </tbody>\n",
              "</table>\n",
              "</div>"
            ],
            "text/plain": [
              "               IDADE         SEXO_F         SEXO_M  ADM_CORRENTE_DIAS  \\\n",
              "count  117180.000000  117180.000000  117180.000000      117180.000000   \n",
              "mean       65.066522       0.428239       0.571761           4.707680   \n",
              "std        17.965229       0.494826       0.494826           6.257739   \n",
              "min         0.000000       0.000000       0.000000           1.000000   \n",
              "25%        56.000000       0.000000       0.000000           1.000000   \n",
              "50%        69.000000       0.000000       1.000000           2.000000   \n",
              "75%        78.000000       1.000000       1.000000           6.000000   \n",
              "max       114.000000       1.000000       1.000000         307.000000   \n",
              "\n",
              "       RECEB_MEDICAMENTOS     FEZ_EXAMES  DEPEND_QUIMICO        FUMANTE  \\\n",
              "count       117180.000000  117180.000000   117180.000000  117180.000000   \n",
              "mean             0.160266       0.237020        0.597440       0.005274   \n",
              "std              0.366854       0.425256        0.490416       0.072430   \n",
              "min              0.000000       0.000000        0.000000       0.000000   \n",
              "25%              0.000000       0.000000        0.000000       0.000000   \n",
              "50%              0.000000       0.000000        1.000000       0.000000   \n",
              "75%              0.000000       0.000000        1.000000       0.000000   \n",
              "max              1.000000       1.000000        1.000000       1.000000   \n",
              "\n",
              "          ALCOOLISMO  NUM_DIAS_INT_PREVIA  ADM_PREVIA_DIAS  \\\n",
              "count  117180.000000        117180.000000    117180.000000   \n",
              "mean        0.008269             5.301988        12.328179   \n",
              "std         0.090559            14.324146        26.846820   \n",
              "min         0.000000             0.000000         0.000000   \n",
              "25%         0.000000             0.000000         0.000000   \n",
              "50%         0.000000             0.000000         0.000000   \n",
              "75%         0.000000             3.000000        12.000000   \n",
              "max         1.000000           170.000000       627.000000   \n",
              "\n",
              "       NUM_DIAS_LIC_MEDICA  READMISSAO_30_DIAS  \n",
              "count        117180.000000       117180.000000  \n",
              "mean              0.314456            0.189384  \n",
              "std               3.366208            0.391815  \n",
              "min               0.000000            0.000000  \n",
              "25%               0.000000            0.000000  \n",
              "50%               0.000000            0.000000  \n",
              "75%               0.000000            0.000000  \n",
              "max             315.000000            1.000000  "
            ]
          },
          "execution_count": 28,
          "metadata": {},
          "output_type": "execute_result"
        }
      ],
      "source": [
        "#Rsumo estatistico\n",
        "dados.describe()"
      ]
    },
    {
      "cell_type": "code",
      "execution_count": null,
      "id": "49af209c",
      "metadata": {
        "id": "49af209c",
        "outputId": "6ade3347-b626-48b8-a679-e18779bc8589"
      },
      "outputs": [
        {
          "data": {
            "text/html": [
              "<div>\n",
              "<style scoped>\n",
              "    .dataframe tbody tr th:only-of-type {\n",
              "        vertical-align: middle;\n",
              "    }\n",
              "\n",
              "    .dataframe tbody tr th {\n",
              "        vertical-align: top;\n",
              "    }\n",
              "\n",
              "    .dataframe thead th {\n",
              "        text-align: right;\n",
              "    }\n",
              "</style>\n",
              "<table border=\"1\" class=\"dataframe\">\n",
              "  <thead>\n",
              "    <tr style=\"text-align: right;\">\n",
              "      <th></th>\n",
              "      <th>IDADE</th>\n",
              "      <th>SEXO_F</th>\n",
              "      <th>SEXO_M</th>\n",
              "      <th>ADM_CORRENTE_DIAS</th>\n",
              "      <th>RECEB_MEDICAMENTOS</th>\n",
              "      <th>FEZ_EXAMES</th>\n",
              "      <th>DEPEND_QUIMICO</th>\n",
              "      <th>FUMANTE</th>\n",
              "      <th>ALCOOLISMO</th>\n",
              "      <th>NUM_DIAS_INT_PREVIA</th>\n",
              "      <th>ADM_PREVIA_DIAS</th>\n",
              "      <th>NUM_DIAS_LIC_MEDICA</th>\n",
              "      <th>READMISSAO_30_DIAS</th>\n",
              "    </tr>\n",
              "    <tr>\n",
              "      <th>ID</th>\n",
              "      <th></th>\n",
              "      <th></th>\n",
              "      <th></th>\n",
              "      <th></th>\n",
              "      <th></th>\n",
              "      <th></th>\n",
              "      <th></th>\n",
              "      <th></th>\n",
              "      <th></th>\n",
              "      <th></th>\n",
              "      <th></th>\n",
              "      <th></th>\n",
              "      <th></th>\n",
              "    </tr>\n",
              "  </thead>\n",
              "  <tbody>\n",
              "    <tr>\n",
              "      <th>73</th>\n",
              "      <td>82.0</td>\n",
              "      <td>1</td>\n",
              "      <td>0</td>\n",
              "      <td>1</td>\n",
              "      <td>1</td>\n",
              "      <td>0</td>\n",
              "      <td>0</td>\n",
              "      <td>0</td>\n",
              "      <td>0</td>\n",
              "      <td>0</td>\n",
              "      <td>0</td>\n",
              "      <td>0</td>\n",
              "      <td>0</td>\n",
              "    </tr>\n",
              "    <tr>\n",
              "      <th>88</th>\n",
              "      <td>38.0</td>\n",
              "      <td>0</td>\n",
              "      <td>1</td>\n",
              "      <td>2</td>\n",
              "      <td>0</td>\n",
              "      <td>0</td>\n",
              "      <td>1</td>\n",
              "      <td>0</td>\n",
              "      <td>0</td>\n",
              "      <td>0</td>\n",
              "      <td>0</td>\n",
              "      <td>0</td>\n",
              "      <td>0</td>\n",
              "    </tr>\n",
              "    <tr>\n",
              "      <th>183</th>\n",
              "      <td>40.0</td>\n",
              "      <td>1</td>\n",
              "      <td>0</td>\n",
              "      <td>5</td>\n",
              "      <td>0</td>\n",
              "      <td>0</td>\n",
              "      <td>1</td>\n",
              "      <td>0</td>\n",
              "      <td>0</td>\n",
              "      <td>0</td>\n",
              "      <td>0</td>\n",
              "      <td>0</td>\n",
              "      <td>0</td>\n",
              "    </tr>\n",
              "    <tr>\n",
              "      <th>185</th>\n",
              "      <td>70.0</td>\n",
              "      <td>0</td>\n",
              "      <td>1</td>\n",
              "      <td>1</td>\n",
              "      <td>1</td>\n",
              "      <td>0</td>\n",
              "      <td>0</td>\n",
              "      <td>0</td>\n",
              "      <td>0</td>\n",
              "      <td>1</td>\n",
              "      <td>1</td>\n",
              "      <td>0</td>\n",
              "      <td>0</td>\n",
              "    </tr>\n",
              "    <tr>\n",
              "      <th>263</th>\n",
              "      <td>64.0</td>\n",
              "      <td>0</td>\n",
              "      <td>1</td>\n",
              "      <td>2</td>\n",
              "      <td>0</td>\n",
              "      <td>0</td>\n",
              "      <td>1</td>\n",
              "      <td>0</td>\n",
              "      <td>0</td>\n",
              "      <td>0</td>\n",
              "      <td>0</td>\n",
              "      <td>0</td>\n",
              "      <td>0</td>\n",
              "    </tr>\n",
              "    <tr>\n",
              "      <th>...</th>\n",
              "      <td>...</td>\n",
              "      <td>...</td>\n",
              "      <td>...</td>\n",
              "      <td>...</td>\n",
              "      <td>...</td>\n",
              "      <td>...</td>\n",
              "      <td>...</td>\n",
              "      <td>...</td>\n",
              "      <td>...</td>\n",
              "      <td>...</td>\n",
              "      <td>...</td>\n",
              "      <td>...</td>\n",
              "      <td>...</td>\n",
              "    </tr>\n",
              "    <tr>\n",
              "      <th>129994</th>\n",
              "      <td>79.0</td>\n",
              "      <td>0</td>\n",
              "      <td>1</td>\n",
              "      <td>6</td>\n",
              "      <td>0</td>\n",
              "      <td>0</td>\n",
              "      <td>1</td>\n",
              "      <td>0</td>\n",
              "      <td>0</td>\n",
              "      <td>0</td>\n",
              "      <td>0</td>\n",
              "      <td>0</td>\n",
              "      <td>0</td>\n",
              "    </tr>\n",
              "    <tr>\n",
              "      <th>129995</th>\n",
              "      <td>79.0</td>\n",
              "      <td>0</td>\n",
              "      <td>1</td>\n",
              "      <td>1</td>\n",
              "      <td>1</td>\n",
              "      <td>0</td>\n",
              "      <td>0</td>\n",
              "      <td>0</td>\n",
              "      <td>0</td>\n",
              "      <td>1</td>\n",
              "      <td>1</td>\n",
              "      <td>0</td>\n",
              "      <td>0</td>\n",
              "    </tr>\n",
              "    <tr>\n",
              "      <th>129997</th>\n",
              "      <td>52.0</td>\n",
              "      <td>0</td>\n",
              "      <td>1</td>\n",
              "      <td>4</td>\n",
              "      <td>1</td>\n",
              "      <td>0</td>\n",
              "      <td>0</td>\n",
              "      <td>0</td>\n",
              "      <td>0</td>\n",
              "      <td>0</td>\n",
              "      <td>0</td>\n",
              "      <td>0</td>\n",
              "      <td>0</td>\n",
              "    </tr>\n",
              "    <tr>\n",
              "      <th>129998</th>\n",
              "      <td>70.0</td>\n",
              "      <td>1</td>\n",
              "      <td>0</td>\n",
              "      <td>1</td>\n",
              "      <td>0</td>\n",
              "      <td>0</td>\n",
              "      <td>1</td>\n",
              "      <td>0</td>\n",
              "      <td>0</td>\n",
              "      <td>2</td>\n",
              "      <td>2</td>\n",
              "      <td>0</td>\n",
              "      <td>0</td>\n",
              "    </tr>\n",
              "    <tr>\n",
              "      <th>129999</th>\n",
              "      <td>77.0</td>\n",
              "      <td>0</td>\n",
              "      <td>1</td>\n",
              "      <td>4</td>\n",
              "      <td>0</td>\n",
              "      <td>0</td>\n",
              "      <td>1</td>\n",
              "      <td>0</td>\n",
              "      <td>0</td>\n",
              "      <td>0</td>\n",
              "      <td>0</td>\n",
              "      <td>0</td>\n",
              "      <td>0</td>\n",
              "    </tr>\n",
              "  </tbody>\n",
              "</table>\n",
              "<p>60839 rows × 13 columns</p>\n",
              "</div>"
            ],
            "text/plain": [
              "        IDADE  SEXO_F  SEXO_M  ADM_CORRENTE_DIAS  RECEB_MEDICAMENTOS  \\\n",
              "ID                                                                     \n",
              "73       82.0       1       0                  1                   1   \n",
              "88       38.0       0       1                  2                   0   \n",
              "183      40.0       1       0                  5                   0   \n",
              "185      70.0       0       1                  1                   1   \n",
              "263      64.0       0       1                  2                   0   \n",
              "...       ...     ...     ...                ...                 ...   \n",
              "129994   79.0       0       1                  6                   0   \n",
              "129995   79.0       0       1                  1                   1   \n",
              "129997   52.0       0       1                  4                   1   \n",
              "129998   70.0       1       0                  1                   0   \n",
              "129999   77.0       0       1                  4                   0   \n",
              "\n",
              "        FEZ_EXAMES  DEPEND_QUIMICO  FUMANTE  ALCOOLISMO  NUM_DIAS_INT_PREVIA  \\\n",
              "ID                                                                             \n",
              "73               0               0        0           0                    0   \n",
              "88               0               1        0           0                    0   \n",
              "183              0               1        0           0                    0   \n",
              "185              0               0        0           0                    1   \n",
              "263              0               1        0           0                    0   \n",
              "...            ...             ...      ...         ...                  ...   \n",
              "129994           0               1        0           0                    0   \n",
              "129995           0               0        0           0                    1   \n",
              "129997           0               0        0           0                    0   \n",
              "129998           0               1        0           0                    2   \n",
              "129999           0               1        0           0                    0   \n",
              "\n",
              "        ADM_PREVIA_DIAS  NUM_DIAS_LIC_MEDICA  READMISSAO_30_DIAS  \n",
              "ID                                                                \n",
              "73                    0                    0                   0  \n",
              "88                    0                    0                   0  \n",
              "183                   0                    0                   0  \n",
              "185                   1                    0                   0  \n",
              "263                   0                    0                   0  \n",
              "...                 ...                  ...                 ...  \n",
              "129994                0                    0                   0  \n",
              "129995                1                    0                   0  \n",
              "129997                0                    0                   0  \n",
              "129998                2                    0                   0  \n",
              "129999                0                    0                   0  \n",
              "\n",
              "[60839 rows x 13 columns]"
            ]
          },
          "execution_count": 29,
          "metadata": {},
          "output_type": "execute_result"
        }
      ],
      "source": [
        "#Há linhas duplicadas\n",
        "\n",
        "dados[dados.duplicated()]"
      ]
    },
    {
      "cell_type": "code",
      "execution_count": null,
      "id": "68bb4ec5",
      "metadata": {
        "id": "68bb4ec5",
        "outputId": "3619b895-3647-41da-e599-4f4a628ee8c8"
      },
      "outputs": [
        {
          "data": {
            "text/plain": [
              "60839"
            ]
          },
          "execution_count": 30,
          "metadata": {},
          "output_type": "execute_result"
        }
      ],
      "source": [
        "dados.duplicated().sum()"
      ]
    },
    {
      "cell_type": "markdown",
      "id": "88880a89",
      "metadata": {
        "id": "88880a89"
      },
      "source": [
        "A analise acima indicou que há 60839 dados duplicados,porém podem se apcientes que possuem algumas caracteristicas identicas, por exemplo: dois pacientes podem ter a mesma idade, sexo, dias de internação, mesma quantide de exames, ETC. Pode ocorrer!"
      ]
    },
    {
      "cell_type": "markdown",
      "id": "39bd36f6",
      "metadata": {
        "id": "39bd36f6"
      },
      "source": [
        "Vamos manter esses dados duplicados e verificar como os modelos performam! Pois não temos certeza, com as informações que temos se são dados duplicados por erro de coleta ou se existem pacientes com as mesmas caracteristicas       "
      ]
    },
    {
      "cell_type": "code",
      "execution_count": null,
      "id": "aef6601e",
      "metadata": {
        "id": "aef6601e"
      },
      "outputs": [],
      "source": [
        "# Função para visualizar a distribuição de cada variável\n",
        "def cria_histograma(dataset, features, rows, cols):\n",
        "    fig = plt.figure(figsize = (20,20))\n",
        "\n",
        "    for i, feature in enumerate(features):\n",
        "        ax = fig.add_subplot(rows, cols, i+1)\n",
        "        dataset[feature].hist(bins = 20, ax = ax, facecolor = 'midnightblue')\n",
        "        ax.set_title(feature + \" Distribuição\", color = 'DarkRed')\n",
        "\n",
        "    fig.tight_layout()\n",
        "    plt.show()"
      ]
    },
    {
      "cell_type": "code",
      "execution_count": null,
      "id": "1b9150fd",
      "metadata": {
        "id": "1b9150fd",
        "outputId": "9ee4f5d0-cbca-4b7e-c59d-dbf5ea0f0a33"
      },
      "outputs": [
        {
          "data": {
            "image/png": "[encoded data removed]",
            "text/plain": [
              "<Figure size 1440x1440 with 13 Axes>"
            ]
          },
          "metadata": {
            "needs_background": "light"
          },
          "output_type": "display_data"
        }
      ],
      "source": [
        "# Executa a função\n",
        "cria_histograma(dados, dados.columns, 6, 3)"
      ]
    },
    {
      "cell_type": "markdown",
      "id": "75c3d666",
      "metadata": {
        "id": "75c3d666"
      },
      "source": [
        "#### Analise dos histogrmas:\n",
        "\n",
        "- idade:\n",
        "\n",
        "a) chama a atenção idades com valor zero, será que criannças com menos de um ano foram internadas? Ou erro de digitação?\n",
        "\n",
        "b) existem idades maiores que 100. Seráum outlier?\n",
        "\n",
        "Observe que esses itens a) e b) já apareceram no resumo estatístico(describe)\n",
        "\n",
        "- sexo_F e sexo_M parecem estar ok\n",
        "\n",
        "- em realçao a medicamentos parece que a maioria dos pacientes nao recebeu medicamento e a maioria também nao fez exames, será que está correto?\n",
        "\n",
        "- na variavel dependente quimico cham a atenção que o grafico diz que a maioria é dependente quimico. Porém a pergunta que fica é dependente de que, remedios, drogas?\n",
        "\n",
        "- nesse dataset diz que a maioria nao fuma e a maioria também não bebe. isso leva a inferir(semprovas) que talvez a depdendencia quimica vista anteriormentye seja de remedios mesmo... mas nao temos certeza. Geralmente quem usa drogas também fuma e bebe, ou pelo menos um dos dois...\n",
        "\n",
        "\n",
        "\n",
        "- READMISSAO_30_DIAS:\n",
        "\n",
        "dados desbalanceados, há mais dados em que não ocorreram readmissão"
      ]
    },
    {
      "cell_type": "markdown",
      "id": "28a1d7fa",
      "metadata": {
        "id": "28a1d7fa"
      },
      "source": [
        "### Checando Outliers\n",
        "\n",
        "Um outlier é um ponto ou conjunto de pontos que são muito diferentes de outros pontos, valores extremos. Às vezes, eles podem ser muito altos ou muito baixos. Geralmente, é uma boa ideia detectar e remover os valores discrepantes.\n",
        "\n",
        "Os valores discrepantes são uma das principais razões para um modelo menos preciso.\n",
        "\n",
        "Por isso, é uma boa ideia removê-los."
      ]
    },
    {
      "cell_type": "markdown",
      "id": "b7b009ce",
      "metadata": {
        "id": "b7b009ce"
      },
      "source": [
        "Na estatística descritiva, um gráfico de caixa (Boxplot) é um método para representar graficamente grupos de dados numéricos através de seus quartis. Os gráficos de caixa também podem ter linhas que se estendem verticalmente (ou horizontalmente) a partir das caixas (bigodes), indicando variabilidade fora dos quartis superior e inferior. Os outliers podem ser plotados como pontos individuais.\n",
        "\n",
        "A definição acima sugere que, se houver um outlier, ele será plotado como ponto no boxplot.\n",
        "\n",
        "O gráfico abaixo mostra dois pontos bem acima de 100 anos, estes são outliers, pois não estão incluídos na caixa, ou seja, nenhum lugar perto dos quartis. O mesmo raciocínio para os pontos abaixo de 20 anos."
      ]
    },
    {
      "cell_type": "code",
      "execution_count": null,
      "id": "cc2f7542",
      "metadata": {
        "id": "cc2f7542",
        "outputId": "c6a6ee05-0fa1-4cbd-a5f4-f2f739eeecc4"
      },
      "outputs": [
        {
          "data": {
            "image/png": "[encoded data removed]",
            "text/plain": [
              "<Figure size 1152x288 with 1 Axes>"
            ]
          },
          "metadata": {
            "needs_background": "light"
          },
          "output_type": "display_data"
        }
      ],
      "source": [
        "# Visualizando os outliers da variável IDADE\n",
        "sns.boxplot(x = dados['IDADE'])\n",
        "plt.show()"
      ]
    },
    {
      "cell_type": "raw",
      "id": "dee5be8b",
      "metadata": {
        "id": "dee5be8b"
      },
      "source": []
    },
    {
      "cell_type": "raw",
      "id": "1a6accb1",
      "metadata": {
        "id": "1a6accb1"
      },
      "source": [
        "Pergunta: Já que a mediana das idades pe de cerca de 70 anos, porque há nesses dados pessoas menores que 20 anos?\n",
        "Que tipos de pessoas essa clinica atende, será que não atende só adultos? Será um erro de coleta de dados?\n",
        "essa é a hora que precisariamos do conhecedor de negocio !!"
      ]
    },
    {
      "cell_type": "markdown",
      "id": "4976704d",
      "metadata": {
        "id": "4976704d"
      },
      "source": [
        "Vamos tomar uma decisao aqui: Vamos retirar todas as linhas que tenham idade maior que 110 anos e menor que 5 anos.\n",
        "\n",
        "Vamos testar assimj, se necessário, apos abvaliar o modelo podemos voltar e incluir esses dados ou aumentar o range de dados"
      ]
    },
    {
      "cell_type": "code",
      "execution_count": null,
      "id": "99052812",
      "metadata": {
        "id": "99052812",
        "outputId": "bd8e93c3-2e78-4929-fc7f-4948e2640e2e"
      },
      "outputs": [
        {
          "data": {
            "text/html": [
              "<div>\n",
              "<style scoped>\n",
              "    .dataframe tbody tr th:only-of-type {\n",
              "        vertical-align: middle;\n",
              "    }\n",
              "\n",
              "    .dataframe tbody tr th {\n",
              "        vertical-align: top;\n",
              "    }\n",
              "\n",
              "    .dataframe thead th {\n",
              "        text-align: right;\n",
              "    }\n",
              "</style>\n",
              "<table border=\"1\" class=\"dataframe\">\n",
              "  <thead>\n",
              "    <tr style=\"text-align: right;\">\n",
              "      <th></th>\n",
              "      <th>IDADE</th>\n",
              "      <th>SEXO_F</th>\n",
              "      <th>SEXO_M</th>\n",
              "      <th>ADM_CORRENTE_DIAS</th>\n",
              "      <th>RECEB_MEDICAMENTOS</th>\n",
              "      <th>FEZ_EXAMES</th>\n",
              "      <th>DEPEND_QUIMICO</th>\n",
              "      <th>FUMANTE</th>\n",
              "      <th>ALCOOLISMO</th>\n",
              "      <th>NUM_DIAS_INT_PREVIA</th>\n",
              "      <th>ADM_PREVIA_DIAS</th>\n",
              "      <th>NUM_DIAS_LIC_MEDICA</th>\n",
              "      <th>READMISSAO_30_DIAS</th>\n",
              "    </tr>\n",
              "    <tr>\n",
              "      <th>ID</th>\n",
              "      <th></th>\n",
              "      <th></th>\n",
              "      <th></th>\n",
              "      <th></th>\n",
              "      <th></th>\n",
              "      <th></th>\n",
              "      <th></th>\n",
              "      <th></th>\n",
              "      <th></th>\n",
              "      <th></th>\n",
              "      <th></th>\n",
              "      <th></th>\n",
              "      <th></th>\n",
              "    </tr>\n",
              "  </thead>\n",
              "  <tbody>\n",
              "    <tr>\n",
              "      <th>5204</th>\n",
              "      <td>0.0</td>\n",
              "      <td>0</td>\n",
              "      <td>1</td>\n",
              "      <td>3</td>\n",
              "      <td>1</td>\n",
              "      <td>0</td>\n",
              "      <td>0</td>\n",
              "      <td>0</td>\n",
              "      <td>0</td>\n",
              "      <td>0</td>\n",
              "      <td>0</td>\n",
              "      <td>0</td>\n",
              "      <td>0</td>\n",
              "    </tr>\n",
              "    <tr>\n",
              "      <th>9588</th>\n",
              "      <td>0.0</td>\n",
              "      <td>1</td>\n",
              "      <td>0</td>\n",
              "      <td>1</td>\n",
              "      <td>0</td>\n",
              "      <td>1</td>\n",
              "      <td>0</td>\n",
              "      <td>0</td>\n",
              "      <td>0</td>\n",
              "      <td>0</td>\n",
              "      <td>0</td>\n",
              "      <td>0</td>\n",
              "      <td>0</td>\n",
              "    </tr>\n",
              "    <tr>\n",
              "      <th>12103</th>\n",
              "      <td>2.0</td>\n",
              "      <td>1</td>\n",
              "      <td>0</td>\n",
              "      <td>1</td>\n",
              "      <td>1</td>\n",
              "      <td>0</td>\n",
              "      <td>0</td>\n",
              "      <td>0</td>\n",
              "      <td>0</td>\n",
              "      <td>1</td>\n",
              "      <td>3</td>\n",
              "      <td>0</td>\n",
              "      <td>0</td>\n",
              "    </tr>\n",
              "    <tr>\n",
              "      <th>19961</th>\n",
              "      <td>0.0</td>\n",
              "      <td>0</td>\n",
              "      <td>1</td>\n",
              "      <td>13</td>\n",
              "      <td>0</td>\n",
              "      <td>0</td>\n",
              "      <td>1</td>\n",
              "      <td>0</td>\n",
              "      <td>0</td>\n",
              "      <td>0</td>\n",
              "      <td>0</td>\n",
              "      <td>0</td>\n",
              "      <td>0</td>\n",
              "    </tr>\n",
              "    <tr>\n",
              "      <th>21779</th>\n",
              "      <td>0.0</td>\n",
              "      <td>0</td>\n",
              "      <td>1</td>\n",
              "      <td>2</td>\n",
              "      <td>0</td>\n",
              "      <td>0</td>\n",
              "      <td>1</td>\n",
              "      <td>0</td>\n",
              "      <td>0</td>\n",
              "      <td>0</td>\n",
              "      <td>0</td>\n",
              "      <td>0</td>\n",
              "      <td>0</td>\n",
              "    </tr>\n",
              "    <tr>\n",
              "      <th>...</th>\n",
              "      <td>...</td>\n",
              "      <td>...</td>\n",
              "      <td>...</td>\n",
              "      <td>...</td>\n",
              "      <td>...</td>\n",
              "      <td>...</td>\n",
              "      <td>...</td>\n",
              "      <td>...</td>\n",
              "      <td>...</td>\n",
              "      <td>...</td>\n",
              "      <td>...</td>\n",
              "      <td>...</td>\n",
              "      <td>...</td>\n",
              "    </tr>\n",
              "    <tr>\n",
              "      <th>123922</th>\n",
              "      <td>0.0</td>\n",
              "      <td>1</td>\n",
              "      <td>0</td>\n",
              "      <td>3</td>\n",
              "      <td>0</td>\n",
              "      <td>0</td>\n",
              "      <td>1</td>\n",
              "      <td>0</td>\n",
              "      <td>0</td>\n",
              "      <td>0</td>\n",
              "      <td>0</td>\n",
              "      <td>0</td>\n",
              "      <td>0</td>\n",
              "    </tr>\n",
              "    <tr>\n",
              "      <th>124137</th>\n",
              "      <td>0.0</td>\n",
              "      <td>0</td>\n",
              "      <td>1</td>\n",
              "      <td>7</td>\n",
              "      <td>1</td>\n",
              "      <td>0</td>\n",
              "      <td>0</td>\n",
              "      <td>0</td>\n",
              "      <td>0</td>\n",
              "      <td>0</td>\n",
              "      <td>0</td>\n",
              "      <td>0</td>\n",
              "      <td>0</td>\n",
              "    </tr>\n",
              "    <tr>\n",
              "      <th>126609</th>\n",
              "      <td>0.0</td>\n",
              "      <td>1</td>\n",
              "      <td>0</td>\n",
              "      <td>2</td>\n",
              "      <td>0</td>\n",
              "      <td>0</td>\n",
              "      <td>1</td>\n",
              "      <td>0</td>\n",
              "      <td>0</td>\n",
              "      <td>0</td>\n",
              "      <td>0</td>\n",
              "      <td>0</td>\n",
              "      <td>0</td>\n",
              "    </tr>\n",
              "    <tr>\n",
              "      <th>127080</th>\n",
              "      <td>0.0</td>\n",
              "      <td>1</td>\n",
              "      <td>0</td>\n",
              "      <td>15</td>\n",
              "      <td>0</td>\n",
              "      <td>0</td>\n",
              "      <td>1</td>\n",
              "      <td>0</td>\n",
              "      <td>0</td>\n",
              "      <td>0</td>\n",
              "      <td>0</td>\n",
              "      <td>0</td>\n",
              "      <td>0</td>\n",
              "    </tr>\n",
              "    <tr>\n",
              "      <th>128078</th>\n",
              "      <td>2.0</td>\n",
              "      <td>1</td>\n",
              "      <td>0</td>\n",
              "      <td>1</td>\n",
              "      <td>0</td>\n",
              "      <td>0</td>\n",
              "      <td>1</td>\n",
              "      <td>0</td>\n",
              "      <td>0</td>\n",
              "      <td>2</td>\n",
              "      <td>4</td>\n",
              "      <td>0</td>\n",
              "      <td>0</td>\n",
              "    </tr>\n",
              "  </tbody>\n",
              "</table>\n",
              "<p>170 rows × 13 columns</p>\n",
              "</div>"
            ],
            "text/plain": [
              "        IDADE  SEXO_F  SEXO_M  ADM_CORRENTE_DIAS  RECEB_MEDICAMENTOS  \\\n",
              "ID                                                                     \n",
              "5204      0.0       0       1                  3                   1   \n",
              "9588      0.0       1       0                  1                   0   \n",
              "12103     2.0       1       0                  1                   1   \n",
              "19961     0.0       0       1                 13                   0   \n",
              "21779     0.0       0       1                  2                   0   \n",
              "...       ...     ...     ...                ...                 ...   \n",
              "123922    0.0       1       0                  3                   0   \n",
              "124137    0.0       0       1                  7                   1   \n",
              "126609    0.0       1       0                  2                   0   \n",
              "127080    0.0       1       0                 15                   0   \n",
              "128078    2.0       1       0                  1                   0   \n",
              "\n",
              "        FEZ_EXAMES  DEPEND_QUIMICO  FUMANTE  ALCOOLISMO  NUM_DIAS_INT_PREVIA  \\\n",
              "ID                                                                             \n",
              "5204             0               0        0           0                    0   \n",
              "9588             1               0        0           0                    0   \n",
              "12103            0               0        0           0                    1   \n",
              "19961            0               1        0           0                    0   \n",
              "21779            0               1        0           0                    0   \n",
              "...            ...             ...      ...         ...                  ...   \n",
              "123922           0               1        0           0                    0   \n",
              "124137           0               0        0           0                    0   \n",
              "126609           0               1        0           0                    0   \n",
              "127080           0               1        0           0                    0   \n",
              "128078           0               1        0           0                    2   \n",
              "\n",
              "        ADM_PREVIA_DIAS  NUM_DIAS_LIC_MEDICA  READMISSAO_30_DIAS  \n",
              "ID                                                                \n",
              "5204                  0                    0                   0  \n",
              "9588                  0                    0                   0  \n",
              "12103                 3                    0                   0  \n",
              "19961                 0                    0                   0  \n",
              "21779                 0                    0                   0  \n",
              "...                 ...                  ...                 ...  \n",
              "123922                0                    0                   0  \n",
              "124137                0                    0                   0  \n",
              "126609                0                    0                   0  \n",
              "127080                0                    0                   0  \n",
              "128078                4                    0                   0  \n",
              "\n",
              "[170 rows x 13 columns]"
            ]
          },
          "execution_count": 34,
          "metadata": {},
          "output_type": "execute_result"
        }
      ],
      "source": [
        "outliers_idade = dados[(dados['IDADE']> 110) | (dados['IDADE']<5)]\n",
        "outliers_idade.head()"
      ]
    },
    {
      "cell_type": "code",
      "execution_count": null,
      "id": "0f179acf",
      "metadata": {
        "id": "0f179acf",
        "outputId": "883f5105-6367-4590-96bd-301526483233"
      },
      "outputs": [
        {
          "data": {
            "image/png": "[encoded data removed]",
            "text/plain": [
              "<Figure size 1152x288 with 1 Axes>"
            ]
          },
          "metadata": {
            "needs_background": "light"
          },
          "output_type": "display_data"
        }
      ],
      "source": [
        "#Histograma antes da retirda\n",
        "dados.IDADE.hist();"
      ]
    },
    {
      "cell_type": "code",
      "execution_count": null,
      "id": "b0a11bad",
      "metadata": {
        "id": "b0a11bad"
      },
      "outputs": [],
      "source": [
        "dados = dados.drop(outliers_idade.index)"
      ]
    },
    {
      "cell_type": "code",
      "execution_count": null,
      "id": "6f9ee47e",
      "metadata": {
        "id": "6f9ee47e",
        "outputId": "5339747d-ba38-4bb4-bb5c-bb4fd7f932d6"
      },
      "outputs": [
        {
          "data": {
            "image/png": "[encoded data removed]",
            "text/plain": [
              "<Figure size 1152x288 with 1 Axes>"
            ]
          },
          "metadata": {
            "needs_background": "light"
          },
          "output_type": "display_data"
        }
      ],
      "source": [
        "#Histograma apos  retirada\n",
        "dados.IDADE.hist();"
      ]
    },
    {
      "cell_type": "code",
      "execution_count": null,
      "id": "e39656cd",
      "metadata": {
        "id": "e39656cd",
        "outputId": "1f22b027-7d26-40f1-dd4f-8cb98d2ae2c4"
      },
      "outputs": [
        {
          "data": {
            "image/png": "[encoded data removed]",
            "text/plain": [
              "<Figure size 1152x288 with 1 Axes>"
            ]
          },
          "metadata": {
            "needs_background": "light"
          },
          "output_type": "display_data"
        }
      ],
      "source": [
        "# Visualizando os outliers da variável ADM_CORRENTE_DIAS\n",
        "sns.boxplot(x = dados['ADM_CORRENTE_DIAS'])\n",
        "plt.show()"
      ]
    },
    {
      "cell_type": "code",
      "execution_count": null,
      "id": "7103ed6c",
      "metadata": {
        "id": "7103ed6c"
      },
      "outputs": [],
      "source": [
        "#Vamos remover outliers:\n",
        "\n",
        "dados = dados.drop(dados[(dados['ADM_CORRENTE_DIAS']>180)].index)"
      ]
    },
    {
      "cell_type": "code",
      "execution_count": null,
      "id": "462ade97",
      "metadata": {
        "id": "462ade97"
      },
      "outputs": [],
      "source": []
    }
  ],
  "metadata": {
    "hide_input": false,
    "kernelspec": {
      "display_name": "Python 3 (ipykernel)",
      "language": "python",
      "name": "python3"
    },
    "language_info": {
      "codemirror_mode": {
        "name": "ipython",
        "version": 3
      },
      "file_extension": ".py",
      "mimetype": "text/x-python",
      "name": "python",
      "nbconvert_exporter": "python",
      "pygments_lexer": "ipython3",
      "version": "3.9.7"
    },
    "colab": {
      "provenance": []
    }
  },
  "nbformat": 4,
  "nbformat_minor": 5
}